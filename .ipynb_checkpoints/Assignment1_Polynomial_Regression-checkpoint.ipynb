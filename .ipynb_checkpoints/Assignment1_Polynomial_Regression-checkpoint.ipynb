{
 "cells": [
  {
   "cell_type": "markdown",
   "metadata": {
    "id": "nz_9QnWBj9_6"
   },
   "source": [
    "# Polynomial Regression Assignment (Please do not remove the output cells)"
   ]
  },
  {
   "cell_type": "markdown",
   "metadata": {
    "id": "oNtRAlw1uQYi"
   },
   "source": [
    "## The objective is to apply polynomial regression on the provided data using 3 regularization techniques"
   ]
  },
  {
   "cell_type": "markdown",
   "metadata": {
    "id": "0Sh_Oqa2j9_7"
   },
   "source": [
    "Tasks are defined below:\n",
    "1-  Read the dataset, and get acquainted with its features and labels. Check the link below for more details about the data.  \n",
    "https://archive.ics.uci.edu/ml/datasets/Air+Quality  \n",
    "\n",
    "2-  This dataset has 5 different output labels. For this assignment we only need the NO2 output. Please drop other outputs.  \n",
    "\n",
    "3-  Handle missing data similar to what was covered in tutorial 3.  \n",
    "\n",
    "4-  Replace the date feature with 3 separate features (Day, Month and Year).  \n",
    "\n",
    "5-  Replace the time feature with 3 separate features (Hours, Minutes and Seconds).  \n",
    "\n",
    "6-  Apply feature scaling.  \n",
    "\n",
    "7-  Evaluate different degrees of lasso CV polynomial regression.  \n",
    "\n",
    "8-  Choose the best degree and print the errors on the test data, model coefficients and the lasso parameters.  \n",
    "\n",
    "9-  Repeat steps 4 and 5 using Ridge CV polynomial regression.  \n",
    "\n",
    "10- Repeat steps 4 and 5 using ElasticNet CV polynomial regression.  \n",
    "\n",
    "11- Compare the errors from the 3 regularization techniques, and save the best model.  \n",
    "\n",
    "12- Load the best model and test it on a sample that you manually created it.  \n"
   ]
  },
  {
   "cell_type": "markdown",
   "metadata": {},
   "source": [
    "## Enter your IDs and Names below"
   ]
  },
  {
   "cell_type": "markdown",
   "metadata": {},
   "source": [
    "1-   \n",
    "  \n",
    "2-"
   ]
  },
  {
   "cell_type": "markdown",
   "metadata": {
    "id": "bsZFdAtSj9_8"
   },
   "source": [
    "\n",
    "### Imports"
   ]
  },
  {
   "cell_type": "code",
   "execution_count": null,
   "metadata": {
    "collapsed": true,
    "id": "nuN2-J1bj9_9"
   },
   "outputs": [],
   "source": []
  },
  {
   "cell_type": "markdown",
   "metadata": {
    "id": "hszifOuTj9__"
   },
   "source": [
    "### 1- Read the data"
   ]
  },
  {
   "cell_type": "code",
   "execution_count": null,
   "metadata": {
    "collapsed": true,
    "id": "ZzX469qmUTu2"
   },
   "outputs": [],
   "source": []
  },
  {
   "cell_type": "markdown",
   "metadata": {
    "id": "TMHFhOfXuQYl"
   },
   "source": [
    "### 2- Drop unwanted labels"
   ]
  },
  {
   "cell_type": "code",
   "execution_count": null,
   "metadata": {
    "collapsed": true,
    "id": "L7395CTWuQYm"
   },
   "outputs": [],
   "source": []
  },
  {
   "cell_type": "markdown",
   "metadata": {
    "id": "rMSYDzn1uQYm"
   },
   "source": [
    "### 3- Handle missing data"
   ]
  },
  {
   "cell_type": "code",
   "execution_count": null,
   "metadata": {
    "collapsed": true,
    "id": "FEai7yH9uQYn"
   },
   "outputs": [],
   "source": []
  },
  {
   "cell_type": "markdown",
   "metadata": {
    "id": "v7vinFJmuQYn"
   },
   "source": [
    "### 4- Replace date feature"
   ]
  },
  {
   "cell_type": "code",
   "execution_count": null,
   "metadata": {
    "collapsed": true,
    "id": "e1X8-GXvuQYn"
   },
   "outputs": [],
   "source": []
  },
  {
   "cell_type": "markdown",
   "metadata": {
    "id": "zHvSGF9fuQYo"
   },
   "source": [
    "### 5- Replace time feature"
   ]
  },
  {
   "cell_type": "code",
   "execution_count": null,
   "metadata": {
    "collapsed": true,
    "id": "vWqvEVdsuQYo"
   },
   "outputs": [],
   "source": []
  },
  {
   "cell_type": "markdown",
   "metadata": {
    "id": "rV0bYDXzuQYo"
   },
   "source": [
    "### 6- Apply feature scaling"
   ]
  },
  {
   "cell_type": "code",
   "execution_count": null,
   "metadata": {
    "collapsed": true,
    "id": "qIgBH_d2uQYo"
   },
   "outputs": [],
   "source": []
  },
  {
   "cell_type": "markdown",
   "metadata": {
    "id": "-Bh7ou_4uQYp"
   },
   "source": [
    "### 7- Evaluate different degrees of lasso CV polynomial regression"
   ]
  },
  {
   "cell_type": "code",
   "execution_count": null,
   "metadata": {
    "collapsed": true,
    "id": "tLBRmfjuuQYp"
   },
   "outputs": [],
   "source": []
  },
  {
   "cell_type": "markdown",
   "metadata": {
    "id": "pDn9gby-uQYp"
   },
   "source": [
    "### 8- Choose the best degree and print the errors, model coefficients and the lasso parameters."
   ]
  },
  {
   "cell_type": "code",
   "execution_count": null,
   "metadata": {
    "collapsed": true,
    "id": "xLdmHaPBuQYq"
   },
   "outputs": [],
   "source": []
  },
  {
   "cell_type": "markdown",
   "metadata": {
    "id": "M8SOg6KEuQYq"
   },
   "source": [
    "### 9a- Evaluate different degrees of Ridge CV polynomial regression"
   ]
  },
  {
   "cell_type": "code",
   "execution_count": null,
   "metadata": {
    "collapsed": true,
    "id": "IqWaySbcuQYq"
   },
   "outputs": [],
   "source": []
  },
  {
   "cell_type": "markdown",
   "metadata": {
    "id": "8Bj_3j9RuQYr"
   },
   "source": [
    "### 9b- Choose the best degree and print the errors, model coefficients and the Ridge parameters."
   ]
  },
  {
   "cell_type": "code",
   "execution_count": null,
   "metadata": {
    "collapsed": true,
    "id": "4q5E5NnbuQYr"
   },
   "outputs": [],
   "source": []
  },
  {
   "cell_type": "markdown",
   "metadata": {
    "id": "MN4RwweLuQYr"
   },
   "source": [
    "### 10a- Evaluate different degrees of ElasticNet CV polynomial regression"
   ]
  },
  {
   "cell_type": "code",
   "execution_count": null,
   "metadata": {
    "collapsed": true,
    "id": "qK9SePrtuQYr"
   },
   "outputs": [],
   "source": []
  },
  {
   "cell_type": "markdown",
   "metadata": {
    "id": "JSt5s73XuQYr"
   },
   "source": [
    "### 10b- Choose the best degree and print the errors, model coefficients and ElasticNet parameters."
   ]
  },
  {
   "cell_type": "code",
   "execution_count": null,
   "metadata": {
    "collapsed": true,
    "id": "UkbcQLlLuQYr"
   },
   "outputs": [],
   "source": []
  },
  {
   "cell_type": "markdown",
   "metadata": {
    "id": "O_cuFINquQYs"
   },
   "source": [
    "### 11- Compare the errors from the 3 regularization techniques, and save the best model."
   ]
  },
  {
   "cell_type": "code",
   "execution_count": null,
   "metadata": {
    "collapsed": true,
    "id": "qn58GoGpuQYs"
   },
   "outputs": [],
   "source": []
  },
  {
   "cell_type": "markdown",
   "metadata": {
    "id": "IUGAAZY4uQYs"
   },
   "source": [
    "### 12- Load the best model and test it on a sample that you manually created it."
   ]
  },
  {
   "cell_type": "code",
   "execution_count": null,
   "metadata": {
    "collapsed": true,
    "id": "SIw1mo3kuQYs"
   },
   "outputs": [],
   "source": []
  },
  {
   "cell_type": "markdown",
   "metadata": {
    "id": "G3dUEoJjj-AK"
   },
   "source": [
    "## Great work!\n",
    "----"
   ]
  }
 ],
 "metadata": {
  "anaconda-cloud": {},
  "colab": {
   "provenance": []
  },
  "kernelspec": {
   "display_name": "Python [default]",
   "language": "python",
   "name": "python3"
  },
  "language_info": {
   "codemirror_mode": {
    "name": "ipython",
    "version": 3
   },
   "file_extension": ".py",
   "mimetype": "text/x-python",
   "name": "python",
   "nbconvert_exporter": "python",
   "pygments_lexer": "ipython3",
   "version": "3.5.2"
  }
 },
 "nbformat": 4,
 "nbformat_minor": 1
}

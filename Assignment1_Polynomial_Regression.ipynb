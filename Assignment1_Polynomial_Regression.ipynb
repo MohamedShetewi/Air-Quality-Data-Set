{
 "cells": [
  {
   "cell_type": "markdown",
   "metadata": {
    "id": "nz_9QnWBj9_6"
   },
   "source": [
    "# Polynomial Regression Assignment (Please do not remove the output cells)"
   ]
  },
  {
   "cell_type": "markdown",
   "metadata": {
    "id": "oNtRAlw1uQYi",
    "tags": []
   },
   "source": [
    "## The objective is to apply polynomial regression on the provided data using 3 regularization techniques"
   ]
  },
  {
   "cell_type": "markdown",
   "metadata": {
    "id": "0Sh_Oqa2j9_7"
   },
   "source": [
    "Tasks are defined below:\n",
    "1-  Read the dataset, and get acquainted with its features and labels. Check the link below for more details about the data.  \n",
    "https://archive.ics.uci.edu/ml/datasets/Air+Quality  \n",
    "\n",
    "2-  This dataset has 5 different output labels. For this assignment we only need the NO2 output. Please drop other outputs.  \n",
    "\n",
    "3-  Handle missing data similar to what was covered in tutorial 3.  \n",
    "\n",
    "4-  Replace the date feature with 3 separate features (Day, Month and Year).  \n",
    "\n",
    "5-  Replace the time feature with 3 separate features (Hours, Minutes and Seconds).  \n",
    "\n",
    "6-  Apply feature scaling.  \n",
    "\n",
    "7-  Evaluate different degrees of lasso CV polynomial regression.  \n",
    "\n",
    "8-  Choose the best degree and print the errors on the test data, model coefficients and the lasso parameters.  \n",
    "\n",
    "9-  Repeat steps 4 and 5 using Ridge CV polynomial regression.  \n",
    "\n",
    "10- Repeat steps 4 and 5 using ElasticNet CV polynomial regression.  \n",
    "\n",
    "11- Compare the errors from the 3 regularization techniques, and save the best model.  \n",
    "\n",
    "12- Load the best model and test it on a sample that you manually created it.  \n"
   ]
  },
  {
   "cell_type": "markdown",
   "metadata": {},
   "source": [
    "## Enter your IDs and Names below"
   ]
  },
  {
   "cell_type": "markdown",
   "metadata": {},
   "source": [
    "1-   \n",
    "  \n",
    "2-"
   ]
  },
  {
   "cell_type": "markdown",
   "metadata": {
    "id": "bsZFdAtSj9_8"
   },
   "source": [
    "\n",
    "### Imports"
   ]
  },
  {
   "cell_type": "code",
   "execution_count": 11,
   "metadata": {
    "id": "nuN2-J1bj9_9",
    "tags": []
   },
   "outputs": [],
   "source": [
    "import pandas as pd\n",
    "import numpy as np"
   ]
  },
  {
   "cell_type": "markdown",
   "metadata": {
    "id": "hszifOuTj9__"
   },
   "source": [
    "### 1- Read the data"
   ]
  },
  {
   "cell_type": "code",
   "execution_count": 12,
   "metadata": {
    "id": "ZzX469qmUTu2",
    "tags": []
   },
   "outputs": [
    {
     "name": "stdout",
     "output_type": "stream",
     "text": [
      "           Date      Time  CO(GT)  PT08.S1(CO)  NMHC(GT)  C6H6(GT)  \\\n",
      "0     3/10/2004  18:00:00     2.6       1360.0     150.0      11.9   \n",
      "1     3/10/2004  19:00:00     2.0       1292.0     112.0       9.4   \n",
      "2     3/10/2004  20:00:00     2.2       1402.0      88.0       9.0   \n",
      "3     3/10/2004  21:00:00     2.2       1376.0      80.0       9.2   \n",
      "4     3/10/2004  22:00:00     1.6       1272.0      51.0       6.5   \n",
      "...         ...       ...     ...          ...       ...       ...   \n",
      "9352   4/4/2005  10:00:00     3.1       1314.0       NaN      13.5   \n",
      "9353   4/4/2005  11:00:00     2.4       1163.0       NaN      11.4   \n",
      "9354   4/4/2005  12:00:00     2.4       1142.0       NaN      12.4   \n",
      "9355   4/4/2005  13:00:00     2.1       1003.0       NaN       9.5   \n",
      "9356   4/4/2005  14:00:00     2.2       1071.0       NaN      11.9   \n",
      "\n",
      "      PT08.S2(NMHC)  NOx(GT)  PT08.S3(NOx)  NO2(GT)  PT08.S4(NO2)  \\\n",
      "0            1046.0    166.0        1056.0    113.0        1692.0   \n",
      "1             955.0    103.0        1174.0     92.0        1559.0   \n",
      "2             939.0    131.0        1140.0    114.0        1555.0   \n",
      "3             948.0    172.0        1092.0    122.0        1584.0   \n",
      "4             836.0    131.0        1205.0    116.0        1490.0   \n",
      "...             ...      ...           ...      ...           ...   \n",
      "9352         1101.0    472.0         539.0    190.0        1374.0   \n",
      "9353         1027.0    353.0         604.0    179.0        1264.0   \n",
      "9354         1063.0    293.0         603.0    175.0        1241.0   \n",
      "9355          961.0    235.0         702.0    156.0        1041.0   \n",
      "9356         1047.0    265.0         654.0    168.0        1129.0   \n",
      "\n",
      "      PT08.S5(O3)     T    RH      AH  \n",
      "0          1268.0  13.6  48.9  0.7578  \n",
      "1           972.0  13.3  47.7  0.7255  \n",
      "2          1074.0  11.9  54.0  0.7502  \n",
      "3          1203.0  11.0  60.0  0.7867  \n",
      "4          1110.0  11.2  59.6  0.7888  \n",
      "...           ...   ...   ...     ...  \n",
      "9352       1729.0  21.9  29.3  0.7568  \n",
      "9353       1269.0  24.3  23.7  0.7119  \n",
      "9354       1092.0  26.9  18.3  0.6406  \n",
      "9355        770.0  28.3  13.5  0.5139  \n",
      "9356        816.0  28.5  13.1  0.5028  \n",
      "\n",
      "[9357 rows x 15 columns]\n"
     ]
    }
   ],
   "source": [
    "df = pd.read_csv(\"AirQualityUCI.csv\")\n",
    "print(df)"
   ]
  },
  {
   "cell_type": "markdown",
   "metadata": {
    "id": "TMHFhOfXuQYl",
    "tags": []
   },
   "source": [
    "### 2- Drop unwanted labels"
   ]
  },
  {
   "cell_type": "code",
   "execution_count": 13,
   "metadata": {
    "id": "L7395CTWuQYm",
    "tags": []
   },
   "outputs": [
    {
     "data": {
      "text/plain": "['Date',\n 'Time',\n 'PT08.S1(CO)',\n 'PT08.S2(NMHC)',\n 'PT08.S3(NOx)',\n 'NO2(GT)',\n 'PT08.S4(NO2)',\n 'PT08.S5(O3)',\n 'T',\n 'RH',\n 'AH']"
     },
     "execution_count": 13,
     "metadata": {},
     "output_type": "execute_result"
    }
   ],
   "source": [
    "df = df.drop(['CO(GT)','NMHC(GT)', 'C6H6(GT)', 'NOx(GT)'], axis=1)\n",
    "list(df.columns.values)\n"
   ]
  },
  {
   "cell_type": "markdown",
   "metadata": {
    "id": "rMSYDzn1uQYm"
   },
   "source": [
    "### 3- Handle missing data"
   ]
  },
  {
   "cell_type": "code",
   "execution_count": 14,
   "metadata": {
    "id": "FEai7yH9uQYn",
    "tags": []
   },
   "outputs": [
    {
     "data": {
      "text/plain": "Date                0\nTime                0\nPT08.S1(CO)       366\nPT08.S2(NMHC)     366\nPT08.S3(NOx)      366\nNO2(GT)          1642\nPT08.S4(NO2)      366\nPT08.S5(O3)       366\nT                 366\nRH                366\nAH                366\ndtype: int64"
     },
     "execution_count": 14,
     "metadata": {},
     "output_type": "execute_result"
    }
   ],
   "source": [
    "df.isna().sum()"
   ]
  },
  {
   "cell_type": "code",
   "execution_count": 15,
   "metadata": {},
   "outputs": [
    {
     "data": {
      "text/plain": "           Date      Time  PT08.S1(CO)  PT08.S2(NMHC)  PT08.S3(NOx)  NO2(GT)  \\\n0     3/10/2004  18:00:00       1360.0         1046.0        1056.0    113.0   \n1     3/10/2004  19:00:00       1292.0          955.0        1174.0     92.0   \n2     3/10/2004  20:00:00       1402.0          939.0        1140.0    114.0   \n3     3/10/2004  21:00:00       1376.0          948.0        1092.0    122.0   \n4     3/10/2004  22:00:00       1272.0          836.0        1205.0    116.0   \n...         ...       ...          ...            ...           ...      ...   \n9352   4/4/2005  10:00:00       1314.0         1101.0         539.0    190.0   \n9353   4/4/2005  11:00:00       1163.0         1027.0         604.0    179.0   \n9354   4/4/2005  12:00:00       1142.0         1063.0         603.0    175.0   \n9355   4/4/2005  13:00:00       1003.0          961.0         702.0    156.0   \n9356   4/4/2005  14:00:00       1071.0         1047.0         654.0    168.0   \n\n      PT08.S4(NO2)  PT08.S5(O3)     T    RH      AH  \n0           1692.0       1268.0  13.6  48.9  0.7578  \n1           1559.0        972.0  13.3  47.7  0.7255  \n2           1555.0       1074.0  11.9  54.0  0.7502  \n3           1584.0       1203.0  11.0  60.0  0.7867  \n4           1490.0       1110.0  11.2  59.6  0.7888  \n...            ...          ...   ...   ...     ...  \n9352        1374.0       1729.0  21.9  29.3  0.7568  \n9353        1264.0       1269.0  24.3  23.7  0.7119  \n9354        1241.0       1092.0  26.9  18.3  0.6406  \n9355        1041.0        770.0  28.3  13.5  0.5139  \n9356        1129.0        816.0  28.5  13.1  0.5028  \n\n[8991 rows x 11 columns]",
      "text/html": "<div>\n<style scoped>\n    .dataframe tbody tr th:only-of-type {\n        vertical-align: middle;\n    }\n\n    .dataframe tbody tr th {\n        vertical-align: top;\n    }\n\n    .dataframe thead th {\n        text-align: right;\n    }\n</style>\n<table border=\"1\" class=\"dataframe\">\n  <thead>\n    <tr style=\"text-align: right;\">\n      <th></th>\n      <th>Date</th>\n      <th>Time</th>\n      <th>PT08.S1(CO)</th>\n      <th>PT08.S2(NMHC)</th>\n      <th>PT08.S3(NOx)</th>\n      <th>NO2(GT)</th>\n      <th>PT08.S4(NO2)</th>\n      <th>PT08.S5(O3)</th>\n      <th>T</th>\n      <th>RH</th>\n      <th>AH</th>\n    </tr>\n  </thead>\n  <tbody>\n    <tr>\n      <th>0</th>\n      <td>3/10/2004</td>\n      <td>18:00:00</td>\n      <td>1360.0</td>\n      <td>1046.0</td>\n      <td>1056.0</td>\n      <td>113.0</td>\n      <td>1692.0</td>\n      <td>1268.0</td>\n      <td>13.6</td>\n      <td>48.9</td>\n      <td>0.7578</td>\n    </tr>\n    <tr>\n      <th>1</th>\n      <td>3/10/2004</td>\n      <td>19:00:00</td>\n      <td>1292.0</td>\n      <td>955.0</td>\n      <td>1174.0</td>\n      <td>92.0</td>\n      <td>1559.0</td>\n      <td>972.0</td>\n      <td>13.3</td>\n      <td>47.7</td>\n      <td>0.7255</td>\n    </tr>\n    <tr>\n      <th>2</th>\n      <td>3/10/2004</td>\n      <td>20:00:00</td>\n      <td>1402.0</td>\n      <td>939.0</td>\n      <td>1140.0</td>\n      <td>114.0</td>\n      <td>1555.0</td>\n      <td>1074.0</td>\n      <td>11.9</td>\n      <td>54.0</td>\n      <td>0.7502</td>\n    </tr>\n    <tr>\n      <th>3</th>\n      <td>3/10/2004</td>\n      <td>21:00:00</td>\n      <td>1376.0</td>\n      <td>948.0</td>\n      <td>1092.0</td>\n      <td>122.0</td>\n      <td>1584.0</td>\n      <td>1203.0</td>\n      <td>11.0</td>\n      <td>60.0</td>\n      <td>0.7867</td>\n    </tr>\n    <tr>\n      <th>4</th>\n      <td>3/10/2004</td>\n      <td>22:00:00</td>\n      <td>1272.0</td>\n      <td>836.0</td>\n      <td>1205.0</td>\n      <td>116.0</td>\n      <td>1490.0</td>\n      <td>1110.0</td>\n      <td>11.2</td>\n      <td>59.6</td>\n      <td>0.7888</td>\n    </tr>\n    <tr>\n      <th>...</th>\n      <td>...</td>\n      <td>...</td>\n      <td>...</td>\n      <td>...</td>\n      <td>...</td>\n      <td>...</td>\n      <td>...</td>\n      <td>...</td>\n      <td>...</td>\n      <td>...</td>\n      <td>...</td>\n    </tr>\n    <tr>\n      <th>9352</th>\n      <td>4/4/2005</td>\n      <td>10:00:00</td>\n      <td>1314.0</td>\n      <td>1101.0</td>\n      <td>539.0</td>\n      <td>190.0</td>\n      <td>1374.0</td>\n      <td>1729.0</td>\n      <td>21.9</td>\n      <td>29.3</td>\n      <td>0.7568</td>\n    </tr>\n    <tr>\n      <th>9353</th>\n      <td>4/4/2005</td>\n      <td>11:00:00</td>\n      <td>1163.0</td>\n      <td>1027.0</td>\n      <td>604.0</td>\n      <td>179.0</td>\n      <td>1264.0</td>\n      <td>1269.0</td>\n      <td>24.3</td>\n      <td>23.7</td>\n      <td>0.7119</td>\n    </tr>\n    <tr>\n      <th>9354</th>\n      <td>4/4/2005</td>\n      <td>12:00:00</td>\n      <td>1142.0</td>\n      <td>1063.0</td>\n      <td>603.0</td>\n      <td>175.0</td>\n      <td>1241.0</td>\n      <td>1092.0</td>\n      <td>26.9</td>\n      <td>18.3</td>\n      <td>0.6406</td>\n    </tr>\n    <tr>\n      <th>9355</th>\n      <td>4/4/2005</td>\n      <td>13:00:00</td>\n      <td>1003.0</td>\n      <td>961.0</td>\n      <td>702.0</td>\n      <td>156.0</td>\n      <td>1041.0</td>\n      <td>770.0</td>\n      <td>28.3</td>\n      <td>13.5</td>\n      <td>0.5139</td>\n    </tr>\n    <tr>\n      <th>9356</th>\n      <td>4/4/2005</td>\n      <td>14:00:00</td>\n      <td>1071.0</td>\n      <td>1047.0</td>\n      <td>654.0</td>\n      <td>168.0</td>\n      <td>1129.0</td>\n      <td>816.0</td>\n      <td>28.5</td>\n      <td>13.1</td>\n      <td>0.5028</td>\n    </tr>\n  </tbody>\n</table>\n<p>8991 rows × 11 columns</p>\n</div>"
     },
     "execution_count": 15,
     "metadata": {},
     "output_type": "execute_result"
    }
   ],
   "source": [
    "df.drop(df[df['PT08.S4(NO2)'].isna()].index, inplace=True)\n",
    "df"
   ]
  },
  {
   "cell_type": "code",
   "execution_count": 16,
   "metadata": {
    "id": "FEai7yH9uQYn",
    "tags": []
   },
   "outputs": [
    {
     "data": {
      "text/plain": "Date                0\nTime                0\nPT08.S1(CO)         0\nPT08.S2(NMHC)       0\nPT08.S3(NOx)        0\nNO2(GT)          1598\nPT08.S4(NO2)        0\nPT08.S5(O3)         0\nT                   0\nRH                  0\nAH                  0\ndtype: int64"
     },
     "execution_count": 16,
     "metadata": {},
     "output_type": "execute_result"
    }
   ],
   "source": [
    "df.isna().sum()"
   ]
  },
  {
   "cell_type": "markdown",
   "metadata": {
    "id": "v7vinFJmuQYn"
   },
   "source": [
    "### 4- Replace date feature"
   ]
  },
  {
   "cell_type": "code",
   "execution_count": 23,
   "metadata": {
    "collapsed": true,
    "id": "e1X8-GXvuQYn",
    "jupyter": {
     "outputs_hidden": true
    }
   },
   "outputs": [
    {
     "data": {
      "text/plain": "          Time  PT08.S1(CO)  PT08.S2(NMHC)  PT08.S3(NOx)  NO2(GT)  \\\n0     18:00:00       1360.0         1046.0        1056.0    113.0   \n1     19:00:00       1292.0          955.0        1174.0     92.0   \n2     20:00:00       1402.0          939.0        1140.0    114.0   \n3     21:00:00       1376.0          948.0        1092.0    122.0   \n4     22:00:00       1272.0          836.0        1205.0    116.0   \n...        ...          ...            ...           ...      ...   \n9352  10:00:00       1314.0         1101.0         539.0    190.0   \n9353  11:00:00       1163.0         1027.0         604.0    179.0   \n9354  12:00:00       1142.0         1063.0         603.0    175.0   \n9355  13:00:00       1003.0          961.0         702.0    156.0   \n9356  14:00:00       1071.0         1047.0         654.0    168.0   \n\n      PT08.S4(NO2)  PT08.S5(O3)     T    RH      AH Day Month  Year  \n0           1692.0       1268.0  13.6  48.9  0.7578   3    10  2004  \n1           1559.0        972.0  13.3  47.7  0.7255   3    10  2004  \n2           1555.0       1074.0  11.9  54.0  0.7502   3    10  2004  \n3           1584.0       1203.0  11.0  60.0  0.7867   3    10  2004  \n4           1490.0       1110.0  11.2  59.6  0.7888   3    10  2004  \n...            ...          ...   ...   ...     ...  ..   ...   ...  \n9352        1374.0       1729.0  21.9  29.3  0.7568   4     4  2005  \n9353        1264.0       1269.0  24.3  23.7  0.7119   4     4  2005  \n9354        1241.0       1092.0  26.9  18.3  0.6406   4     4  2005  \n9355        1041.0        770.0  28.3  13.5  0.5139   4     4  2005  \n9356        1129.0        816.0  28.5  13.1  0.5028   4     4  2005  \n\n[8991 rows x 13 columns]",
      "text/html": "<div>\n<style scoped>\n    .dataframe tbody tr th:only-of-type {\n        vertical-align: middle;\n    }\n\n    .dataframe tbody tr th {\n        vertical-align: top;\n    }\n\n    .dataframe thead th {\n        text-align: right;\n    }\n</style>\n<table border=\"1\" class=\"dataframe\">\n  <thead>\n    <tr style=\"text-align: right;\">\n      <th></th>\n      <th>Time</th>\n      <th>PT08.S1(CO)</th>\n      <th>PT08.S2(NMHC)</th>\n      <th>PT08.S3(NOx)</th>\n      <th>NO2(GT)</th>\n      <th>PT08.S4(NO2)</th>\n      <th>PT08.S5(O3)</th>\n      <th>T</th>\n      <th>RH</th>\n      <th>AH</th>\n      <th>Day</th>\n      <th>Month</th>\n      <th>Year</th>\n    </tr>\n  </thead>\n  <tbody>\n    <tr>\n      <th>0</th>\n      <td>18:00:00</td>\n      <td>1360.0</td>\n      <td>1046.0</td>\n      <td>1056.0</td>\n      <td>113.0</td>\n      <td>1692.0</td>\n      <td>1268.0</td>\n      <td>13.6</td>\n      <td>48.9</td>\n      <td>0.7578</td>\n      <td>3</td>\n      <td>10</td>\n      <td>2004</td>\n    </tr>\n    <tr>\n      <th>1</th>\n      <td>19:00:00</td>\n      <td>1292.0</td>\n      <td>955.0</td>\n      <td>1174.0</td>\n      <td>92.0</td>\n      <td>1559.0</td>\n      <td>972.0</td>\n      <td>13.3</td>\n      <td>47.7</td>\n      <td>0.7255</td>\n      <td>3</td>\n      <td>10</td>\n      <td>2004</td>\n    </tr>\n    <tr>\n      <th>2</th>\n      <td>20:00:00</td>\n      <td>1402.0</td>\n      <td>939.0</td>\n      <td>1140.0</td>\n      <td>114.0</td>\n      <td>1555.0</td>\n      <td>1074.0</td>\n      <td>11.9</td>\n      <td>54.0</td>\n      <td>0.7502</td>\n      <td>3</td>\n      <td>10</td>\n      <td>2004</td>\n    </tr>\n    <tr>\n      <th>3</th>\n      <td>21:00:00</td>\n      <td>1376.0</td>\n      <td>948.0</td>\n      <td>1092.0</td>\n      <td>122.0</td>\n      <td>1584.0</td>\n      <td>1203.0</td>\n      <td>11.0</td>\n      <td>60.0</td>\n      <td>0.7867</td>\n      <td>3</td>\n      <td>10</td>\n      <td>2004</td>\n    </tr>\n    <tr>\n      <th>4</th>\n      <td>22:00:00</td>\n      <td>1272.0</td>\n      <td>836.0</td>\n      <td>1205.0</td>\n      <td>116.0</td>\n      <td>1490.0</td>\n      <td>1110.0</td>\n      <td>11.2</td>\n      <td>59.6</td>\n      <td>0.7888</td>\n      <td>3</td>\n      <td>10</td>\n      <td>2004</td>\n    </tr>\n    <tr>\n      <th>...</th>\n      <td>...</td>\n      <td>...</td>\n      <td>...</td>\n      <td>...</td>\n      <td>...</td>\n      <td>...</td>\n      <td>...</td>\n      <td>...</td>\n      <td>...</td>\n      <td>...</td>\n      <td>...</td>\n      <td>...</td>\n      <td>...</td>\n    </tr>\n    <tr>\n      <th>9352</th>\n      <td>10:00:00</td>\n      <td>1314.0</td>\n      <td>1101.0</td>\n      <td>539.0</td>\n      <td>190.0</td>\n      <td>1374.0</td>\n      <td>1729.0</td>\n      <td>21.9</td>\n      <td>29.3</td>\n      <td>0.7568</td>\n      <td>4</td>\n      <td>4</td>\n      <td>2005</td>\n    </tr>\n    <tr>\n      <th>9353</th>\n      <td>11:00:00</td>\n      <td>1163.0</td>\n      <td>1027.0</td>\n      <td>604.0</td>\n      <td>179.0</td>\n      <td>1264.0</td>\n      <td>1269.0</td>\n      <td>24.3</td>\n      <td>23.7</td>\n      <td>0.7119</td>\n      <td>4</td>\n      <td>4</td>\n      <td>2005</td>\n    </tr>\n    <tr>\n      <th>9354</th>\n      <td>12:00:00</td>\n      <td>1142.0</td>\n      <td>1063.0</td>\n      <td>603.0</td>\n      <td>175.0</td>\n      <td>1241.0</td>\n      <td>1092.0</td>\n      <td>26.9</td>\n      <td>18.3</td>\n      <td>0.6406</td>\n      <td>4</td>\n      <td>4</td>\n      <td>2005</td>\n    </tr>\n    <tr>\n      <th>9355</th>\n      <td>13:00:00</td>\n      <td>1003.0</td>\n      <td>961.0</td>\n      <td>702.0</td>\n      <td>156.0</td>\n      <td>1041.0</td>\n      <td>770.0</td>\n      <td>28.3</td>\n      <td>13.5</td>\n      <td>0.5139</td>\n      <td>4</td>\n      <td>4</td>\n      <td>2005</td>\n    </tr>\n    <tr>\n      <th>9356</th>\n      <td>14:00:00</td>\n      <td>1071.0</td>\n      <td>1047.0</td>\n      <td>654.0</td>\n      <td>168.0</td>\n      <td>1129.0</td>\n      <td>816.0</td>\n      <td>28.5</td>\n      <td>13.1</td>\n      <td>0.5028</td>\n      <td>4</td>\n      <td>4</td>\n      <td>2005</td>\n    </tr>\n  </tbody>\n</table>\n<p>8991 rows × 13 columns</p>\n</div>"
     },
     "execution_count": 23,
     "metadata": {},
     "output_type": "execute_result"
    }
   ],
   "source": [
    "df[[\"Month\", \"Day\", \"Year\"]] = df[\"Date\"].str.split(\"/\", expand = True)\n",
    "df = df.drop('Date',axis=1)\n",
    "df"
   ]
  },
  {
   "cell_type": "markdown",
   "metadata": {
    "id": "zHvSGF9fuQYo"
   },
   "source": [
    "## 5- Replace time feature"
   ]
  },
  {
   "cell_type": "code",
   "execution_count": 24,
   "metadata": {
    "collapsed": true,
    "id": "vWqvEVdsuQYo",
    "jupyter": {
     "outputs_hidden": true
    }
   },
   "outputs": [
    {
     "data": {
      "text/plain": "      PT08.S1(CO)  PT08.S2(NMHC)  PT08.S3(NOx)  NO2(GT)  PT08.S4(NO2)  \\\n0          1360.0         1046.0        1056.0    113.0        1692.0   \n1          1292.0          955.0        1174.0     92.0        1559.0   \n2          1402.0          939.0        1140.0    114.0        1555.0   \n3          1376.0          948.0        1092.0    122.0        1584.0   \n4          1272.0          836.0        1205.0    116.0        1490.0   \n...           ...            ...           ...      ...           ...   \n9352       1314.0         1101.0         539.0    190.0        1374.0   \n9353       1163.0         1027.0         604.0    179.0        1264.0   \n9354       1142.0         1063.0         603.0    175.0        1241.0   \n9355       1003.0          961.0         702.0    156.0        1041.0   \n9356       1071.0         1047.0         654.0    168.0        1129.0   \n\n      PT08.S5(O3)     T    RH      AH Day Month  Year Hour Minute Second  \n0          1268.0  13.6  48.9  0.7578   3    10  2004   18     00     00  \n1           972.0  13.3  47.7  0.7255   3    10  2004   19     00     00  \n2          1074.0  11.9  54.0  0.7502   3    10  2004   20     00     00  \n3          1203.0  11.0  60.0  0.7867   3    10  2004   21     00     00  \n4          1110.0  11.2  59.6  0.7888   3    10  2004   22     00     00  \n...           ...   ...   ...     ...  ..   ...   ...  ...    ...    ...  \n9352       1729.0  21.9  29.3  0.7568   4     4  2005   10     00     00  \n9353       1269.0  24.3  23.7  0.7119   4     4  2005   11     00     00  \n9354       1092.0  26.9  18.3  0.6406   4     4  2005   12     00     00  \n9355        770.0  28.3  13.5  0.5139   4     4  2005   13     00     00  \n9356        816.0  28.5  13.1  0.5028   4     4  2005   14     00     00  \n\n[8991 rows x 15 columns]",
      "text/html": "<div>\n<style scoped>\n    .dataframe tbody tr th:only-of-type {\n        vertical-align: middle;\n    }\n\n    .dataframe tbody tr th {\n        vertical-align: top;\n    }\n\n    .dataframe thead th {\n        text-align: right;\n    }\n</style>\n<table border=\"1\" class=\"dataframe\">\n  <thead>\n    <tr style=\"text-align: right;\">\n      <th></th>\n      <th>PT08.S1(CO)</th>\n      <th>PT08.S2(NMHC)</th>\n      <th>PT08.S3(NOx)</th>\n      <th>NO2(GT)</th>\n      <th>PT08.S4(NO2)</th>\n      <th>PT08.S5(O3)</th>\n      <th>T</th>\n      <th>RH</th>\n      <th>AH</th>\n      <th>Day</th>\n      <th>Month</th>\n      <th>Year</th>\n      <th>Hour</th>\n      <th>Minute</th>\n      <th>Second</th>\n    </tr>\n  </thead>\n  <tbody>\n    <tr>\n      <th>0</th>\n      <td>1360.0</td>\n      <td>1046.0</td>\n      <td>1056.0</td>\n      <td>113.0</td>\n      <td>1692.0</td>\n      <td>1268.0</td>\n      <td>13.6</td>\n      <td>48.9</td>\n      <td>0.7578</td>\n      <td>3</td>\n      <td>10</td>\n      <td>2004</td>\n      <td>18</td>\n      <td>00</td>\n      <td>00</td>\n    </tr>\n    <tr>\n      <th>1</th>\n      <td>1292.0</td>\n      <td>955.0</td>\n      <td>1174.0</td>\n      <td>92.0</td>\n      <td>1559.0</td>\n      <td>972.0</td>\n      <td>13.3</td>\n      <td>47.7</td>\n      <td>0.7255</td>\n      <td>3</td>\n      <td>10</td>\n      <td>2004</td>\n      <td>19</td>\n      <td>00</td>\n      <td>00</td>\n    </tr>\n    <tr>\n      <th>2</th>\n      <td>1402.0</td>\n      <td>939.0</td>\n      <td>1140.0</td>\n      <td>114.0</td>\n      <td>1555.0</td>\n      <td>1074.0</td>\n      <td>11.9</td>\n      <td>54.0</td>\n      <td>0.7502</td>\n      <td>3</td>\n      <td>10</td>\n      <td>2004</td>\n      <td>20</td>\n      <td>00</td>\n      <td>00</td>\n    </tr>\n    <tr>\n      <th>3</th>\n      <td>1376.0</td>\n      <td>948.0</td>\n      <td>1092.0</td>\n      <td>122.0</td>\n      <td>1584.0</td>\n      <td>1203.0</td>\n      <td>11.0</td>\n      <td>60.0</td>\n      <td>0.7867</td>\n      <td>3</td>\n      <td>10</td>\n      <td>2004</td>\n      <td>21</td>\n      <td>00</td>\n      <td>00</td>\n    </tr>\n    <tr>\n      <th>4</th>\n      <td>1272.0</td>\n      <td>836.0</td>\n      <td>1205.0</td>\n      <td>116.0</td>\n      <td>1490.0</td>\n      <td>1110.0</td>\n      <td>11.2</td>\n      <td>59.6</td>\n      <td>0.7888</td>\n      <td>3</td>\n      <td>10</td>\n      <td>2004</td>\n      <td>22</td>\n      <td>00</td>\n      <td>00</td>\n    </tr>\n    <tr>\n      <th>...</th>\n      <td>...</td>\n      <td>...</td>\n      <td>...</td>\n      <td>...</td>\n      <td>...</td>\n      <td>...</td>\n      <td>...</td>\n      <td>...</td>\n      <td>...</td>\n      <td>...</td>\n      <td>...</td>\n      <td>...</td>\n      <td>...</td>\n      <td>...</td>\n      <td>...</td>\n    </tr>\n    <tr>\n      <th>9352</th>\n      <td>1314.0</td>\n      <td>1101.0</td>\n      <td>539.0</td>\n      <td>190.0</td>\n      <td>1374.0</td>\n      <td>1729.0</td>\n      <td>21.9</td>\n      <td>29.3</td>\n      <td>0.7568</td>\n      <td>4</td>\n      <td>4</td>\n      <td>2005</td>\n      <td>10</td>\n      <td>00</td>\n      <td>00</td>\n    </tr>\n    <tr>\n      <th>9353</th>\n      <td>1163.0</td>\n      <td>1027.0</td>\n      <td>604.0</td>\n      <td>179.0</td>\n      <td>1264.0</td>\n      <td>1269.0</td>\n      <td>24.3</td>\n      <td>23.7</td>\n      <td>0.7119</td>\n      <td>4</td>\n      <td>4</td>\n      <td>2005</td>\n      <td>11</td>\n      <td>00</td>\n      <td>00</td>\n    </tr>\n    <tr>\n      <th>9354</th>\n      <td>1142.0</td>\n      <td>1063.0</td>\n      <td>603.0</td>\n      <td>175.0</td>\n      <td>1241.0</td>\n      <td>1092.0</td>\n      <td>26.9</td>\n      <td>18.3</td>\n      <td>0.6406</td>\n      <td>4</td>\n      <td>4</td>\n      <td>2005</td>\n      <td>12</td>\n      <td>00</td>\n      <td>00</td>\n    </tr>\n    <tr>\n      <th>9355</th>\n      <td>1003.0</td>\n      <td>961.0</td>\n      <td>702.0</td>\n      <td>156.0</td>\n      <td>1041.0</td>\n      <td>770.0</td>\n      <td>28.3</td>\n      <td>13.5</td>\n      <td>0.5139</td>\n      <td>4</td>\n      <td>4</td>\n      <td>2005</td>\n      <td>13</td>\n      <td>00</td>\n      <td>00</td>\n    </tr>\n    <tr>\n      <th>9356</th>\n      <td>1071.0</td>\n      <td>1047.0</td>\n      <td>654.0</td>\n      <td>168.0</td>\n      <td>1129.0</td>\n      <td>816.0</td>\n      <td>28.5</td>\n      <td>13.1</td>\n      <td>0.5028</td>\n      <td>4</td>\n      <td>4</td>\n      <td>2005</td>\n      <td>14</td>\n      <td>00</td>\n      <td>00</td>\n    </tr>\n  </tbody>\n</table>\n<p>8991 rows × 15 columns</p>\n</div>"
     },
     "execution_count": 24,
     "metadata": {},
     "output_type": "execute_result"
    }
   ],
   "source": [
    "df[[\"Hour\", \"Minute\", \"Second\"]] = df[\"Time\"].str.split(\":\", expand = True)\n",
    "df = df.drop('Time',axis=1)\n",
    "df"
   ]
  },
  {
   "cell_type": "markdown",
   "metadata": {
    "id": "rV0bYDXzuQYo"
   },
   "source": [
    "### 6- Apply feature scaling"
   ]
  },
  {
   "cell_type": "code",
   "execution_count": 16,
   "metadata": {
    "collapsed": true,
    "id": "qIgBH_d2uQYo",
    "jupyter": {
     "outputs_hidden": true
    }
   },
   "outputs": [],
   "source": [
    "from sklearn.model_selection import train_test_split"
   ]
  },
  {
   "cell_type": "code",
   "execution_count": null,
   "outputs": [],
   "source": [
    "X = df.drop('NO2(GT)',axis=1)\n",
    "y = df['NO2(GT)']\n",
    "X_train, X_test, y_train, y_test = train_test_split(x,y, test_size=0.3, random_state=101)"
   ],
   "metadata": {
    "collapsed": false
   }
  },
  {
   "cell_type": "code",
   "execution_count": null,
   "outputs": [],
   "source": [
    "from sklearn.preprocessing import StandardScaler"
   ],
   "metadata": {
    "collapsed": false
   }
  },
  {
   "cell_type": "code",
   "execution_count": null,
   "outputs": [],
   "source": [
    "scaler = StandardScaler()\n",
    "scaler.fit(X_train)\n",
    "X_train = scaler.transform(X_train)\n",
    "X_test = scaler.transform(X_test)"
   ],
   "metadata": {
    "collapsed": false
   }
  },
  {
   "cell_type": "markdown",
   "metadata": {
    "id": "-Bh7ou_4uQYp"
   },
   "source": [
    "### 7- Evaluate different degrees of lasso CV polynomial regression"
   ]
  },
  {
   "cell_type": "code",
   "execution_count": 16,
   "metadata": {
    "collapsed": true,
    "id": "tLBRmfjuuQYp",
    "jupyter": {
     "outputs_hidden": true
    }
   },
   "outputs": [],
   "source": []
  },
  {
   "cell_type": "markdown",
   "metadata": {
    "id": "pDn9gby-uQYp"
   },
   "source": [
    "### 8- Choose the best degree and print the errors, model coefficients and the lasso parameters."
   ]
  },
  {
   "cell_type": "code",
   "execution_count": 16,
   "metadata": {
    "collapsed": true,
    "id": "xLdmHaPBuQYq",
    "jupyter": {
     "outputs_hidden": true
    }
   },
   "outputs": [],
   "source": []
  },
  {
   "cell_type": "markdown",
   "metadata": {
    "id": "M8SOg6KEuQYq"
   },
   "source": [
    "### 9a- Evaluate different degrees of Ridge CV polynomial regression"
   ]
  },
  {
   "cell_type": "code",
   "execution_count": 16,
   "metadata": {
    "collapsed": true,
    "id": "IqWaySbcuQYq",
    "jupyter": {
     "outputs_hidden": true
    }
   },
   "outputs": [],
   "source": []
  },
  {
   "cell_type": "markdown",
   "metadata": {
    "id": "8Bj_3j9RuQYr"
   },
   "source": [
    "### 9b- Choose the best degree and print the errors, model coefficients and the Ridge parameters."
   ]
  },
  {
   "cell_type": "code",
   "execution_count": 16,
   "metadata": {
    "collapsed": true,
    "id": "4q5E5NnbuQYr",
    "jupyter": {
     "outputs_hidden": true
    }
   },
   "outputs": [],
   "source": []
  },
  {
   "cell_type": "markdown",
   "metadata": {
    "id": "MN4RwweLuQYr"
   },
   "source": [
    "### 10a- Evaluate different degrees of ElasticNet CV polynomial regression"
   ]
  },
  {
   "cell_type": "code",
   "execution_count": 16,
   "metadata": {
    "collapsed": true,
    "id": "qK9SePrtuQYr",
    "jupyter": {
     "outputs_hidden": true
    }
   },
   "outputs": [],
   "source": []
  },
  {
   "cell_type": "markdown",
   "metadata": {
    "id": "JSt5s73XuQYr"
   },
   "source": [
    "### 10b- Choose the best degree and print the errors, model coefficients and ElasticNet parameters."
   ]
  },
  {
   "cell_type": "code",
   "execution_count": 16,
   "metadata": {
    "collapsed": true,
    "id": "UkbcQLlLuQYr",
    "jupyter": {
     "outputs_hidden": true
    }
   },
   "outputs": [],
   "source": []
  },
  {
   "cell_type": "markdown",
   "metadata": {
    "id": "O_cuFINquQYs"
   },
   "source": [
    "### 11- Compare the errors from the 3 regularization techniques, and save the best model."
   ]
  },
  {
   "cell_type": "code",
   "execution_count": 16,
   "metadata": {
    "collapsed": true,
    "id": "qn58GoGpuQYs",
    "jupyter": {
     "outputs_hidden": true
    }
   },
   "outputs": [],
   "source": []
  },
  {
   "cell_type": "markdown",
   "metadata": {
    "id": "IUGAAZY4uQYs"
   },
   "source": [
    "### 12- Load the best model and test it on a sample that you manually created it."
   ]
  },
  {
   "cell_type": "code",
   "execution_count": 16,
   "metadata": {
    "collapsed": true,
    "id": "SIw1mo3kuQYs",
    "jupyter": {
     "outputs_hidden": true
    }
   },
   "outputs": [],
   "source": []
  },
  {
   "cell_type": "markdown",
   "metadata": {
    "id": "G3dUEoJjj-AK"
   },
   "source": [
    "## Great work!\n",
    "----"
   ]
  }
 ],
 "metadata": {
  "anaconda-cloud": {},
  "colab": {
   "provenance": []
  },
  "kernelspec": {
   "display_name": "Python 3 (ipykernel)",
   "language": "python",
   "name": "python3"
  },
  "language_info": {
   "codemirror_mode": {
    "name": "ipython",
    "version": 3
   },
   "file_extension": ".py",
   "mimetype": "text/x-python",
   "name": "python",
   "nbconvert_exporter": "python",
   "pygments_lexer": "ipython3",
   "version": "3.9.6"
  }
 },
 "nbformat": 4,
 "nbformat_minor": 4
}

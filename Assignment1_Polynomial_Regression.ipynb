{
 "cells": [
  {
   "cell_type": "markdown",
   "metadata": {
    "id": "nz_9QnWBj9_6"
   },
   "source": [
    "# Polynomial Regression Assignment (Please do not remove the output cells)"
   ]
  },
  {
   "cell_type": "markdown",
   "metadata": {
    "id": "oNtRAlw1uQYi",
    "tags": []
   },
   "source": [
    "## The objective is to apply polynomial regression on the provided data using 3 regularization techniques"
   ]
  },
  {
   "cell_type": "markdown",
   "metadata": {
    "id": "0Sh_Oqa2j9_7"
   },
   "source": [
    "Tasks are defined below:\n",
    "1-  Read the dataset, and get acquainted with its features and labels. Check the link below for more details about the data.  \n",
    "https://archive.ics.uci.edu/ml/datasets/Air+Quality  \n",
    "\n",
    "2-  This dataset has 5 different output labels. For this assignment we only need the NO2 output. Please drop other outputs.  \n",
    "\n",
    "3-  Handle missing data similar to what was covered in tutorial 3.  \n",
    "\n",
    "4-  Replace the date feature with 3 separate features (Day, Month and Year).  \n",
    "\n",
    "5-  Replace the time feature with 3 separate features (Hours, Minutes and Seconds).  \n",
    "\n",
    "6-  Apply feature scaling.  \n",
    "\n",
    "7-  Evaluate different degrees of lasso CV polynomial regression.  \n",
    "\n",
    "8-  Choose the best degree and print the errors on the test data, model coefficients and the lasso parameters.  \n",
    "\n",
    "9-  Repeat steps 4 and 5 using Ridge CV polynomial regression.  \n",
    "\n",
    "10- Repeat steps 4 and 5 using ElasticNet CV polynomial regression.  \n",
    "\n",
    "11- Compare the errors from the 3 regularization techniques, and save the best model.  \n",
    "\n",
    "12- Load the best model and test it on a sample that you manually created it.  \n"
   ]
  },
  {
   "cell_type": "markdown",
   "metadata": {},
   "source": [
    "## Enter your IDs and Names below"
   ]
  },
  {
   "cell_type": "markdown",
   "metadata": {},
   "source": [
    "1-   \n",
    "  \n",
    "2-"
   ]
  },
  {
   "cell_type": "markdown",
   "metadata": {
    "id": "bsZFdAtSj9_8"
   },
   "source": [
    "\n",
    "### Imports"
   ]
  },
  {
   "cell_type": "code",
   "execution_count": 5,
   "metadata": {
    "id": "nuN2-J1bj9_9",
    "tags": []
   },
   "outputs": [],
   "source": [
    "import pandas as pd\n",
    "import numpy as np"
   ]
  },
  {
   "cell_type": "markdown",
   "metadata": {
    "id": "hszifOuTj9__"
   },
   "source": [
    "### 1- Read the data"
   ]
  },
  {
   "cell_type": "code",
   "execution_count": 48,
   "metadata": {
    "id": "ZzX469qmUTu2",
    "tags": []
   },
   "outputs": [
    {
     "name": "stdout",
     "output_type": "stream",
     "text": [
      "           Date      Time  CO(GT)  PT08.S1(CO)  NMHC(GT)  C6H6(GT)  \\\n",
      "0     3/10/2004  18:00:00     2.6       1360.0     150.0      11.9   \n",
      "1     3/10/2004  19:00:00     2.0       1292.0     112.0       9.4   \n",
      "2     3/10/2004  20:00:00     2.2       1402.0      88.0       9.0   \n",
      "3     3/10/2004  21:00:00     2.2       1376.0      80.0       9.2   \n",
      "4     3/10/2004  22:00:00     1.6       1272.0      51.0       6.5   \n",
      "...         ...       ...     ...          ...       ...       ...   \n",
      "9352   4/4/2005  10:00:00     3.1       1314.0       NaN      13.5   \n",
      "9353   4/4/2005  11:00:00     2.4       1163.0       NaN      11.4   \n",
      "9354   4/4/2005  12:00:00     2.4       1142.0       NaN      12.4   \n",
      "9355   4/4/2005  13:00:00     2.1       1003.0       NaN       9.5   \n",
      "9356   4/4/2005  14:00:00     2.2       1071.0       NaN      11.9   \n",
      "\n",
      "      PT08.S2(NMHC)  NOx(GT)  PT08.S3(NOx)  NO2(GT)  PT08.S4(NO2)  \\\n",
      "0            1046.0    166.0        1056.0    113.0        1692.0   \n",
      "1             955.0    103.0        1174.0     92.0        1559.0   \n",
      "2             939.0    131.0        1140.0    114.0        1555.0   \n",
      "3             948.0    172.0        1092.0    122.0        1584.0   \n",
      "4             836.0    131.0        1205.0    116.0        1490.0   \n",
      "...             ...      ...           ...      ...           ...   \n",
      "9352         1101.0    472.0         539.0    190.0        1374.0   \n",
      "9353         1027.0    353.0         604.0    179.0        1264.0   \n",
      "9354         1063.0    293.0         603.0    175.0        1241.0   \n",
      "9355          961.0    235.0         702.0    156.0        1041.0   \n",
      "9356         1047.0    265.0         654.0    168.0        1129.0   \n",
      "\n",
      "      PT08.S5(O3)     T    RH      AH  \n",
      "0          1268.0  13.6  48.9  0.7578  \n",
      "1           972.0  13.3  47.7  0.7255  \n",
      "2          1074.0  11.9  54.0  0.7502  \n",
      "3          1203.0  11.0  60.0  0.7867  \n",
      "4          1110.0  11.2  59.6  0.7888  \n",
      "...           ...   ...   ...     ...  \n",
      "9352       1729.0  21.9  29.3  0.7568  \n",
      "9353       1269.0  24.3  23.7  0.7119  \n",
      "9354       1092.0  26.9  18.3  0.6406  \n",
      "9355        770.0  28.3  13.5  0.5139  \n",
      "9356        816.0  28.5  13.1  0.5028  \n",
      "\n",
      "[9357 rows x 15 columns]\n"
     ]
    }
   ],
   "source": [
    "df = pd.read_csv(\"Assignment_1_ML/AirQualityUCI.csv\")\n",
    "print(df)"
   ]
  },
  {
   "cell_type": "markdown",
   "metadata": {
    "id": "TMHFhOfXuQYl",
    "tags": []
   },
   "source": [
    "### 2- Drop unwanted labels"
   ]
  },
  {
   "cell_type": "code",
   "execution_count": 49,
   "metadata": {
    "id": "L7395CTWuQYm",
    "tags": []
   },
   "outputs": [
    {
     "data": {
      "text/plain": [
       "['Date',\n",
       " 'Time',\n",
       " 'CO(GT)',\n",
       " 'NMHC(GT)',\n",
       " 'C6H6(GT)',\n",
       " 'NOx(GT)',\n",
       " 'NO2(GT)',\n",
       " 'PT08.S4(NO2)',\n",
       " 'T',\n",
       " 'RH',\n",
       " 'AH']"
      ]
     },
     "execution_count": 49,
     "metadata": {},
     "output_type": "execute_result"
    }
   ],
   "source": [
    "df = df.drop([\"PT08.S1(CO)\", 'PT08.S2(NMHC)', 'PT08.S3(NOx)', 'PT08.S5(O3)'], axis=1)\n",
    "df\n",
    "list(df.columns.values)\n"
   ]
  },
  {
   "cell_type": "markdown",
   "metadata": {
    "id": "rMSYDzn1uQYm"
   },
   "source": [
    "### 3- Handle missing data"
   ]
  },
  {
   "cell_type": "code",
   "execution_count": 51,
   "metadata": {
    "id": "FEai7yH9uQYn",
    "tags": []
   },
   "outputs": [
    {
     "data": {
      "text/plain": [
       "Date               0\n",
       "Time               0\n",
       "CO(GT)          1683\n",
       "NMHC(GT)        8443\n",
       "C6H6(GT)         366\n",
       "NOx(GT)         1639\n",
       "NO2(GT)         1642\n",
       "PT08.S4(NO2)     366\n",
       "T                366\n",
       "RH               366\n",
       "AH               366\n",
       "dtype: int64"
      ]
     },
     "execution_count": 51,
     "metadata": {},
     "output_type": "execute_result"
    }
   ],
   "source": [
    "df.isna().sum()"
   ]
  },
  {
   "cell_type": "code",
   "execution_count": 52,
   "metadata": {},
   "outputs": [
    {
     "data": {
      "text/html": [
       "<div>\n",
       "<style scoped>\n",
       "    .dataframe tbody tr th:only-of-type {\n",
       "        vertical-align: middle;\n",
       "    }\n",
       "\n",
       "    .dataframe tbody tr th {\n",
       "        vertical-align: top;\n",
       "    }\n",
       "\n",
       "    .dataframe thead th {\n",
       "        text-align: right;\n",
       "    }\n",
       "</style>\n",
       "<table border=\"1\" class=\"dataframe\">\n",
       "  <thead>\n",
       "    <tr style=\"text-align: right;\">\n",
       "      <th></th>\n",
       "      <th>Date</th>\n",
       "      <th>Time</th>\n",
       "      <th>CO(GT)</th>\n",
       "      <th>NMHC(GT)</th>\n",
       "      <th>C6H6(GT)</th>\n",
       "      <th>NOx(GT)</th>\n",
       "      <th>NO2(GT)</th>\n",
       "      <th>PT08.S4(NO2)</th>\n",
       "      <th>T</th>\n",
       "      <th>RH</th>\n",
       "      <th>AH</th>\n",
       "    </tr>\n",
       "  </thead>\n",
       "  <tbody>\n",
       "    <tr>\n",
       "      <th>0</th>\n",
       "      <td>3/10/2004</td>\n",
       "      <td>18:00:00</td>\n",
       "      <td>2.6</td>\n",
       "      <td>150.0</td>\n",
       "      <td>11.9</td>\n",
       "      <td>166.0</td>\n",
       "      <td>113.0</td>\n",
       "      <td>1692.0</td>\n",
       "      <td>13.6</td>\n",
       "      <td>48.9</td>\n",
       "      <td>0.7578</td>\n",
       "    </tr>\n",
       "    <tr>\n",
       "      <th>1</th>\n",
       "      <td>3/10/2004</td>\n",
       "      <td>19:00:00</td>\n",
       "      <td>2.0</td>\n",
       "      <td>112.0</td>\n",
       "      <td>9.4</td>\n",
       "      <td>103.0</td>\n",
       "      <td>92.0</td>\n",
       "      <td>1559.0</td>\n",
       "      <td>13.3</td>\n",
       "      <td>47.7</td>\n",
       "      <td>0.7255</td>\n",
       "    </tr>\n",
       "    <tr>\n",
       "      <th>2</th>\n",
       "      <td>3/10/2004</td>\n",
       "      <td>20:00:00</td>\n",
       "      <td>2.2</td>\n",
       "      <td>88.0</td>\n",
       "      <td>9.0</td>\n",
       "      <td>131.0</td>\n",
       "      <td>114.0</td>\n",
       "      <td>1555.0</td>\n",
       "      <td>11.9</td>\n",
       "      <td>54.0</td>\n",
       "      <td>0.7502</td>\n",
       "    </tr>\n",
       "    <tr>\n",
       "      <th>3</th>\n",
       "      <td>3/10/2004</td>\n",
       "      <td>21:00:00</td>\n",
       "      <td>2.2</td>\n",
       "      <td>80.0</td>\n",
       "      <td>9.2</td>\n",
       "      <td>172.0</td>\n",
       "      <td>122.0</td>\n",
       "      <td>1584.0</td>\n",
       "      <td>11.0</td>\n",
       "      <td>60.0</td>\n",
       "      <td>0.7867</td>\n",
       "    </tr>\n",
       "    <tr>\n",
       "      <th>4</th>\n",
       "      <td>3/10/2004</td>\n",
       "      <td>22:00:00</td>\n",
       "      <td>1.6</td>\n",
       "      <td>51.0</td>\n",
       "      <td>6.5</td>\n",
       "      <td>131.0</td>\n",
       "      <td>116.0</td>\n",
       "      <td>1490.0</td>\n",
       "      <td>11.2</td>\n",
       "      <td>59.6</td>\n",
       "      <td>0.7888</td>\n",
       "    </tr>\n",
       "    <tr>\n",
       "      <th>...</th>\n",
       "      <td>...</td>\n",
       "      <td>...</td>\n",
       "      <td>...</td>\n",
       "      <td>...</td>\n",
       "      <td>...</td>\n",
       "      <td>...</td>\n",
       "      <td>...</td>\n",
       "      <td>...</td>\n",
       "      <td>...</td>\n",
       "      <td>...</td>\n",
       "      <td>...</td>\n",
       "    </tr>\n",
       "    <tr>\n",
       "      <th>9352</th>\n",
       "      <td>4/4/2005</td>\n",
       "      <td>10:00:00</td>\n",
       "      <td>3.1</td>\n",
       "      <td>NaN</td>\n",
       "      <td>13.5</td>\n",
       "      <td>472.0</td>\n",
       "      <td>190.0</td>\n",
       "      <td>1374.0</td>\n",
       "      <td>21.9</td>\n",
       "      <td>29.3</td>\n",
       "      <td>0.7568</td>\n",
       "    </tr>\n",
       "    <tr>\n",
       "      <th>9353</th>\n",
       "      <td>4/4/2005</td>\n",
       "      <td>11:00:00</td>\n",
       "      <td>2.4</td>\n",
       "      <td>NaN</td>\n",
       "      <td>11.4</td>\n",
       "      <td>353.0</td>\n",
       "      <td>179.0</td>\n",
       "      <td>1264.0</td>\n",
       "      <td>24.3</td>\n",
       "      <td>23.7</td>\n",
       "      <td>0.7119</td>\n",
       "    </tr>\n",
       "    <tr>\n",
       "      <th>9354</th>\n",
       "      <td>4/4/2005</td>\n",
       "      <td>12:00:00</td>\n",
       "      <td>2.4</td>\n",
       "      <td>NaN</td>\n",
       "      <td>12.4</td>\n",
       "      <td>293.0</td>\n",
       "      <td>175.0</td>\n",
       "      <td>1241.0</td>\n",
       "      <td>26.9</td>\n",
       "      <td>18.3</td>\n",
       "      <td>0.6406</td>\n",
       "    </tr>\n",
       "    <tr>\n",
       "      <th>9355</th>\n",
       "      <td>4/4/2005</td>\n",
       "      <td>13:00:00</td>\n",
       "      <td>2.1</td>\n",
       "      <td>NaN</td>\n",
       "      <td>9.5</td>\n",
       "      <td>235.0</td>\n",
       "      <td>156.0</td>\n",
       "      <td>1041.0</td>\n",
       "      <td>28.3</td>\n",
       "      <td>13.5</td>\n",
       "      <td>0.5139</td>\n",
       "    </tr>\n",
       "    <tr>\n",
       "      <th>9356</th>\n",
       "      <td>4/4/2005</td>\n",
       "      <td>14:00:00</td>\n",
       "      <td>2.2</td>\n",
       "      <td>NaN</td>\n",
       "      <td>11.9</td>\n",
       "      <td>265.0</td>\n",
       "      <td>168.0</td>\n",
       "      <td>1129.0</td>\n",
       "      <td>28.5</td>\n",
       "      <td>13.1</td>\n",
       "      <td>0.5028</td>\n",
       "    </tr>\n",
       "  </tbody>\n",
       "</table>\n",
       "<p>8991 rows × 11 columns</p>\n",
       "</div>"
      ],
      "text/plain": [
       "           Date      Time  CO(GT)  NMHC(GT)  C6H6(GT)  NOx(GT)  NO2(GT)  \\\n",
       "0     3/10/2004  18:00:00     2.6     150.0      11.9    166.0    113.0   \n",
       "1     3/10/2004  19:00:00     2.0     112.0       9.4    103.0     92.0   \n",
       "2     3/10/2004  20:00:00     2.2      88.0       9.0    131.0    114.0   \n",
       "3     3/10/2004  21:00:00     2.2      80.0       9.2    172.0    122.0   \n",
       "4     3/10/2004  22:00:00     1.6      51.0       6.5    131.0    116.0   \n",
       "...         ...       ...     ...       ...       ...      ...      ...   \n",
       "9352   4/4/2005  10:00:00     3.1       NaN      13.5    472.0    190.0   \n",
       "9353   4/4/2005  11:00:00     2.4       NaN      11.4    353.0    179.0   \n",
       "9354   4/4/2005  12:00:00     2.4       NaN      12.4    293.0    175.0   \n",
       "9355   4/4/2005  13:00:00     2.1       NaN       9.5    235.0    156.0   \n",
       "9356   4/4/2005  14:00:00     2.2       NaN      11.9    265.0    168.0   \n",
       "\n",
       "      PT08.S4(NO2)     T    RH      AH  \n",
       "0           1692.0  13.6  48.9  0.7578  \n",
       "1           1559.0  13.3  47.7  0.7255  \n",
       "2           1555.0  11.9  54.0  0.7502  \n",
       "3           1584.0  11.0  60.0  0.7867  \n",
       "4           1490.0  11.2  59.6  0.7888  \n",
       "...            ...   ...   ...     ...  \n",
       "9352        1374.0  21.9  29.3  0.7568  \n",
       "9353        1264.0  24.3  23.7  0.7119  \n",
       "9354        1241.0  26.9  18.3  0.6406  \n",
       "9355        1041.0  28.3  13.5  0.5139  \n",
       "9356        1129.0  28.5  13.1  0.5028  \n",
       "\n",
       "[8991 rows x 11 columns]"
      ]
     },
     "execution_count": 52,
     "metadata": {},
     "output_type": "execute_result"
    }
   ],
   "source": [
    "df.drop(df[df['PT08.S4(NO2)'].isna()].index, inplace=True)\n",
    "df"
   ]
  },
  {
   "cell_type": "code",
   "execution_count": 53,
   "metadata": {
    "id": "FEai7yH9uQYn",
    "tags": []
   },
   "outputs": [
    {
     "data": {
      "text/plain": [
       "Date               0\n",
       "Time               0\n",
       "CO(GT)          1647\n",
       "NMHC(GT)        8104\n",
       "C6H6(GT)           0\n",
       "NOx(GT)         1595\n",
       "NO2(GT)         1598\n",
       "PT08.S4(NO2)       0\n",
       "T                  0\n",
       "RH                 0\n",
       "AH                 0\n",
       "dtype: int64"
      ]
     },
     "execution_count": 53,
     "metadata": {},
     "output_type": "execute_result"
    }
   ],
   "source": [
    "df.isna().sum()"
   ]
  },
  {
   "cell_type": "markdown",
   "metadata": {
    "id": "v7vinFJmuQYn"
   },
   "source": [
    "### 4- Replace date feature"
   ]
  },
  {
   "cell_type": "code",
   "execution_count": null,
   "metadata": {
    "collapsed": true,
    "id": "e1X8-GXvuQYn",
    "jupyter": {
     "outputs_hidden": true
    }
   },
   "outputs": [],
   "source": []
  },
  {
   "cell_type": "markdown",
   "metadata": {
    "id": "zHvSGF9fuQYo"
   },
   "source": [
    "### 5- Replace time feature"
   ]
  },
  {
   "cell_type": "code",
   "execution_count": null,
   "metadata": {
    "collapsed": true,
    "id": "vWqvEVdsuQYo",
    "jupyter": {
     "outputs_hidden": true
    }
   },
   "outputs": [],
   "source": []
  },
  {
   "cell_type": "markdown",
   "metadata": {
    "id": "rV0bYDXzuQYo"
   },
   "source": [
    "### 6- Apply feature scaling"
   ]
  },
  {
   "cell_type": "code",
   "execution_count": null,
   "metadata": {
    "collapsed": true,
    "id": "qIgBH_d2uQYo",
    "jupyter": {
     "outputs_hidden": true
    }
   },
   "outputs": [],
   "source": []
  },
  {
   "cell_type": "markdown",
   "metadata": {
    "id": "-Bh7ou_4uQYp"
   },
   "source": [
    "### 7- Evaluate different degrees of lasso CV polynomial regression"
   ]
  },
  {
   "cell_type": "code",
   "execution_count": null,
   "metadata": {
    "collapsed": true,
    "id": "tLBRmfjuuQYp",
    "jupyter": {
     "outputs_hidden": true
    }
   },
   "outputs": [],
   "source": []
  },
  {
   "cell_type": "markdown",
   "metadata": {
    "id": "pDn9gby-uQYp"
   },
   "source": [
    "### 8- Choose the best degree and print the errors, model coefficients and the lasso parameters."
   ]
  },
  {
   "cell_type": "code",
   "execution_count": null,
   "metadata": {
    "collapsed": true,
    "id": "xLdmHaPBuQYq",
    "jupyter": {
     "outputs_hidden": true
    }
   },
   "outputs": [],
   "source": []
  },
  {
   "cell_type": "markdown",
   "metadata": {
    "id": "M8SOg6KEuQYq"
   },
   "source": [
    "### 9a- Evaluate different degrees of Ridge CV polynomial regression"
   ]
  },
  {
   "cell_type": "code",
   "execution_count": null,
   "metadata": {
    "collapsed": true,
    "id": "IqWaySbcuQYq",
    "jupyter": {
     "outputs_hidden": true
    }
   },
   "outputs": [],
   "source": []
  },
  {
   "cell_type": "markdown",
   "metadata": {
    "id": "8Bj_3j9RuQYr"
   },
   "source": [
    "### 9b- Choose the best degree and print the errors, model coefficients and the Ridge parameters."
   ]
  },
  {
   "cell_type": "code",
   "execution_count": null,
   "metadata": {
    "collapsed": true,
    "id": "4q5E5NnbuQYr",
    "jupyter": {
     "outputs_hidden": true
    }
   },
   "outputs": [],
   "source": []
  },
  {
   "cell_type": "markdown",
   "metadata": {
    "id": "MN4RwweLuQYr"
   },
   "source": [
    "### 10a- Evaluate different degrees of ElasticNet CV polynomial regression"
   ]
  },
  {
   "cell_type": "code",
   "execution_count": null,
   "metadata": {
    "collapsed": true,
    "id": "qK9SePrtuQYr",
    "jupyter": {
     "outputs_hidden": true
    }
   },
   "outputs": [],
   "source": []
  },
  {
   "cell_type": "markdown",
   "metadata": {
    "id": "JSt5s73XuQYr"
   },
   "source": [
    "### 10b- Choose the best degree and print the errors, model coefficients and ElasticNet parameters."
   ]
  },
  {
   "cell_type": "code",
   "execution_count": null,
   "metadata": {
    "collapsed": true,
    "id": "UkbcQLlLuQYr",
    "jupyter": {
     "outputs_hidden": true
    }
   },
   "outputs": [],
   "source": []
  },
  {
   "cell_type": "markdown",
   "metadata": {
    "id": "O_cuFINquQYs"
   },
   "source": [
    "### 11- Compare the errors from the 3 regularization techniques, and save the best model."
   ]
  },
  {
   "cell_type": "code",
   "execution_count": null,
   "metadata": {
    "collapsed": true,
    "id": "qn58GoGpuQYs",
    "jupyter": {
     "outputs_hidden": true
    }
   },
   "outputs": [],
   "source": []
  },
  {
   "cell_type": "markdown",
   "metadata": {
    "id": "IUGAAZY4uQYs"
   },
   "source": [
    "### 12- Load the best model and test it on a sample that you manually created it."
   ]
  },
  {
   "cell_type": "code",
   "execution_count": null,
   "metadata": {
    "collapsed": true,
    "id": "SIw1mo3kuQYs",
    "jupyter": {
     "outputs_hidden": true
    }
   },
   "outputs": [],
   "source": []
  },
  {
   "cell_type": "markdown",
   "metadata": {
    "id": "G3dUEoJjj-AK"
   },
   "source": [
    "## Great work!\n",
    "----"
   ]
  }
 ],
 "metadata": {
  "anaconda-cloud": {},
  "colab": {
   "provenance": []
  },
  "kernelspec": {
   "display_name": "Python 3 (ipykernel)",
   "language": "python",
   "name": "python3"
  },
  "language_info": {
   "codemirror_mode": {
    "name": "ipython",
    "version": 3
   },
   "file_extension": ".py",
   "mimetype": "text/x-python",
   "name": "python",
   "nbconvert_exporter": "python",
   "pygments_lexer": "ipython3",
   "version": "3.9.6"
  }
 },
 "nbformat": 4,
 "nbformat_minor": 4
}

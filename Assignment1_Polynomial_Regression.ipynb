{
  "cells": [
    {
      "cell_type": "markdown",
      "metadata": {
        "id": "nz_9QnWBj9_6"
      },
      "source": [
        "# Polynomial Regression Assignment (Please do not remove the output cells)"
      ]
    },
    {
      "cell_type": "markdown",
      "metadata": {
        "id": "oNtRAlw1uQYi",
        "tags": []
      },
      "source": [
        "## The objective is to apply polynomial regression on the provided data using 3 regularization techniques"
      ]
    },
    {
      "cell_type": "markdown",
      "metadata": {
        "id": "0Sh_Oqa2j9_7"
      },
      "source": [
        "Tasks are defined below:\n",
        "1-  Read the dataset, and get acquainted with its features and labels. Check the link below for more details about the data.  \n",
        "https://archive.ics.uci.edu/ml/datasets/Air+Quality  \n",
        "\n",
        "2-  This dataset has 5 different output labels. For this assignment we only need the NO2 output. Please drop other outputs.  \n",
        "\n",
        "3-  Handle missing data similar to what was covered in tutorial 3.  \n",
        "\n",
        "4-  Replace the date feature with 3 separate features (Day, Month and Year).  \n",
        "\n",
        "5-  Replace the time feature with 3 separate features (Hours, Minutes and Seconds).  \n",
        "\n",
        "6-  Apply feature scaling.  \n",
        "\n",
        "7-  Evaluate different degrees of lasso CV polynomial regression.  \n",
        "\n",
        "8-  Choose the best degree and print the errors on the test data, model coefficients and the lasso parameters.  \n",
        "\n",
        "9-  Repeat steps 4 and 5 using Ridge CV polynomial regression.  \n",
        "\n",
        "10- Repeat steps 4 and 5 using ElasticNet CV polynomial regression.  \n",
        "\n",
        "11- Compare the errors from the 3 regularization techniques, and save the best model.  \n",
        "\n",
        "12- Load the best model and test it on a sample that you manually created it.  \n"
      ]
    },
    {
      "cell_type": "markdown",
      "metadata": {
        "id": "LWdHmdZrhcQU"
      },
      "source": [
        "## Enter your IDs and Names below"
      ]
    },
    {
      "cell_type": "markdown",
      "metadata": {
        "id": "5IpKDl2shcQV"
      },
      "source": [
        "1-   \n",
        "  \n",
        "2-"
      ]
    },
    {
      "cell_type": "markdown",
      "metadata": {
        "id": "bsZFdAtSj9_8"
      },
      "source": [
        "\n",
        "### Imports"
      ]
    },
    {
      "cell_type": "code",
      "execution_count": null,
      "metadata": {
        "id": "nuN2-J1bj9_9",
        "tags": []
      },
      "outputs": [],
      "source": [
        "import pandas as pd\n",
        "import numpy as np"
      ]
    },
    {
      "cell_type": "markdown",
      "metadata": {
        "id": "hszifOuTj9__"
      },
      "source": [
        "### 1- Read the data"
      ]
    },
    {
      "cell_type": "code",
      "execution_count": 39,
      "metadata": {
        "id": "ZzX469qmUTu2",
        "tags": [],
        "colab": {
          "base_uri": "https://localhost:8080/"
        },
        "outputId": "cbbb0a8c-517e-4197-84cf-6238708f91ad"
      },
      "outputs": [
        {
          "output_type": "stream",
          "name": "stdout",
          "text": [
            "           Date      Time  CO(GT)  PT08.S1(CO)  NMHC(GT)  C6H6(GT)  \\\n",
            "0     3/10/2004  18:00:00     2.6       1360.0     150.0      11.9   \n",
            "1     3/10/2004  19:00:00     2.0       1292.0     112.0       9.4   \n",
            "2     3/10/2004  20:00:00     2.2       1402.0      88.0       9.0   \n",
            "3     3/10/2004  21:00:00     2.2       1376.0      80.0       9.2   \n",
            "4     3/10/2004  22:00:00     1.6       1272.0      51.0       6.5   \n",
            "...         ...       ...     ...          ...       ...       ...   \n",
            "9352   4/4/2005  10:00:00     3.1       1314.0       NaN      13.5   \n",
            "9353   4/4/2005  11:00:00     2.4       1163.0       NaN      11.4   \n",
            "9354   4/4/2005  12:00:00     2.4       1142.0       NaN      12.4   \n",
            "9355   4/4/2005  13:00:00     2.1       1003.0       NaN       9.5   \n",
            "9356   4/4/2005  14:00:00     2.2       1071.0       NaN      11.9   \n",
            "\n",
            "      PT08.S2(NMHC)  NOx(GT)  PT08.S3(NOx)  NO2(GT)  PT08.S4(NO2)  \\\n",
            "0            1046.0    166.0        1056.0    113.0        1692.0   \n",
            "1             955.0    103.0        1174.0     92.0        1559.0   \n",
            "2             939.0    131.0        1140.0    114.0        1555.0   \n",
            "3             948.0    172.0        1092.0    122.0        1584.0   \n",
            "4             836.0    131.0        1205.0    116.0        1490.0   \n",
            "...             ...      ...           ...      ...           ...   \n",
            "9352         1101.0    472.0         539.0    190.0        1374.0   \n",
            "9353         1027.0    353.0         604.0    179.0        1264.0   \n",
            "9354         1063.0    293.0         603.0    175.0        1241.0   \n",
            "9355          961.0    235.0         702.0    156.0        1041.0   \n",
            "9356         1047.0    265.0         654.0    168.0        1129.0   \n",
            "\n",
            "      PT08.S5(O3)     T    RH      AH  \n",
            "0          1268.0  13.6  48.9  0.7578  \n",
            "1           972.0  13.3  47.7  0.7255  \n",
            "2          1074.0  11.9  54.0  0.7502  \n",
            "3          1203.0  11.0  60.0  0.7867  \n",
            "4          1110.0  11.2  59.6  0.7888  \n",
            "...           ...   ...   ...     ...  \n",
            "9352       1729.0  21.9  29.3  0.7568  \n",
            "9353       1269.0  24.3  23.7  0.7119  \n",
            "9354       1092.0  26.9  18.3  0.6406  \n",
            "9355        770.0  28.3  13.5  0.5139  \n",
            "9356        816.0  28.5  13.1  0.5028  \n",
            "\n",
            "[9357 rows x 15 columns]\n"
          ]
        }
      ],
      "source": [
        "df = pd.read_csv(\"AirQualityUCI.csv\")\n",
        "print(df)"
      ]
    },
    {
      "cell_type": "markdown",
      "metadata": {
        "id": "TMHFhOfXuQYl",
        "tags": []
      },
      "source": [
        "### 2- Drop unwanted labels"
      ]
    },
    {
      "cell_type": "code",
      "execution_count": 40,
      "metadata": {
        "id": "L7395CTWuQYm",
        "tags": [],
        "colab": {
          "base_uri": "https://localhost:8080/"
        },
        "outputId": "e1daef10-8536-4d06-b663-ca18a8c71c79"
      },
      "outputs": [
        {
          "output_type": "execute_result",
          "data": {
            "text/plain": [
              "['Date',\n",
              " 'Time',\n",
              " 'PT08.S1(CO)',\n",
              " 'PT08.S2(NMHC)',\n",
              " 'PT08.S3(NOx)',\n",
              " 'NO2(GT)',\n",
              " 'PT08.S4(NO2)',\n",
              " 'PT08.S5(O3)',\n",
              " 'T',\n",
              " 'RH',\n",
              " 'AH']"
            ]
          },
          "metadata": {},
          "execution_count": 40
        }
      ],
      "source": [
        "df = df.drop(['CO(GT)','NMHC(GT)', 'C6H6(GT)', 'NOx(GT)'], axis=1)\n",
        "list(df.columns.values)\n"
      ]
    },
    {
      "cell_type": "markdown",
      "metadata": {
        "id": "rMSYDzn1uQYm"
      },
      "source": [
        "### 3- Handle missing data"
      ]
    },
    {
      "cell_type": "code",
      "execution_count": 41,
      "metadata": {
        "id": "FEai7yH9uQYn",
        "tags": [],
        "colab": {
          "base_uri": "https://localhost:8080/"
        },
        "outputId": "3be89257-8eff-42c2-a647-c1daeb02eaae"
      },
      "outputs": [
        {
          "output_type": "execute_result",
          "data": {
            "text/plain": [
              "Date                0\n",
              "Time                0\n",
              "PT08.S1(CO)       366\n",
              "PT08.S2(NMHC)     366\n",
              "PT08.S3(NOx)      366\n",
              "NO2(GT)          1642\n",
              "PT08.S4(NO2)      366\n",
              "PT08.S5(O3)       366\n",
              "T                 366\n",
              "RH                366\n",
              "AH                366\n",
              "dtype: int64"
            ]
          },
          "metadata": {},
          "execution_count": 41
        }
      ],
      "source": [
        "df.isna().sum()"
      ]
    },
    {
      "cell_type": "code",
      "execution_count": 42,
      "metadata": {
        "colab": {
          "base_uri": "https://localhost:8080/",
          "height": 424
        },
        "id": "4-VhX9Y2hcQc",
        "outputId": "378d1e8e-7f0a-4a8d-8e96-8e15105bf14a"
      },
      "outputs": [
        {
          "output_type": "execute_result",
          "data": {
            "text/plain": [
              "           Date      Time  PT08.S1(CO)  PT08.S2(NMHC)  PT08.S3(NOx)  NO2(GT)  \\\n",
              "0     3/10/2004  18:00:00       1360.0         1046.0        1056.0    113.0   \n",
              "1     3/10/2004  19:00:00       1292.0          955.0        1174.0     92.0   \n",
              "2     3/10/2004  20:00:00       1402.0          939.0        1140.0    114.0   \n",
              "3     3/10/2004  21:00:00       1376.0          948.0        1092.0    122.0   \n",
              "4     3/10/2004  22:00:00       1272.0          836.0        1205.0    116.0   \n",
              "...         ...       ...          ...            ...           ...      ...   \n",
              "9352   4/4/2005  10:00:00       1314.0         1101.0         539.0    190.0   \n",
              "9353   4/4/2005  11:00:00       1163.0         1027.0         604.0    179.0   \n",
              "9354   4/4/2005  12:00:00       1142.0         1063.0         603.0    175.0   \n",
              "9355   4/4/2005  13:00:00       1003.0          961.0         702.0    156.0   \n",
              "9356   4/4/2005  14:00:00       1071.0         1047.0         654.0    168.0   \n",
              "\n",
              "      PT08.S4(NO2)  PT08.S5(O3)     T    RH      AH  \n",
              "0           1692.0       1268.0  13.6  48.9  0.7578  \n",
              "1           1559.0        972.0  13.3  47.7  0.7255  \n",
              "2           1555.0       1074.0  11.9  54.0  0.7502  \n",
              "3           1584.0       1203.0  11.0  60.0  0.7867  \n",
              "4           1490.0       1110.0  11.2  59.6  0.7888  \n",
              "...            ...          ...   ...   ...     ...  \n",
              "9352        1374.0       1729.0  21.9  29.3  0.7568  \n",
              "9353        1264.0       1269.0  24.3  23.7  0.7119  \n",
              "9354        1241.0       1092.0  26.9  18.3  0.6406  \n",
              "9355        1041.0        770.0  28.3  13.5  0.5139  \n",
              "9356        1129.0        816.0  28.5  13.1  0.5028  \n",
              "\n",
              "[7393 rows x 11 columns]"
            ],
            "text/html": [
              "\n",
              "  <div id=\"df-c36acc19-6d76-42ee-94f7-b109cb95d4dd\">\n",
              "    <div class=\"colab-df-container\">\n",
              "      <div>\n",
              "<style scoped>\n",
              "    .dataframe tbody tr th:only-of-type {\n",
              "        vertical-align: middle;\n",
              "    }\n",
              "\n",
              "    .dataframe tbody tr th {\n",
              "        vertical-align: top;\n",
              "    }\n",
              "\n",
              "    .dataframe thead th {\n",
              "        text-align: right;\n",
              "    }\n",
              "</style>\n",
              "<table border=\"1\" class=\"dataframe\">\n",
              "  <thead>\n",
              "    <tr style=\"text-align: right;\">\n",
              "      <th></th>\n",
              "      <th>Date</th>\n",
              "      <th>Time</th>\n",
              "      <th>PT08.S1(CO)</th>\n",
              "      <th>PT08.S2(NMHC)</th>\n",
              "      <th>PT08.S3(NOx)</th>\n",
              "      <th>NO2(GT)</th>\n",
              "      <th>PT08.S4(NO2)</th>\n",
              "      <th>PT08.S5(O3)</th>\n",
              "      <th>T</th>\n",
              "      <th>RH</th>\n",
              "      <th>AH</th>\n",
              "    </tr>\n",
              "  </thead>\n",
              "  <tbody>\n",
              "    <tr>\n",
              "      <th>0</th>\n",
              "      <td>3/10/2004</td>\n",
              "      <td>18:00:00</td>\n",
              "      <td>1360.0</td>\n",
              "      <td>1046.0</td>\n",
              "      <td>1056.0</td>\n",
              "      <td>113.0</td>\n",
              "      <td>1692.0</td>\n",
              "      <td>1268.0</td>\n",
              "      <td>13.6</td>\n",
              "      <td>48.9</td>\n",
              "      <td>0.7578</td>\n",
              "    </tr>\n",
              "    <tr>\n",
              "      <th>1</th>\n",
              "      <td>3/10/2004</td>\n",
              "      <td>19:00:00</td>\n",
              "      <td>1292.0</td>\n",
              "      <td>955.0</td>\n",
              "      <td>1174.0</td>\n",
              "      <td>92.0</td>\n",
              "      <td>1559.0</td>\n",
              "      <td>972.0</td>\n",
              "      <td>13.3</td>\n",
              "      <td>47.7</td>\n",
              "      <td>0.7255</td>\n",
              "    </tr>\n",
              "    <tr>\n",
              "      <th>2</th>\n",
              "      <td>3/10/2004</td>\n",
              "      <td>20:00:00</td>\n",
              "      <td>1402.0</td>\n",
              "      <td>939.0</td>\n",
              "      <td>1140.0</td>\n",
              "      <td>114.0</td>\n",
              "      <td>1555.0</td>\n",
              "      <td>1074.0</td>\n",
              "      <td>11.9</td>\n",
              "      <td>54.0</td>\n",
              "      <td>0.7502</td>\n",
              "    </tr>\n",
              "    <tr>\n",
              "      <th>3</th>\n",
              "      <td>3/10/2004</td>\n",
              "      <td>21:00:00</td>\n",
              "      <td>1376.0</td>\n",
              "      <td>948.0</td>\n",
              "      <td>1092.0</td>\n",
              "      <td>122.0</td>\n",
              "      <td>1584.0</td>\n",
              "      <td>1203.0</td>\n",
              "      <td>11.0</td>\n",
              "      <td>60.0</td>\n",
              "      <td>0.7867</td>\n",
              "    </tr>\n",
              "    <tr>\n",
              "      <th>4</th>\n",
              "      <td>3/10/2004</td>\n",
              "      <td>22:00:00</td>\n",
              "      <td>1272.0</td>\n",
              "      <td>836.0</td>\n",
              "      <td>1205.0</td>\n",
              "      <td>116.0</td>\n",
              "      <td>1490.0</td>\n",
              "      <td>1110.0</td>\n",
              "      <td>11.2</td>\n",
              "      <td>59.6</td>\n",
              "      <td>0.7888</td>\n",
              "    </tr>\n",
              "    <tr>\n",
              "      <th>...</th>\n",
              "      <td>...</td>\n",
              "      <td>...</td>\n",
              "      <td>...</td>\n",
              "      <td>...</td>\n",
              "      <td>...</td>\n",
              "      <td>...</td>\n",
              "      <td>...</td>\n",
              "      <td>...</td>\n",
              "      <td>...</td>\n",
              "      <td>...</td>\n",
              "      <td>...</td>\n",
              "    </tr>\n",
              "    <tr>\n",
              "      <th>9352</th>\n",
              "      <td>4/4/2005</td>\n",
              "      <td>10:00:00</td>\n",
              "      <td>1314.0</td>\n",
              "      <td>1101.0</td>\n",
              "      <td>539.0</td>\n",
              "      <td>190.0</td>\n",
              "      <td>1374.0</td>\n",
              "      <td>1729.0</td>\n",
              "      <td>21.9</td>\n",
              "      <td>29.3</td>\n",
              "      <td>0.7568</td>\n",
              "    </tr>\n",
              "    <tr>\n",
              "      <th>9353</th>\n",
              "      <td>4/4/2005</td>\n",
              "      <td>11:00:00</td>\n",
              "      <td>1163.0</td>\n",
              "      <td>1027.0</td>\n",
              "      <td>604.0</td>\n",
              "      <td>179.0</td>\n",
              "      <td>1264.0</td>\n",
              "      <td>1269.0</td>\n",
              "      <td>24.3</td>\n",
              "      <td>23.7</td>\n",
              "      <td>0.7119</td>\n",
              "    </tr>\n",
              "    <tr>\n",
              "      <th>9354</th>\n",
              "      <td>4/4/2005</td>\n",
              "      <td>12:00:00</td>\n",
              "      <td>1142.0</td>\n",
              "      <td>1063.0</td>\n",
              "      <td>603.0</td>\n",
              "      <td>175.0</td>\n",
              "      <td>1241.0</td>\n",
              "      <td>1092.0</td>\n",
              "      <td>26.9</td>\n",
              "      <td>18.3</td>\n",
              "      <td>0.6406</td>\n",
              "    </tr>\n",
              "    <tr>\n",
              "      <th>9355</th>\n",
              "      <td>4/4/2005</td>\n",
              "      <td>13:00:00</td>\n",
              "      <td>1003.0</td>\n",
              "      <td>961.0</td>\n",
              "      <td>702.0</td>\n",
              "      <td>156.0</td>\n",
              "      <td>1041.0</td>\n",
              "      <td>770.0</td>\n",
              "      <td>28.3</td>\n",
              "      <td>13.5</td>\n",
              "      <td>0.5139</td>\n",
              "    </tr>\n",
              "    <tr>\n",
              "      <th>9356</th>\n",
              "      <td>4/4/2005</td>\n",
              "      <td>14:00:00</td>\n",
              "      <td>1071.0</td>\n",
              "      <td>1047.0</td>\n",
              "      <td>654.0</td>\n",
              "      <td>168.0</td>\n",
              "      <td>1129.0</td>\n",
              "      <td>816.0</td>\n",
              "      <td>28.5</td>\n",
              "      <td>13.1</td>\n",
              "      <td>0.5028</td>\n",
              "    </tr>\n",
              "  </tbody>\n",
              "</table>\n",
              "<p>7393 rows × 11 columns</p>\n",
              "</div>\n",
              "      <button class=\"colab-df-convert\" onclick=\"convertToInteractive('df-c36acc19-6d76-42ee-94f7-b109cb95d4dd')\"\n",
              "              title=\"Convert this dataframe to an interactive table.\"\n",
              "              style=\"display:none;\">\n",
              "        \n",
              "  <svg xmlns=\"http://www.w3.org/2000/svg\" height=\"24px\"viewBox=\"0 0 24 24\"\n",
              "       width=\"24px\">\n",
              "    <path d=\"M0 0h24v24H0V0z\" fill=\"none\"/>\n",
              "    <path d=\"M18.56 5.44l.94 2.06.94-2.06 2.06-.94-2.06-.94-.94-2.06-.94 2.06-2.06.94zm-11 1L8.5 8.5l.94-2.06 2.06-.94-2.06-.94L8.5 2.5l-.94 2.06-2.06.94zm10 10l.94 2.06.94-2.06 2.06-.94-2.06-.94-.94-2.06-.94 2.06-2.06.94z\"/><path d=\"M17.41 7.96l-1.37-1.37c-.4-.4-.92-.59-1.43-.59-.52 0-1.04.2-1.43.59L10.3 9.45l-7.72 7.72c-.78.78-.78 2.05 0 2.83L4 21.41c.39.39.9.59 1.41.59.51 0 1.02-.2 1.41-.59l7.78-7.78 2.81-2.81c.8-.78.8-2.07 0-2.86zM5.41 20L4 18.59l7.72-7.72 1.47 1.35L5.41 20z\"/>\n",
              "  </svg>\n",
              "      </button>\n",
              "      \n",
              "  <style>\n",
              "    .colab-df-container {\n",
              "      display:flex;\n",
              "      flex-wrap:wrap;\n",
              "      gap: 12px;\n",
              "    }\n",
              "\n",
              "    .colab-df-convert {\n",
              "      background-color: #E8F0FE;\n",
              "      border: none;\n",
              "      border-radius: 50%;\n",
              "      cursor: pointer;\n",
              "      display: none;\n",
              "      fill: #1967D2;\n",
              "      height: 32px;\n",
              "      padding: 0 0 0 0;\n",
              "      width: 32px;\n",
              "    }\n",
              "\n",
              "    .colab-df-convert:hover {\n",
              "      background-color: #E2EBFA;\n",
              "      box-shadow: 0px 1px 2px rgba(60, 64, 67, 0.3), 0px 1px 3px 1px rgba(60, 64, 67, 0.15);\n",
              "      fill: #174EA6;\n",
              "    }\n",
              "\n",
              "    [theme=dark] .colab-df-convert {\n",
              "      background-color: #3B4455;\n",
              "      fill: #D2E3FC;\n",
              "    }\n",
              "\n",
              "    [theme=dark] .colab-df-convert:hover {\n",
              "      background-color: #434B5C;\n",
              "      box-shadow: 0px 1px 3px 1px rgba(0, 0, 0, 0.15);\n",
              "      filter: drop-shadow(0px 1px 2px rgba(0, 0, 0, 0.3));\n",
              "      fill: #FFFFFF;\n",
              "    }\n",
              "  </style>\n",
              "\n",
              "      <script>\n",
              "        const buttonEl =\n",
              "          document.querySelector('#df-c36acc19-6d76-42ee-94f7-b109cb95d4dd button.colab-df-convert');\n",
              "        buttonEl.style.display =\n",
              "          google.colab.kernel.accessAllowed ? 'block' : 'none';\n",
              "\n",
              "        async function convertToInteractive(key) {\n",
              "          const element = document.querySelector('#df-c36acc19-6d76-42ee-94f7-b109cb95d4dd');\n",
              "          const dataTable =\n",
              "            await google.colab.kernel.invokeFunction('convertToInteractive',\n",
              "                                                     [key], {});\n",
              "          if (!dataTable) return;\n",
              "\n",
              "          const docLinkHtml = 'Like what you see? Visit the ' +\n",
              "            '<a target=\"_blank\" href=https://colab.research.google.com/notebooks/data_table.ipynb>data table notebook</a>'\n",
              "            + ' to learn more about interactive tables.';\n",
              "          element.innerHTML = '';\n",
              "          dataTable['output_type'] = 'display_data';\n",
              "          await google.colab.output.renderOutput(dataTable, element);\n",
              "          const docLink = document.createElement('div');\n",
              "          docLink.innerHTML = docLinkHtml;\n",
              "          element.appendChild(docLink);\n",
              "        }\n",
              "      </script>\n",
              "    </div>\n",
              "  </div>\n",
              "  "
            ]
          },
          "metadata": {},
          "execution_count": 42
        }
      ],
      "source": [
        "df.drop(df[df['PT08.S4(NO2)'].isna()].index, inplace=True)\n",
        "df = df.dropna()\n",
        "df"
      ]
    },
    {
      "cell_type": "code",
      "execution_count": 43,
      "metadata": {
        "tags": [],
        "colab": {
          "base_uri": "https://localhost:8080/"
        },
        "id": "IQ9SaHwjhcQc",
        "outputId": "f38761f4-c002-42ec-bd77-ef5e3b960dae"
      },
      "outputs": [
        {
          "output_type": "execute_result",
          "data": {
            "text/plain": [
              "Date             0\n",
              "Time             0\n",
              "PT08.S1(CO)      0\n",
              "PT08.S2(NMHC)    0\n",
              "PT08.S3(NOx)     0\n",
              "NO2(GT)          0\n",
              "PT08.S4(NO2)     0\n",
              "PT08.S5(O3)      0\n",
              "T                0\n",
              "RH               0\n",
              "AH               0\n",
              "dtype: int64"
            ]
          },
          "metadata": {},
          "execution_count": 43
        }
      ],
      "source": [
        "df.isna().sum()"
      ]
    },
    {
      "cell_type": "markdown",
      "metadata": {
        "id": "v7vinFJmuQYn"
      },
      "source": [
        "### 4- Replace date feature"
      ]
    },
    {
      "cell_type": "code",
      "execution_count": 48,
      "metadata": {
        "collapsed": true,
        "id": "e1X8-GXvuQYn",
        "jupyter": {
          "outputs_hidden": true
        },
        "colab": {
          "base_uri": "https://localhost:8080/",
          "height": 424
        },
        "outputId": "84290b3b-eeba-4440-b881-13d1cb8e9cff"
      },
      "outputs": [
        {
          "output_type": "execute_result",
          "data": {
            "text/plain": [
              "          Time  PT08.S1(CO)  PT08.S2(NMHC)  PT08.S3(NOx)  NO2(GT)  \\\n",
              "0     18:00:00       1360.0         1046.0        1056.0    113.0   \n",
              "1     19:00:00       1292.0          955.0        1174.0     92.0   \n",
              "2     20:00:00       1402.0          939.0        1140.0    114.0   \n",
              "3     21:00:00       1376.0          948.0        1092.0    122.0   \n",
              "4     22:00:00       1272.0          836.0        1205.0    116.0   \n",
              "...        ...          ...            ...           ...      ...   \n",
              "9352  10:00:00       1314.0         1101.0         539.0    190.0   \n",
              "9353  11:00:00       1163.0         1027.0         604.0    179.0   \n",
              "9354  12:00:00       1142.0         1063.0         603.0    175.0   \n",
              "9355  13:00:00       1003.0          961.0         702.0    156.0   \n",
              "9356  14:00:00       1071.0         1047.0         654.0    168.0   \n",
              "\n",
              "      PT08.S4(NO2)  PT08.S5(O3)     T    RH      AH Month Day  Year  \n",
              "0           1692.0       1268.0  13.6  48.9  0.7578     3  10  2004  \n",
              "1           1559.0        972.0  13.3  47.7  0.7255     3  10  2004  \n",
              "2           1555.0       1074.0  11.9  54.0  0.7502     3  10  2004  \n",
              "3           1584.0       1203.0  11.0  60.0  0.7867     3  10  2004  \n",
              "4           1490.0       1110.0  11.2  59.6  0.7888     3  10  2004  \n",
              "...            ...          ...   ...   ...     ...   ...  ..   ...  \n",
              "9352        1374.0       1729.0  21.9  29.3  0.7568     4   4  2005  \n",
              "9353        1264.0       1269.0  24.3  23.7  0.7119     4   4  2005  \n",
              "9354        1241.0       1092.0  26.9  18.3  0.6406     4   4  2005  \n",
              "9355        1041.0        770.0  28.3  13.5  0.5139     4   4  2005  \n",
              "9356        1129.0        816.0  28.5  13.1  0.5028     4   4  2005  \n",
              "\n",
              "[7393 rows x 13 columns]"
            ],
            "text/html": [
              "\n",
              "  <div id=\"df-89f3a33a-d733-41fe-861f-558d791f33ea\">\n",
              "    <div class=\"colab-df-container\">\n",
              "      <div>\n",
              "<style scoped>\n",
              "    .dataframe tbody tr th:only-of-type {\n",
              "        vertical-align: middle;\n",
              "    }\n",
              "\n",
              "    .dataframe tbody tr th {\n",
              "        vertical-align: top;\n",
              "    }\n",
              "\n",
              "    .dataframe thead th {\n",
              "        text-align: right;\n",
              "    }\n",
              "</style>\n",
              "<table border=\"1\" class=\"dataframe\">\n",
              "  <thead>\n",
              "    <tr style=\"text-align: right;\">\n",
              "      <th></th>\n",
              "      <th>Time</th>\n",
              "      <th>PT08.S1(CO)</th>\n",
              "      <th>PT08.S2(NMHC)</th>\n",
              "      <th>PT08.S3(NOx)</th>\n",
              "      <th>NO2(GT)</th>\n",
              "      <th>PT08.S4(NO2)</th>\n",
              "      <th>PT08.S5(O3)</th>\n",
              "      <th>T</th>\n",
              "      <th>RH</th>\n",
              "      <th>AH</th>\n",
              "      <th>Month</th>\n",
              "      <th>Day</th>\n",
              "      <th>Year</th>\n",
              "    </tr>\n",
              "  </thead>\n",
              "  <tbody>\n",
              "    <tr>\n",
              "      <th>0</th>\n",
              "      <td>18:00:00</td>\n",
              "      <td>1360.0</td>\n",
              "      <td>1046.0</td>\n",
              "      <td>1056.0</td>\n",
              "      <td>113.0</td>\n",
              "      <td>1692.0</td>\n",
              "      <td>1268.0</td>\n",
              "      <td>13.6</td>\n",
              "      <td>48.9</td>\n",
              "      <td>0.7578</td>\n",
              "      <td>3</td>\n",
              "      <td>10</td>\n",
              "      <td>2004</td>\n",
              "    </tr>\n",
              "    <tr>\n",
              "      <th>1</th>\n",
              "      <td>19:00:00</td>\n",
              "      <td>1292.0</td>\n",
              "      <td>955.0</td>\n",
              "      <td>1174.0</td>\n",
              "      <td>92.0</td>\n",
              "      <td>1559.0</td>\n",
              "      <td>972.0</td>\n",
              "      <td>13.3</td>\n",
              "      <td>47.7</td>\n",
              "      <td>0.7255</td>\n",
              "      <td>3</td>\n",
              "      <td>10</td>\n",
              "      <td>2004</td>\n",
              "    </tr>\n",
              "    <tr>\n",
              "      <th>2</th>\n",
              "      <td>20:00:00</td>\n",
              "      <td>1402.0</td>\n",
              "      <td>939.0</td>\n",
              "      <td>1140.0</td>\n",
              "      <td>114.0</td>\n",
              "      <td>1555.0</td>\n",
              "      <td>1074.0</td>\n",
              "      <td>11.9</td>\n",
              "      <td>54.0</td>\n",
              "      <td>0.7502</td>\n",
              "      <td>3</td>\n",
              "      <td>10</td>\n",
              "      <td>2004</td>\n",
              "    </tr>\n",
              "    <tr>\n",
              "      <th>3</th>\n",
              "      <td>21:00:00</td>\n",
              "      <td>1376.0</td>\n",
              "      <td>948.0</td>\n",
              "      <td>1092.0</td>\n",
              "      <td>122.0</td>\n",
              "      <td>1584.0</td>\n",
              "      <td>1203.0</td>\n",
              "      <td>11.0</td>\n",
              "      <td>60.0</td>\n",
              "      <td>0.7867</td>\n",
              "      <td>3</td>\n",
              "      <td>10</td>\n",
              "      <td>2004</td>\n",
              "    </tr>\n",
              "    <tr>\n",
              "      <th>4</th>\n",
              "      <td>22:00:00</td>\n",
              "      <td>1272.0</td>\n",
              "      <td>836.0</td>\n",
              "      <td>1205.0</td>\n",
              "      <td>116.0</td>\n",
              "      <td>1490.0</td>\n",
              "      <td>1110.0</td>\n",
              "      <td>11.2</td>\n",
              "      <td>59.6</td>\n",
              "      <td>0.7888</td>\n",
              "      <td>3</td>\n",
              "      <td>10</td>\n",
              "      <td>2004</td>\n",
              "    </tr>\n",
              "    <tr>\n",
              "      <th>...</th>\n",
              "      <td>...</td>\n",
              "      <td>...</td>\n",
              "      <td>...</td>\n",
              "      <td>...</td>\n",
              "      <td>...</td>\n",
              "      <td>...</td>\n",
              "      <td>...</td>\n",
              "      <td>...</td>\n",
              "      <td>...</td>\n",
              "      <td>...</td>\n",
              "      <td>...</td>\n",
              "      <td>...</td>\n",
              "      <td>...</td>\n",
              "    </tr>\n",
              "    <tr>\n",
              "      <th>9352</th>\n",
              "      <td>10:00:00</td>\n",
              "      <td>1314.0</td>\n",
              "      <td>1101.0</td>\n",
              "      <td>539.0</td>\n",
              "      <td>190.0</td>\n",
              "      <td>1374.0</td>\n",
              "      <td>1729.0</td>\n",
              "      <td>21.9</td>\n",
              "      <td>29.3</td>\n",
              "      <td>0.7568</td>\n",
              "      <td>4</td>\n",
              "      <td>4</td>\n",
              "      <td>2005</td>\n",
              "    </tr>\n",
              "    <tr>\n",
              "      <th>9353</th>\n",
              "      <td>11:00:00</td>\n",
              "      <td>1163.0</td>\n",
              "      <td>1027.0</td>\n",
              "      <td>604.0</td>\n",
              "      <td>179.0</td>\n",
              "      <td>1264.0</td>\n",
              "      <td>1269.0</td>\n",
              "      <td>24.3</td>\n",
              "      <td>23.7</td>\n",
              "      <td>0.7119</td>\n",
              "      <td>4</td>\n",
              "      <td>4</td>\n",
              "      <td>2005</td>\n",
              "    </tr>\n",
              "    <tr>\n",
              "      <th>9354</th>\n",
              "      <td>12:00:00</td>\n",
              "      <td>1142.0</td>\n",
              "      <td>1063.0</td>\n",
              "      <td>603.0</td>\n",
              "      <td>175.0</td>\n",
              "      <td>1241.0</td>\n",
              "      <td>1092.0</td>\n",
              "      <td>26.9</td>\n",
              "      <td>18.3</td>\n",
              "      <td>0.6406</td>\n",
              "      <td>4</td>\n",
              "      <td>4</td>\n",
              "      <td>2005</td>\n",
              "    </tr>\n",
              "    <tr>\n",
              "      <th>9355</th>\n",
              "      <td>13:00:00</td>\n",
              "      <td>1003.0</td>\n",
              "      <td>961.0</td>\n",
              "      <td>702.0</td>\n",
              "      <td>156.0</td>\n",
              "      <td>1041.0</td>\n",
              "      <td>770.0</td>\n",
              "      <td>28.3</td>\n",
              "      <td>13.5</td>\n",
              "      <td>0.5139</td>\n",
              "      <td>4</td>\n",
              "      <td>4</td>\n",
              "      <td>2005</td>\n",
              "    </tr>\n",
              "    <tr>\n",
              "      <th>9356</th>\n",
              "      <td>14:00:00</td>\n",
              "      <td>1071.0</td>\n",
              "      <td>1047.0</td>\n",
              "      <td>654.0</td>\n",
              "      <td>168.0</td>\n",
              "      <td>1129.0</td>\n",
              "      <td>816.0</td>\n",
              "      <td>28.5</td>\n",
              "      <td>13.1</td>\n",
              "      <td>0.5028</td>\n",
              "      <td>4</td>\n",
              "      <td>4</td>\n",
              "      <td>2005</td>\n",
              "    </tr>\n",
              "  </tbody>\n",
              "</table>\n",
              "<p>7393 rows × 13 columns</p>\n",
              "</div>\n",
              "      <button class=\"colab-df-convert\" onclick=\"convertToInteractive('df-89f3a33a-d733-41fe-861f-558d791f33ea')\"\n",
              "              title=\"Convert this dataframe to an interactive table.\"\n",
              "              style=\"display:none;\">\n",
              "        \n",
              "  <svg xmlns=\"http://www.w3.org/2000/svg\" height=\"24px\"viewBox=\"0 0 24 24\"\n",
              "       width=\"24px\">\n",
              "    <path d=\"M0 0h24v24H0V0z\" fill=\"none\"/>\n",
              "    <path d=\"M18.56 5.44l.94 2.06.94-2.06 2.06-.94-2.06-.94-.94-2.06-.94 2.06-2.06.94zm-11 1L8.5 8.5l.94-2.06 2.06-.94-2.06-.94L8.5 2.5l-.94 2.06-2.06.94zm10 10l.94 2.06.94-2.06 2.06-.94-2.06-.94-.94-2.06-.94 2.06-2.06.94z\"/><path d=\"M17.41 7.96l-1.37-1.37c-.4-.4-.92-.59-1.43-.59-.52 0-1.04.2-1.43.59L10.3 9.45l-7.72 7.72c-.78.78-.78 2.05 0 2.83L4 21.41c.39.39.9.59 1.41.59.51 0 1.02-.2 1.41-.59l7.78-7.78 2.81-2.81c.8-.78.8-2.07 0-2.86zM5.41 20L4 18.59l7.72-7.72 1.47 1.35L5.41 20z\"/>\n",
              "  </svg>\n",
              "      </button>\n",
              "      \n",
              "  <style>\n",
              "    .colab-df-container {\n",
              "      display:flex;\n",
              "      flex-wrap:wrap;\n",
              "      gap: 12px;\n",
              "    }\n",
              "\n",
              "    .colab-df-convert {\n",
              "      background-color: #E8F0FE;\n",
              "      border: none;\n",
              "      border-radius: 50%;\n",
              "      cursor: pointer;\n",
              "      display: none;\n",
              "      fill: #1967D2;\n",
              "      height: 32px;\n",
              "      padding: 0 0 0 0;\n",
              "      width: 32px;\n",
              "    }\n",
              "\n",
              "    .colab-df-convert:hover {\n",
              "      background-color: #E2EBFA;\n",
              "      box-shadow: 0px 1px 2px rgba(60, 64, 67, 0.3), 0px 1px 3px 1px rgba(60, 64, 67, 0.15);\n",
              "      fill: #174EA6;\n",
              "    }\n",
              "\n",
              "    [theme=dark] .colab-df-convert {\n",
              "      background-color: #3B4455;\n",
              "      fill: #D2E3FC;\n",
              "    }\n",
              "\n",
              "    [theme=dark] .colab-df-convert:hover {\n",
              "      background-color: #434B5C;\n",
              "      box-shadow: 0px 1px 3px 1px rgba(0, 0, 0, 0.15);\n",
              "      filter: drop-shadow(0px 1px 2px rgba(0, 0, 0, 0.3));\n",
              "      fill: #FFFFFF;\n",
              "    }\n",
              "  </style>\n",
              "\n",
              "      <script>\n",
              "        const buttonEl =\n",
              "          document.querySelector('#df-89f3a33a-d733-41fe-861f-558d791f33ea button.colab-df-convert');\n",
              "        buttonEl.style.display =\n",
              "          google.colab.kernel.accessAllowed ? 'block' : 'none';\n",
              "\n",
              "        async function convertToInteractive(key) {\n",
              "          const element = document.querySelector('#df-89f3a33a-d733-41fe-861f-558d791f33ea');\n",
              "          const dataTable =\n",
              "            await google.colab.kernel.invokeFunction('convertToInteractive',\n",
              "                                                     [key], {});\n",
              "          if (!dataTable) return;\n",
              "\n",
              "          const docLinkHtml = 'Like what you see? Visit the ' +\n",
              "            '<a target=\"_blank\" href=https://colab.research.google.com/notebooks/data_table.ipynb>data table notebook</a>'\n",
              "            + ' to learn more about interactive tables.';\n",
              "          element.innerHTML = '';\n",
              "          dataTable['output_type'] = 'display_data';\n",
              "          await google.colab.output.renderOutput(dataTable, element);\n",
              "          const docLink = document.createElement('div');\n",
              "          docLink.innerHTML = docLinkHtml;\n",
              "          element.appendChild(docLink);\n",
              "        }\n",
              "      </script>\n",
              "    </div>\n",
              "  </div>\n",
              "  "
            ]
          },
          "metadata": {},
          "execution_count": 48
        }
      ],
      "source": [
        "df[[\"Month\", \"Day\", \"Year\"]] = df[\"Date\"].str.split(\"/\", expand = True)\n",
        "df = df.drop('Date',axis=1)\n",
        "df"
      ]
    },
    {
      "cell_type": "markdown",
      "metadata": {
        "id": "zHvSGF9fuQYo"
      },
      "source": [
        "## 5- Replace time feature"
      ]
    },
    {
      "cell_type": "code",
      "execution_count": 49,
      "metadata": {
        "id": "vWqvEVdsuQYo",
        "jupyter": {
          "outputs_hidden": true
        }
      },
      "outputs": [],
      "source": [
        "df[[\"Hour\", \"Minute\", \"Second\"]] = df[\"Time\"].str.split(\":\", expand = True)\n",
        "df = df.drop('Time',axis=1)\n",
        "df = df.drop('Minute',axis=1)\n",
        "df = df.drop('Second',axis=1)"
      ]
    },
    {
      "cell_type": "code",
      "source": [
        "df"
      ],
      "metadata": {
        "colab": {
          "base_uri": "https://localhost:8080/",
          "height": 424
        },
        "id": "WxixVBjBiPqI",
        "outputId": "9c74299c-e013-44e0-fda2-925040a37bac"
      },
      "execution_count": 50,
      "outputs": [
        {
          "output_type": "execute_result",
          "data": {
            "text/plain": [
              "      PT08.S1(CO)  PT08.S2(NMHC)  PT08.S3(NOx)  NO2(GT)  PT08.S4(NO2)  \\\n",
              "0          1360.0         1046.0        1056.0    113.0        1692.0   \n",
              "1          1292.0          955.0        1174.0     92.0        1559.0   \n",
              "2          1402.0          939.0        1140.0    114.0        1555.0   \n",
              "3          1376.0          948.0        1092.0    122.0        1584.0   \n",
              "4          1272.0          836.0        1205.0    116.0        1490.0   \n",
              "...           ...            ...           ...      ...           ...   \n",
              "9352       1314.0         1101.0         539.0    190.0        1374.0   \n",
              "9353       1163.0         1027.0         604.0    179.0        1264.0   \n",
              "9354       1142.0         1063.0         603.0    175.0        1241.0   \n",
              "9355       1003.0          961.0         702.0    156.0        1041.0   \n",
              "9356       1071.0         1047.0         654.0    168.0        1129.0   \n",
              "\n",
              "      PT08.S5(O3)     T    RH      AH Month Day  Year Hour  \n",
              "0          1268.0  13.6  48.9  0.7578     3  10  2004   18  \n",
              "1           972.0  13.3  47.7  0.7255     3  10  2004   19  \n",
              "2          1074.0  11.9  54.0  0.7502     3  10  2004   20  \n",
              "3          1203.0  11.0  60.0  0.7867     3  10  2004   21  \n",
              "4          1110.0  11.2  59.6  0.7888     3  10  2004   22  \n",
              "...           ...   ...   ...     ...   ...  ..   ...  ...  \n",
              "9352       1729.0  21.9  29.3  0.7568     4   4  2005   10  \n",
              "9353       1269.0  24.3  23.7  0.7119     4   4  2005   11  \n",
              "9354       1092.0  26.9  18.3  0.6406     4   4  2005   12  \n",
              "9355        770.0  28.3  13.5  0.5139     4   4  2005   13  \n",
              "9356        816.0  28.5  13.1  0.5028     4   4  2005   14  \n",
              "\n",
              "[7393 rows x 13 columns]"
            ],
            "text/html": [
              "\n",
              "  <div id=\"df-06b9d30f-6939-4047-9e63-2d35b653f346\">\n",
              "    <div class=\"colab-df-container\">\n",
              "      <div>\n",
              "<style scoped>\n",
              "    .dataframe tbody tr th:only-of-type {\n",
              "        vertical-align: middle;\n",
              "    }\n",
              "\n",
              "    .dataframe tbody tr th {\n",
              "        vertical-align: top;\n",
              "    }\n",
              "\n",
              "    .dataframe thead th {\n",
              "        text-align: right;\n",
              "    }\n",
              "</style>\n",
              "<table border=\"1\" class=\"dataframe\">\n",
              "  <thead>\n",
              "    <tr style=\"text-align: right;\">\n",
              "      <th></th>\n",
              "      <th>PT08.S1(CO)</th>\n",
              "      <th>PT08.S2(NMHC)</th>\n",
              "      <th>PT08.S3(NOx)</th>\n",
              "      <th>NO2(GT)</th>\n",
              "      <th>PT08.S4(NO2)</th>\n",
              "      <th>PT08.S5(O3)</th>\n",
              "      <th>T</th>\n",
              "      <th>RH</th>\n",
              "      <th>AH</th>\n",
              "      <th>Month</th>\n",
              "      <th>Day</th>\n",
              "      <th>Year</th>\n",
              "      <th>Hour</th>\n",
              "    </tr>\n",
              "  </thead>\n",
              "  <tbody>\n",
              "    <tr>\n",
              "      <th>0</th>\n",
              "      <td>1360.0</td>\n",
              "      <td>1046.0</td>\n",
              "      <td>1056.0</td>\n",
              "      <td>113.0</td>\n",
              "      <td>1692.0</td>\n",
              "      <td>1268.0</td>\n",
              "      <td>13.6</td>\n",
              "      <td>48.9</td>\n",
              "      <td>0.7578</td>\n",
              "      <td>3</td>\n",
              "      <td>10</td>\n",
              "      <td>2004</td>\n",
              "      <td>18</td>\n",
              "    </tr>\n",
              "    <tr>\n",
              "      <th>1</th>\n",
              "      <td>1292.0</td>\n",
              "      <td>955.0</td>\n",
              "      <td>1174.0</td>\n",
              "      <td>92.0</td>\n",
              "      <td>1559.0</td>\n",
              "      <td>972.0</td>\n",
              "      <td>13.3</td>\n",
              "      <td>47.7</td>\n",
              "      <td>0.7255</td>\n",
              "      <td>3</td>\n",
              "      <td>10</td>\n",
              "      <td>2004</td>\n",
              "      <td>19</td>\n",
              "    </tr>\n",
              "    <tr>\n",
              "      <th>2</th>\n",
              "      <td>1402.0</td>\n",
              "      <td>939.0</td>\n",
              "      <td>1140.0</td>\n",
              "      <td>114.0</td>\n",
              "      <td>1555.0</td>\n",
              "      <td>1074.0</td>\n",
              "      <td>11.9</td>\n",
              "      <td>54.0</td>\n",
              "      <td>0.7502</td>\n",
              "      <td>3</td>\n",
              "      <td>10</td>\n",
              "      <td>2004</td>\n",
              "      <td>20</td>\n",
              "    </tr>\n",
              "    <tr>\n",
              "      <th>3</th>\n",
              "      <td>1376.0</td>\n",
              "      <td>948.0</td>\n",
              "      <td>1092.0</td>\n",
              "      <td>122.0</td>\n",
              "      <td>1584.0</td>\n",
              "      <td>1203.0</td>\n",
              "      <td>11.0</td>\n",
              "      <td>60.0</td>\n",
              "      <td>0.7867</td>\n",
              "      <td>3</td>\n",
              "      <td>10</td>\n",
              "      <td>2004</td>\n",
              "      <td>21</td>\n",
              "    </tr>\n",
              "    <tr>\n",
              "      <th>4</th>\n",
              "      <td>1272.0</td>\n",
              "      <td>836.0</td>\n",
              "      <td>1205.0</td>\n",
              "      <td>116.0</td>\n",
              "      <td>1490.0</td>\n",
              "      <td>1110.0</td>\n",
              "      <td>11.2</td>\n",
              "      <td>59.6</td>\n",
              "      <td>0.7888</td>\n",
              "      <td>3</td>\n",
              "      <td>10</td>\n",
              "      <td>2004</td>\n",
              "      <td>22</td>\n",
              "    </tr>\n",
              "    <tr>\n",
              "      <th>...</th>\n",
              "      <td>...</td>\n",
              "      <td>...</td>\n",
              "      <td>...</td>\n",
              "      <td>...</td>\n",
              "      <td>...</td>\n",
              "      <td>...</td>\n",
              "      <td>...</td>\n",
              "      <td>...</td>\n",
              "      <td>...</td>\n",
              "      <td>...</td>\n",
              "      <td>...</td>\n",
              "      <td>...</td>\n",
              "      <td>...</td>\n",
              "    </tr>\n",
              "    <tr>\n",
              "      <th>9352</th>\n",
              "      <td>1314.0</td>\n",
              "      <td>1101.0</td>\n",
              "      <td>539.0</td>\n",
              "      <td>190.0</td>\n",
              "      <td>1374.0</td>\n",
              "      <td>1729.0</td>\n",
              "      <td>21.9</td>\n",
              "      <td>29.3</td>\n",
              "      <td>0.7568</td>\n",
              "      <td>4</td>\n",
              "      <td>4</td>\n",
              "      <td>2005</td>\n",
              "      <td>10</td>\n",
              "    </tr>\n",
              "    <tr>\n",
              "      <th>9353</th>\n",
              "      <td>1163.0</td>\n",
              "      <td>1027.0</td>\n",
              "      <td>604.0</td>\n",
              "      <td>179.0</td>\n",
              "      <td>1264.0</td>\n",
              "      <td>1269.0</td>\n",
              "      <td>24.3</td>\n",
              "      <td>23.7</td>\n",
              "      <td>0.7119</td>\n",
              "      <td>4</td>\n",
              "      <td>4</td>\n",
              "      <td>2005</td>\n",
              "      <td>11</td>\n",
              "    </tr>\n",
              "    <tr>\n",
              "      <th>9354</th>\n",
              "      <td>1142.0</td>\n",
              "      <td>1063.0</td>\n",
              "      <td>603.0</td>\n",
              "      <td>175.0</td>\n",
              "      <td>1241.0</td>\n",
              "      <td>1092.0</td>\n",
              "      <td>26.9</td>\n",
              "      <td>18.3</td>\n",
              "      <td>0.6406</td>\n",
              "      <td>4</td>\n",
              "      <td>4</td>\n",
              "      <td>2005</td>\n",
              "      <td>12</td>\n",
              "    </tr>\n",
              "    <tr>\n",
              "      <th>9355</th>\n",
              "      <td>1003.0</td>\n",
              "      <td>961.0</td>\n",
              "      <td>702.0</td>\n",
              "      <td>156.0</td>\n",
              "      <td>1041.0</td>\n",
              "      <td>770.0</td>\n",
              "      <td>28.3</td>\n",
              "      <td>13.5</td>\n",
              "      <td>0.5139</td>\n",
              "      <td>4</td>\n",
              "      <td>4</td>\n",
              "      <td>2005</td>\n",
              "      <td>13</td>\n",
              "    </tr>\n",
              "    <tr>\n",
              "      <th>9356</th>\n",
              "      <td>1071.0</td>\n",
              "      <td>1047.0</td>\n",
              "      <td>654.0</td>\n",
              "      <td>168.0</td>\n",
              "      <td>1129.0</td>\n",
              "      <td>816.0</td>\n",
              "      <td>28.5</td>\n",
              "      <td>13.1</td>\n",
              "      <td>0.5028</td>\n",
              "      <td>4</td>\n",
              "      <td>4</td>\n",
              "      <td>2005</td>\n",
              "      <td>14</td>\n",
              "    </tr>\n",
              "  </tbody>\n",
              "</table>\n",
              "<p>7393 rows × 13 columns</p>\n",
              "</div>\n",
              "      <button class=\"colab-df-convert\" onclick=\"convertToInteractive('df-06b9d30f-6939-4047-9e63-2d35b653f346')\"\n",
              "              title=\"Convert this dataframe to an interactive table.\"\n",
              "              style=\"display:none;\">\n",
              "        \n",
              "  <svg xmlns=\"http://www.w3.org/2000/svg\" height=\"24px\"viewBox=\"0 0 24 24\"\n",
              "       width=\"24px\">\n",
              "    <path d=\"M0 0h24v24H0V0z\" fill=\"none\"/>\n",
              "    <path d=\"M18.56 5.44l.94 2.06.94-2.06 2.06-.94-2.06-.94-.94-2.06-.94 2.06-2.06.94zm-11 1L8.5 8.5l.94-2.06 2.06-.94-2.06-.94L8.5 2.5l-.94 2.06-2.06.94zm10 10l.94 2.06.94-2.06 2.06-.94-2.06-.94-.94-2.06-.94 2.06-2.06.94z\"/><path d=\"M17.41 7.96l-1.37-1.37c-.4-.4-.92-.59-1.43-.59-.52 0-1.04.2-1.43.59L10.3 9.45l-7.72 7.72c-.78.78-.78 2.05 0 2.83L4 21.41c.39.39.9.59 1.41.59.51 0 1.02-.2 1.41-.59l7.78-7.78 2.81-2.81c.8-.78.8-2.07 0-2.86zM5.41 20L4 18.59l7.72-7.72 1.47 1.35L5.41 20z\"/>\n",
              "  </svg>\n",
              "      </button>\n",
              "      \n",
              "  <style>\n",
              "    .colab-df-container {\n",
              "      display:flex;\n",
              "      flex-wrap:wrap;\n",
              "      gap: 12px;\n",
              "    }\n",
              "\n",
              "    .colab-df-convert {\n",
              "      background-color: #E8F0FE;\n",
              "      border: none;\n",
              "      border-radius: 50%;\n",
              "      cursor: pointer;\n",
              "      display: none;\n",
              "      fill: #1967D2;\n",
              "      height: 32px;\n",
              "      padding: 0 0 0 0;\n",
              "      width: 32px;\n",
              "    }\n",
              "\n",
              "    .colab-df-convert:hover {\n",
              "      background-color: #E2EBFA;\n",
              "      box-shadow: 0px 1px 2px rgba(60, 64, 67, 0.3), 0px 1px 3px 1px rgba(60, 64, 67, 0.15);\n",
              "      fill: #174EA6;\n",
              "    }\n",
              "\n",
              "    [theme=dark] .colab-df-convert {\n",
              "      background-color: #3B4455;\n",
              "      fill: #D2E3FC;\n",
              "    }\n",
              "\n",
              "    [theme=dark] .colab-df-convert:hover {\n",
              "      background-color: #434B5C;\n",
              "      box-shadow: 0px 1px 3px 1px rgba(0, 0, 0, 0.15);\n",
              "      filter: drop-shadow(0px 1px 2px rgba(0, 0, 0, 0.3));\n",
              "      fill: #FFFFFF;\n",
              "    }\n",
              "  </style>\n",
              "\n",
              "      <script>\n",
              "        const buttonEl =\n",
              "          document.querySelector('#df-06b9d30f-6939-4047-9e63-2d35b653f346 button.colab-df-convert');\n",
              "        buttonEl.style.display =\n",
              "          google.colab.kernel.accessAllowed ? 'block' : 'none';\n",
              "\n",
              "        async function convertToInteractive(key) {\n",
              "          const element = document.querySelector('#df-06b9d30f-6939-4047-9e63-2d35b653f346');\n",
              "          const dataTable =\n",
              "            await google.colab.kernel.invokeFunction('convertToInteractive',\n",
              "                                                     [key], {});\n",
              "          if (!dataTable) return;\n",
              "\n",
              "          const docLinkHtml = 'Like what you see? Visit the ' +\n",
              "            '<a target=\"_blank\" href=https://colab.research.google.com/notebooks/data_table.ipynb>data table notebook</a>'\n",
              "            + ' to learn more about interactive tables.';\n",
              "          element.innerHTML = '';\n",
              "          dataTable['output_type'] = 'display_data';\n",
              "          await google.colab.output.renderOutput(dataTable, element);\n",
              "          const docLink = document.createElement('div');\n",
              "          docLink.innerHTML = docLinkHtml;\n",
              "          element.appendChild(docLink);\n",
              "        }\n",
              "      </script>\n",
              "    </div>\n",
              "  </div>\n",
              "  "
            ]
          },
          "metadata": {},
          "execution_count": 50
        }
      ]
    },
    {
      "cell_type": "markdown",
      "metadata": {
        "id": "rV0bYDXzuQYo"
      },
      "source": [
        "### 6- Apply feature scaling"
      ]
    },
    {
      "cell_type": "code",
      "execution_count": 60,
      "outputs": [],
      "source": [
        "from sklearn.model_selection import train_test_split\n",
        "from sklearn.preprocessing import StandardScaler"
      ],
      "metadata": {
        "id": "VQmmG-EvhcQf"
      }
    },
    {
      "cell_type": "code",
      "execution_count": 61,
      "outputs": [],
      "source": [
        "x = df.drop('NO2(GT)',axis=1)\n",
        "y = df['NO2(GT)']\n"
      ],
      "metadata": {
        "id": "-9tz28IhhcQf"
      }
    },
    {
      "cell_type": "code",
      "source": [
        "x_train, x_test, y_train, y_test = train_test_split(x, y, test_size=0.3, random_state=101)\n"
      ],
      "metadata": {
        "id": "5lpJ0tfSpGqb"
      },
      "execution_count": 57,
      "outputs": []
    },
    {
      "cell_type": "code",
      "source": [
        "scaler = StandardScaler()\n",
        "scaler.fit(x_train)\n",
        "x_train = scaler.transform(x_train)\n",
        "x_test = scaler.transform(x_test)"
      ],
      "metadata": {
        "id": "-nNQ-CaAo2NI"
      },
      "execution_count": 59,
      "outputs": []
    },
    {
      "cell_type": "code",
      "source": [],
      "metadata": {
        "id": "SOna5fX8puVU"
      },
      "execution_count": null,
      "outputs": []
    },
    {
      "cell_type": "code",
      "execution_count": 86,
      "outputs": [],
      "source": [
        "from sklearn.preprocessing import PolynomialFeatures\n",
        "def getPolynomialWithDegree(degree):\n",
        "    polynomial_converter = PolynomialFeatures(degree=degree,include_bias=False)\n",
        "    poly_features = polynomial_converter.fit_transform(x)\n",
        "    x_train, x_test, y_train, y_test = train_test_split(poly_features, y, test_size=0.3, random_state=101)\n",
        "    scaler = StandardScaler()\n",
        "    scaler.fit(x_train)\n",
        "    x_train = scaler.transform(x_train)\n",
        "    x_test = scaler.transform(x_test)\n",
        "    return x_train,x_test,y_train,y_test"
      ],
      "metadata": {
        "id": "bti3koX8hcQf"
      }
    },
    {
      "cell_type": "code",
      "execution_count": null,
      "outputs": [],
      "source": [],
      "metadata": {
        "id": "Xj3J3Co0hcQg"
      }
    },
    {
      "cell_type": "code",
      "execution_count": 88,
      "outputs": [],
      "source": [
        "def doModel(model_name,model,degree):\n",
        "    # TRAINING ERROR PER DEGREE\n",
        "    train_rmse_errors = []\n",
        "    # TEST ERROR PER DEGREE\n",
        "    test_rmse_errors = []\n",
        "\n",
        "    x_train,x_test,y_train,y_test = getPolynomialWithDegree(degree)\n",
        "    model.fit(x_train,y_train)\n",
        "    print(model_name)\n",
        "    print(\"degree = %s\" % degree)\n",
        "    print(\"alpha = %s\" % model.alpha_)\n",
        "\n",
        "    test_predictions = model.predict(x_test)\n",
        "    print(\"Test Set Performance\")\n",
        "    MAE = mean_absolute_error(y_test,test_predictions)\n",
        "    MSE = mean_squared_error(y_test,test_predictions)\n",
        "    test_RMSE = np.sqrt(MSE)\n",
        "    # print(\"MAE = %s\" % MAE)\n",
        "    # print(\"MSE = %s\" % MSE)\n",
        "    print(\"RMSE = %s\" % test_RMSE)\n",
        "\n",
        "    train_predictions = model.predict(x_train)\n",
        "    print(\"Training Set Performance\")\n",
        "    MAE = mean_absolute_error(y_train,train_predictions)\n",
        "    MSE = mean_squared_error(y_train,train_predictions)\n",
        "    train_RMSE = np.sqrt(MSE)\n",
        "    print(\"RMSE = %s\" % train_RMSE)\n",
        "    # print(\"Coefficients\")\n",
        "    # print(lasso_cv_model.coef_)\n",
        "    return test_RMSE, train_RMSE"
      ],
      "metadata": {
        "id": "6urSeqhRhcQg"
      }
    },
    {
      "cell_type": "markdown",
      "metadata": {
        "id": "-Bh7ou_4uQYp"
      },
      "source": [
        "### 7- Evaluate different degrees of lasso CV polynomial regression"
      ]
    },
    {
      "cell_type": "code",
      "execution_count": 90,
      "outputs": [],
      "source": [
        "from sklearn.metrics import mean_absolute_error, mean_squared_error\n",
        "from sklearn.linear_model import LassoCV\n",
        "def doLassoCV(degree):\n",
        "    test_RMSE, train_RMSE = doModel(\"LassoCV\",LassoCV(eps=0.1,n_alphas=100,cv=5,max_iter=100000),degree)\n",
        "    return (test_RMSE, train_RMSE)"
      ],
      "metadata": {
        "id": "KCOn6TizhcQh"
      }
    },
    {
      "cell_type": "code",
      "execution_count": null,
      "metadata": {
        "collapsed": true,
        "id": "tLBRmfjuuQYp",
        "jupyter": {
          "outputs_hidden": true
        }
      },
      "outputs": [],
      "source": [
        "lasso_test_RMSE = []\n",
        "lasso_train_RMSE = []\n",
        "\n",
        "for i in range(1,5):\n",
        "    test_RMSE, train_RMSE = doLassoCV(i)\n",
        "    lasso_test_RMSE.append(test_RMSE)\n",
        "    lasso_train_RMSE.append(train_RMSE)    \n",
        "# doLassoCV(2)"
      ]
    },
    {
      "cell_type": "code",
      "source": [
        "lasso_test_RMSE\n",
        "lasso_train_RMSE"
      ],
      "metadata": {
        "id": "zy_AX4RE3V5n",
        "outputId": "7c141bc4-b7d5-4c70-bb26-9f89aa2f8ac2",
        "colab": {
          "base_uri": "https://localhost:8080/"
        }
      },
      "execution_count": 93,
      "outputs": [
        {
          "output_type": "execute_result",
          "data": {
            "text/plain": [
              "[23.83523840277192, 23.253819227337136, 23.27918551642303, 23.259956638999924]"
            ]
          },
          "metadata": {},
          "execution_count": 93
        }
      ]
    },
    {
      "cell_type": "markdown",
      "metadata": {
        "id": "pDn9gby-uQYp"
      },
      "source": [
        "### 8- Choose the best degree and print the errors, model coefficients and the lasso parameters."
      ]
    },
    {
      "cell_type": "code",
      "execution_count": null,
      "metadata": {
        "collapsed": true,
        "id": "xLdmHaPBuQYq",
        "jupyter": {
          "outputs_hidden": true
        }
      },
      "outputs": [],
      "source": []
    },
    {
      "cell_type": "markdown",
      "metadata": {
        "id": "M8SOg6KEuQYq"
      },
      "source": [
        "### 9a- Evaluate different degrees of Ridge CV polynomial regression"
      ]
    },
    {
      "cell_type": "code",
      "execution_count": 94,
      "metadata": {
        "collapsed": true,
        "id": "IqWaySbcuQYq",
        "jupyter": {
          "outputs_hidden": true
        }
      },
      "outputs": [],
      "source": [
        "from sklearn.linear_model import RidgeCV\n",
        "def doRidgeCV(degree):\n",
        "    test_RMSE, train_RMSE = doModel(\"Ridge CV\", RidgeCV(alphas=(0.1, 1.0, 10.0),scoring='neg_mean_absolute_error'), degree)\n",
        "    return test_RMSE, train_RMSE"
      ]
    },
    {
      "cell_type": "code",
      "source": [
        "ridge_test_RMSE = []\n",
        "ridge_train_RMSE = []\n",
        "\n",
        "for i in range(1, 5):\n",
        "    test_RMSE, train_RMSE = doRidgeCV(i)\n",
        "    ridge_test_RMSE.append(test_RMSE)\n",
        "    ridge_train_RMSE.append(train_RMSE)"
      ],
      "metadata": {
        "id": "wr769-F1tNWg"
      },
      "execution_count": null,
      "outputs": []
    },
    {
      "cell_type": "markdown",
      "metadata": {
        "id": "8Bj_3j9RuQYr"
      },
      "source": [
        "### 9b- Choose the best degree and print the errors, model coefficients and the Ridge parameters."
      ]
    },
    {
      "cell_type": "code",
      "execution_count": null,
      "metadata": {
        "collapsed": true,
        "id": "4q5E5NnbuQYr",
        "jupyter": {
          "outputs_hidden": true
        }
      },
      "outputs": [],
      "source": []
    },
    {
      "cell_type": "markdown",
      "metadata": {
        "id": "MN4RwweLuQYr"
      },
      "source": [
        "### 10a- Evaluate different degrees of ElasticNet CV polynomial regression"
      ]
    },
    {
      "cell_type": "code",
      "execution_count": 97,
      "metadata": {
        "collapsed": true,
        "id": "qK9SePrtuQYr",
        "jupyter": {
          "outputs_hidden": true
        }
      },
      "outputs": [],
      "source": [
        "from sklearn.linear_model import ElasticNetCV\n",
        "def doElasticNetCV(degree):\n",
        "    test_RMSE, train_RMSE = doModel(\"ElasticNet CV\", ElasticNetCV(l1_ratio=[.1, .5, .7,.9, .95, .99, 1],tol=0.01), degree)\n",
        "    return test_RMSE, train_RMSE"
      ]
    },
    {
      "cell_type": "code",
      "source": [
        "elastic_test_RMSE = []\n",
        "elastic_train_RMSE = []\n",
        "for degree in range(1, 5):\n",
        "    test_RMSE, train_RMSE = doElasticNetCV(degree)\n",
        "    elastic_test_RMSE.append(test_RMSE)\n",
        "    elastic_train_RMSE.append(train_RMSE)"
      ],
      "metadata": {
        "id": "ojQhciYcxF49",
        "outputId": "54df5a2f-24b4-4fb5-c87a-740ae386edab",
        "colab": {
          "base_uri": "https://localhost:8080/"
        }
      },
      "execution_count": 98,
      "outputs": [
        {
          "output_type": "stream",
          "name": "stdout",
          "text": [
            "ElasticNet CV\n",
            "degree = 1\n",
            "alpha = 0.033928122729437335\n",
            "Test Set Performance\n",
            "RMSE = 22.170035123388182\n",
            "Training Set Performance\n",
            "RMSE = 22.111109758596253\n",
            "ElasticNet CV\n",
            "degree = 2\n",
            "alpha = 0.033938106840490354\n",
            "Test Set Performance\n",
            "RMSE = 19.314169205987824\n",
            "Training Set Performance\n",
            "RMSE = 19.110038213139543\n",
            "ElasticNet CV\n",
            "degree = 3\n",
            "alpha = 0.03420376268214311\n",
            "Test Set Performance\n",
            "RMSE = 18.131753096320043\n",
            "Training Set Performance\n",
            "RMSE = 17.5870131753047\n",
            "ElasticNet CV\n",
            "degree = 4\n",
            "alpha = 0.034204844352613235\n",
            "Test Set Performance\n",
            "RMSE = 17.53879794155433\n",
            "Training Set Performance\n",
            "RMSE = 16.870318488873416\n"
          ]
        },
        {
          "output_type": "stream",
          "name": "stderr",
          "text": [
            "/usr/local/lib/python3.7/dist-packages/sklearn/linear_model/_coordinate_descent.py:648: ConvergenceWarning: Objective did not converge. You might want to increase the number of iterations, check the scale of the features or consider increasing regularisation. Duality gap: 1.463e+05, tolerance: 1.186e+05\n",
            "  coef_, l1_reg, l2_reg, X, y, max_iter, tol, rng, random, positive\n"
          ]
        }
      ]
    },
    {
      "cell_type": "markdown",
      "metadata": {
        "id": "JSt5s73XuQYr"
      },
      "source": [
        "### 10b- Choose the best degree and print the errors, model coefficients and ElasticNet parameters."
      ]
    },
    {
      "cell_type": "code",
      "execution_count": null,
      "metadata": {
        "collapsed": true,
        "id": "UkbcQLlLuQYr",
        "jupyter": {
          "outputs_hidden": true
        }
      },
      "outputs": [],
      "source": []
    },
    {
      "cell_type": "markdown",
      "metadata": {
        "id": "O_cuFINquQYs"
      },
      "source": [
        "### 11- Compare the errors from the 3 regularization techniques, and save the best model."
      ]
    },
    {
      "cell_type": "code",
      "execution_count": null,
      "metadata": {
        "collapsed": true,
        "id": "qn58GoGpuQYs",
        "jupyter": {
          "outputs_hidden": true
        }
      },
      "outputs": [],
      "source": [
        "from joblib import dump\n",
        "# dump(model, 'air_quality_poly.joblib')"
      ]
    },
    {
      "cell_type": "markdown",
      "metadata": {
        "id": "IUGAAZY4uQYs"
      },
      "source": [
        "### 12- Load the best model and test it on a sample that you manually created it."
      ]
    },
    {
      "cell_type": "code",
      "execution_count": null,
      "metadata": {
        "collapsed": true,
        "id": "SIw1mo3kuQYs",
        "jupyter": {
          "outputs_hidden": true
        }
      },
      "outputs": [],
      "source": [
        "from joblib import load\n",
        "loaded_model = load('air_quality_poly.joblib')"
      ]
    },
    {
      "cell_type": "code",
      "source": [
        "sample = [[\n",
        "    1350.0,\n",
        "    1000.0,\n",
        "    1050.0,\n",
        "    1680.0,\n",
        "    1074.0,\n",
        "    33.0,\n",
        "    25.0,\n",
        "    0.6406,\n",
        "    3,\n",
        "    5,\n",
        "    2006,\n",
        "    10\n",
        "]]"
      ],
      "metadata": {
        "id": "KBaU381Y6Sms"
      },
      "execution_count": null,
      "outputs": []
    },
    {
      "cell_type": "code",
      "source": [],
      "metadata": {
        "id": "a91JQwwH79lZ"
      },
      "execution_count": null,
      "outputs": []
    },
    {
      "cell_type": "markdown",
      "metadata": {
        "id": "G3dUEoJjj-AK"
      },
      "source": [
        "## Great work!\n",
        "----"
      ]
    }
  ],
  "metadata": {
    "anaconda-cloud": {},
    "colab": {
      "provenance": []
    },
    "kernelspec": {
      "display_name": "Python 3 (ipykernel)",
      "language": "python",
      "name": "python3"
    },
    "language_info": {
      "codemirror_mode": {
        "name": "ipython",
        "version": 3
      },
      "file_extension": ".py",
      "mimetype": "text/x-python",
      "name": "python",
      "nbconvert_exporter": "python",
      "pygments_lexer": "ipython3",
      "version": "3.9.6"
    }
  },
  "nbformat": 4,
  "nbformat_minor": 0
}
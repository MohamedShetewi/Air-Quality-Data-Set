{
  "cells": [
    {
      "cell_type": "markdown",
      "metadata": {
        "id": "nz_9QnWBj9_6"
      },
      "source": [
        "# Polynomial Regression Assignment (Please do not remove the output cells)"
      ]
    },
    {
      "cell_type": "markdown",
      "metadata": {
        "id": "oNtRAlw1uQYi",
        "tags": []
      },
      "source": [
        "## The objective is to apply polynomial regression on the provided data using 3 regularization techniques"
      ]
    },
    {
      "cell_type": "markdown",
      "metadata": {
        "id": "0Sh_Oqa2j9_7"
      },
      "source": [
        "Tasks are defined below:\n",
        "1-  Read the dataset, and get acquainted with its features and labels. Check the link below for more details about the data.  \n",
        "https://archive.ics.uci.edu/ml/datasets/Air+Quality  \n",
        "\n",
        "2-  This dataset has 5 different output labels. For this assignment we only need the NO2 output. Please drop other outputs.  \n",
        "\n",
        "3-  Handle missing data similar to what was covered in tutorial 3.  \n",
        "\n",
        "4-  Replace the date feature with 3 separate features (Day, Month and Year).  \n",
        "\n",
        "5-  Replace the time feature with 3 separate features (Hours, Minutes and Seconds).  \n",
        "\n",
        "6-  Apply feature scaling.  \n",
        "\n",
        "7-  Evaluate different degrees of lasso CV polynomial regression.  \n",
        "\n",
        "8-  Choose the best degree and print the errors on the test data, model coefficients and the lasso parameters.  \n",
        "\n",
        "9-  Repeat steps 4 and 5 using Ridge CV polynomial regression.  \n",
        "\n",
        "10- Repeat steps 4 and 5 using ElasticNet CV polynomial regression.  \n",
        "\n",
        "11- Compare the errors from the 3 regularization techniques, and save the best model.  \n",
        "\n",
        "12- Load the best model and test it on a sample that you manually created it.  \n"
      ]
    },
    {
      "cell_type": "markdown",
      "metadata": {
        "id": "LWdHmdZrhcQU"
      },
      "source": [
        "## Enter your IDs and Names below"
      ]
    },
    {
      "cell_type": "markdown",
      "metadata": {
        "id": "5IpKDl2shcQV"
      },
      "source": [
        "1- Yahia Sherif   46-16162 T-09\n",
        "  \n",
        "2- Mohamed Shetewi 46-13908 T-05"
      ]
    },
    {
      "cell_type": "markdown",
      "metadata": {
        "id": "bsZFdAtSj9_8"
      },
      "source": [
        "\n",
        "### Imports"
      ]
    },
    {
      "cell_type": "code",
      "execution_count": 130,
      "metadata": {
        "id": "nuN2-J1bj9_9",
        "tags": []
      },
      "outputs": [],
      "source": [
        "import pandas as pd\n",
        "import numpy as np"
      ]
    },
    {
      "cell_type": "markdown",
      "metadata": {
        "id": "hszifOuTj9__"
      },
      "source": [
        "### 1- Read the data"
      ]
    },
    {
      "cell_type": "code",
      "execution_count": 131,
      "metadata": {
        "id": "ZzX469qmUTu2",
        "tags": [],
        "colab": {
          "base_uri": "https://localhost:8080/"
        },
        "outputId": "e4f5513a-9b94-493f-b2aa-cc7863f6429a"
      },
      "outputs": [
        {
          "output_type": "stream",
          "name": "stdout",
          "text": [
            "           Date      Time  CO(GT)  PT08.S1(CO)  NMHC(GT)  C6H6(GT)  \\\n",
            "0     3/10/2004  18:00:00     2.6       1360.0     150.0      11.9   \n",
            "1     3/10/2004  19:00:00     2.0       1292.0     112.0       9.4   \n",
            "2     3/10/2004  20:00:00     2.2       1402.0      88.0       9.0   \n",
            "3     3/10/2004  21:00:00     2.2       1376.0      80.0       9.2   \n",
            "4     3/10/2004  22:00:00     1.6       1272.0      51.0       6.5   \n",
            "...         ...       ...     ...          ...       ...       ...   \n",
            "9352   4/4/2005  10:00:00     3.1       1314.0       NaN      13.5   \n",
            "9353   4/4/2005  11:00:00     2.4       1163.0       NaN      11.4   \n",
            "9354   4/4/2005  12:00:00     2.4       1142.0       NaN      12.4   \n",
            "9355   4/4/2005  13:00:00     2.1       1003.0       NaN       9.5   \n",
            "9356   4/4/2005  14:00:00     2.2       1071.0       NaN      11.9   \n",
            "\n",
            "      PT08.S2(NMHC)  NOx(GT)  PT08.S3(NOx)  NO2(GT)  PT08.S4(NO2)  \\\n",
            "0            1046.0    166.0        1056.0    113.0        1692.0   \n",
            "1             955.0    103.0        1174.0     92.0        1559.0   \n",
            "2             939.0    131.0        1140.0    114.0        1555.0   \n",
            "3             948.0    172.0        1092.0    122.0        1584.0   \n",
            "4             836.0    131.0        1205.0    116.0        1490.0   \n",
            "...             ...      ...           ...      ...           ...   \n",
            "9352         1101.0    472.0         539.0    190.0        1374.0   \n",
            "9353         1027.0    353.0         604.0    179.0        1264.0   \n",
            "9354         1063.0    293.0         603.0    175.0        1241.0   \n",
            "9355          961.0    235.0         702.0    156.0        1041.0   \n",
            "9356         1047.0    265.0         654.0    168.0        1129.0   \n",
            "\n",
            "      PT08.S5(O3)     T    RH      AH  \n",
            "0          1268.0  13.6  48.9  0.7578  \n",
            "1           972.0  13.3  47.7  0.7255  \n",
            "2          1074.0  11.9  54.0  0.7502  \n",
            "3          1203.0  11.0  60.0  0.7867  \n",
            "4          1110.0  11.2  59.6  0.7888  \n",
            "...           ...   ...   ...     ...  \n",
            "9352       1729.0  21.9  29.3  0.7568  \n",
            "9353       1269.0  24.3  23.7  0.7119  \n",
            "9354       1092.0  26.9  18.3  0.6406  \n",
            "9355        770.0  28.3  13.5  0.5139  \n",
            "9356        816.0  28.5  13.1  0.5028  \n",
            "\n",
            "[9357 rows x 15 columns]\n"
          ]
        }
      ],
      "source": [
        "df = pd.read_csv(\"AirQualityUCI.csv\")\n",
        "print(df)"
      ]
    },
    {
      "cell_type": "markdown",
      "metadata": {
        "id": "TMHFhOfXuQYl",
        "tags": []
      },
      "source": [
        "### 2- Drop unwanted labels"
      ]
    },
    {
      "cell_type": "code",
      "execution_count": 132,
      "metadata": {
        "id": "L7395CTWuQYm",
        "tags": [],
        "colab": {
          "base_uri": "https://localhost:8080/"
        },
        "outputId": "980e575c-fe13-4d56-b863-a3bf200d2d93"
      },
      "outputs": [
        {
          "output_type": "execute_result",
          "data": {
            "text/plain": [
              "['Date',\n",
              " 'Time',\n",
              " 'PT08.S1(CO)',\n",
              " 'PT08.S2(NMHC)',\n",
              " 'PT08.S3(NOx)',\n",
              " 'NO2(GT)',\n",
              " 'PT08.S4(NO2)',\n",
              " 'PT08.S5(O3)',\n",
              " 'T',\n",
              " 'RH',\n",
              " 'AH']"
            ]
          },
          "metadata": {},
          "execution_count": 132
        }
      ],
      "source": [
        "df = df.drop(['CO(GT)','NMHC(GT)', 'C6H6(GT)', 'NOx(GT)'], axis=1)\n",
        "list(df.columns.values)\n"
      ]
    },
    {
      "cell_type": "markdown",
      "metadata": {
        "id": "rMSYDzn1uQYm"
      },
      "source": [
        "### 3- Handle missing data"
      ]
    },
    {
      "cell_type": "code",
      "execution_count": 133,
      "metadata": {
        "id": "FEai7yH9uQYn",
        "tags": [],
        "colab": {
          "base_uri": "https://localhost:8080/"
        },
        "outputId": "1561a7d4-315e-4940-93cc-66a83403a8cd"
      },
      "outputs": [
        {
          "output_type": "execute_result",
          "data": {
            "text/plain": [
              "Date                0\n",
              "Time                0\n",
              "PT08.S1(CO)       366\n",
              "PT08.S2(NMHC)     366\n",
              "PT08.S3(NOx)      366\n",
              "NO2(GT)          1642\n",
              "PT08.S4(NO2)      366\n",
              "PT08.S5(O3)       366\n",
              "T                 366\n",
              "RH                366\n",
              "AH                366\n",
              "dtype: int64"
            ]
          },
          "metadata": {},
          "execution_count": 133
        }
      ],
      "source": [
        "df.isna().sum()"
      ]
    },
    {
      "cell_type": "code",
      "execution_count": 134,
      "metadata": {
        "colab": {
          "base_uri": "https://localhost:8080/",
          "height": 424
        },
        "id": "4-VhX9Y2hcQc",
        "outputId": "ed13e11b-b8da-4443-9d8a-b489f9d14e9c"
      },
      "outputs": [
        {
          "output_type": "execute_result",
          "data": {
            "text/plain": [
              "           Date      Time  PT08.S1(CO)  PT08.S2(NMHC)  PT08.S3(NOx)  NO2(GT)  \\\n",
              "0     3/10/2004  18:00:00       1360.0         1046.0        1056.0    113.0   \n",
              "1     3/10/2004  19:00:00       1292.0          955.0        1174.0     92.0   \n",
              "2     3/10/2004  20:00:00       1402.0          939.0        1140.0    114.0   \n",
              "3     3/10/2004  21:00:00       1376.0          948.0        1092.0    122.0   \n",
              "4     3/10/2004  22:00:00       1272.0          836.0        1205.0    116.0   \n",
              "...         ...       ...          ...            ...           ...      ...   \n",
              "9352   4/4/2005  10:00:00       1314.0         1101.0         539.0    190.0   \n",
              "9353   4/4/2005  11:00:00       1163.0         1027.0         604.0    179.0   \n",
              "9354   4/4/2005  12:00:00       1142.0         1063.0         603.0    175.0   \n",
              "9355   4/4/2005  13:00:00       1003.0          961.0         702.0    156.0   \n",
              "9356   4/4/2005  14:00:00       1071.0         1047.0         654.0    168.0   \n",
              "\n",
              "      PT08.S4(NO2)  PT08.S5(O3)     T    RH      AH  \n",
              "0           1692.0       1268.0  13.6  48.9  0.7578  \n",
              "1           1559.0        972.0  13.3  47.7  0.7255  \n",
              "2           1555.0       1074.0  11.9  54.0  0.7502  \n",
              "3           1584.0       1203.0  11.0  60.0  0.7867  \n",
              "4           1490.0       1110.0  11.2  59.6  0.7888  \n",
              "...            ...          ...   ...   ...     ...  \n",
              "9352        1374.0       1729.0  21.9  29.3  0.7568  \n",
              "9353        1264.0       1269.0  24.3  23.7  0.7119  \n",
              "9354        1241.0       1092.0  26.9  18.3  0.6406  \n",
              "9355        1041.0        770.0  28.3  13.5  0.5139  \n",
              "9356        1129.0        816.0  28.5  13.1  0.5028  \n",
              "\n",
              "[7393 rows x 11 columns]"
            ],
            "text/html": [
              "\n",
              "  <div id=\"df-95205f0d-6865-42ad-93ae-28c0aa9b8ea2\">\n",
              "    <div class=\"colab-df-container\">\n",
              "      <div>\n",
              "<style scoped>\n",
              "    .dataframe tbody tr th:only-of-type {\n",
              "        vertical-align: middle;\n",
              "    }\n",
              "\n",
              "    .dataframe tbody tr th {\n",
              "        vertical-align: top;\n",
              "    }\n",
              "\n",
              "    .dataframe thead th {\n",
              "        text-align: right;\n",
              "    }\n",
              "</style>\n",
              "<table border=\"1\" class=\"dataframe\">\n",
              "  <thead>\n",
              "    <tr style=\"text-align: right;\">\n",
              "      <th></th>\n",
              "      <th>Date</th>\n",
              "      <th>Time</th>\n",
              "      <th>PT08.S1(CO)</th>\n",
              "      <th>PT08.S2(NMHC)</th>\n",
              "      <th>PT08.S3(NOx)</th>\n",
              "      <th>NO2(GT)</th>\n",
              "      <th>PT08.S4(NO2)</th>\n",
              "      <th>PT08.S5(O3)</th>\n",
              "      <th>T</th>\n",
              "      <th>RH</th>\n",
              "      <th>AH</th>\n",
              "    </tr>\n",
              "  </thead>\n",
              "  <tbody>\n",
              "    <tr>\n",
              "      <th>0</th>\n",
              "      <td>3/10/2004</td>\n",
              "      <td>18:00:00</td>\n",
              "      <td>1360.0</td>\n",
              "      <td>1046.0</td>\n",
              "      <td>1056.0</td>\n",
              "      <td>113.0</td>\n",
              "      <td>1692.0</td>\n",
              "      <td>1268.0</td>\n",
              "      <td>13.6</td>\n",
              "      <td>48.9</td>\n",
              "      <td>0.7578</td>\n",
              "    </tr>\n",
              "    <tr>\n",
              "      <th>1</th>\n",
              "      <td>3/10/2004</td>\n",
              "      <td>19:00:00</td>\n",
              "      <td>1292.0</td>\n",
              "      <td>955.0</td>\n",
              "      <td>1174.0</td>\n",
              "      <td>92.0</td>\n",
              "      <td>1559.0</td>\n",
              "      <td>972.0</td>\n",
              "      <td>13.3</td>\n",
              "      <td>47.7</td>\n",
              "      <td>0.7255</td>\n",
              "    </tr>\n",
              "    <tr>\n",
              "      <th>2</th>\n",
              "      <td>3/10/2004</td>\n",
              "      <td>20:00:00</td>\n",
              "      <td>1402.0</td>\n",
              "      <td>939.0</td>\n",
              "      <td>1140.0</td>\n",
              "      <td>114.0</td>\n",
              "      <td>1555.0</td>\n",
              "      <td>1074.0</td>\n",
              "      <td>11.9</td>\n",
              "      <td>54.0</td>\n",
              "      <td>0.7502</td>\n",
              "    </tr>\n",
              "    <tr>\n",
              "      <th>3</th>\n",
              "      <td>3/10/2004</td>\n",
              "      <td>21:00:00</td>\n",
              "      <td>1376.0</td>\n",
              "      <td>948.0</td>\n",
              "      <td>1092.0</td>\n",
              "      <td>122.0</td>\n",
              "      <td>1584.0</td>\n",
              "      <td>1203.0</td>\n",
              "      <td>11.0</td>\n",
              "      <td>60.0</td>\n",
              "      <td>0.7867</td>\n",
              "    </tr>\n",
              "    <tr>\n",
              "      <th>4</th>\n",
              "      <td>3/10/2004</td>\n",
              "      <td>22:00:00</td>\n",
              "      <td>1272.0</td>\n",
              "      <td>836.0</td>\n",
              "      <td>1205.0</td>\n",
              "      <td>116.0</td>\n",
              "      <td>1490.0</td>\n",
              "      <td>1110.0</td>\n",
              "      <td>11.2</td>\n",
              "      <td>59.6</td>\n",
              "      <td>0.7888</td>\n",
              "    </tr>\n",
              "    <tr>\n",
              "      <th>...</th>\n",
              "      <td>...</td>\n",
              "      <td>...</td>\n",
              "      <td>...</td>\n",
              "      <td>...</td>\n",
              "      <td>...</td>\n",
              "      <td>...</td>\n",
              "      <td>...</td>\n",
              "      <td>...</td>\n",
              "      <td>...</td>\n",
              "      <td>...</td>\n",
              "      <td>...</td>\n",
              "    </tr>\n",
              "    <tr>\n",
              "      <th>9352</th>\n",
              "      <td>4/4/2005</td>\n",
              "      <td>10:00:00</td>\n",
              "      <td>1314.0</td>\n",
              "      <td>1101.0</td>\n",
              "      <td>539.0</td>\n",
              "      <td>190.0</td>\n",
              "      <td>1374.0</td>\n",
              "      <td>1729.0</td>\n",
              "      <td>21.9</td>\n",
              "      <td>29.3</td>\n",
              "      <td>0.7568</td>\n",
              "    </tr>\n",
              "    <tr>\n",
              "      <th>9353</th>\n",
              "      <td>4/4/2005</td>\n",
              "      <td>11:00:00</td>\n",
              "      <td>1163.0</td>\n",
              "      <td>1027.0</td>\n",
              "      <td>604.0</td>\n",
              "      <td>179.0</td>\n",
              "      <td>1264.0</td>\n",
              "      <td>1269.0</td>\n",
              "      <td>24.3</td>\n",
              "      <td>23.7</td>\n",
              "      <td>0.7119</td>\n",
              "    </tr>\n",
              "    <tr>\n",
              "      <th>9354</th>\n",
              "      <td>4/4/2005</td>\n",
              "      <td>12:00:00</td>\n",
              "      <td>1142.0</td>\n",
              "      <td>1063.0</td>\n",
              "      <td>603.0</td>\n",
              "      <td>175.0</td>\n",
              "      <td>1241.0</td>\n",
              "      <td>1092.0</td>\n",
              "      <td>26.9</td>\n",
              "      <td>18.3</td>\n",
              "      <td>0.6406</td>\n",
              "    </tr>\n",
              "    <tr>\n",
              "      <th>9355</th>\n",
              "      <td>4/4/2005</td>\n",
              "      <td>13:00:00</td>\n",
              "      <td>1003.0</td>\n",
              "      <td>961.0</td>\n",
              "      <td>702.0</td>\n",
              "      <td>156.0</td>\n",
              "      <td>1041.0</td>\n",
              "      <td>770.0</td>\n",
              "      <td>28.3</td>\n",
              "      <td>13.5</td>\n",
              "      <td>0.5139</td>\n",
              "    </tr>\n",
              "    <tr>\n",
              "      <th>9356</th>\n",
              "      <td>4/4/2005</td>\n",
              "      <td>14:00:00</td>\n",
              "      <td>1071.0</td>\n",
              "      <td>1047.0</td>\n",
              "      <td>654.0</td>\n",
              "      <td>168.0</td>\n",
              "      <td>1129.0</td>\n",
              "      <td>816.0</td>\n",
              "      <td>28.5</td>\n",
              "      <td>13.1</td>\n",
              "      <td>0.5028</td>\n",
              "    </tr>\n",
              "  </tbody>\n",
              "</table>\n",
              "<p>7393 rows × 11 columns</p>\n",
              "</div>\n",
              "      <button class=\"colab-df-convert\" onclick=\"convertToInteractive('df-95205f0d-6865-42ad-93ae-28c0aa9b8ea2')\"\n",
              "              title=\"Convert this dataframe to an interactive table.\"\n",
              "              style=\"display:none;\">\n",
              "        \n",
              "  <svg xmlns=\"http://www.w3.org/2000/svg\" height=\"24px\"viewBox=\"0 0 24 24\"\n",
              "       width=\"24px\">\n",
              "    <path d=\"M0 0h24v24H0V0z\" fill=\"none\"/>\n",
              "    <path d=\"M18.56 5.44l.94 2.06.94-2.06 2.06-.94-2.06-.94-.94-2.06-.94 2.06-2.06.94zm-11 1L8.5 8.5l.94-2.06 2.06-.94-2.06-.94L8.5 2.5l-.94 2.06-2.06.94zm10 10l.94 2.06.94-2.06 2.06-.94-2.06-.94-.94-2.06-.94 2.06-2.06.94z\"/><path d=\"M17.41 7.96l-1.37-1.37c-.4-.4-.92-.59-1.43-.59-.52 0-1.04.2-1.43.59L10.3 9.45l-7.72 7.72c-.78.78-.78 2.05 0 2.83L4 21.41c.39.39.9.59 1.41.59.51 0 1.02-.2 1.41-.59l7.78-7.78 2.81-2.81c.8-.78.8-2.07 0-2.86zM5.41 20L4 18.59l7.72-7.72 1.47 1.35L5.41 20z\"/>\n",
              "  </svg>\n",
              "      </button>\n",
              "      \n",
              "  <style>\n",
              "    .colab-df-container {\n",
              "      display:flex;\n",
              "      flex-wrap:wrap;\n",
              "      gap: 12px;\n",
              "    }\n",
              "\n",
              "    .colab-df-convert {\n",
              "      background-color: #E8F0FE;\n",
              "      border: none;\n",
              "      border-radius: 50%;\n",
              "      cursor: pointer;\n",
              "      display: none;\n",
              "      fill: #1967D2;\n",
              "      height: 32px;\n",
              "      padding: 0 0 0 0;\n",
              "      width: 32px;\n",
              "    }\n",
              "\n",
              "    .colab-df-convert:hover {\n",
              "      background-color: #E2EBFA;\n",
              "      box-shadow: 0px 1px 2px rgba(60, 64, 67, 0.3), 0px 1px 3px 1px rgba(60, 64, 67, 0.15);\n",
              "      fill: #174EA6;\n",
              "    }\n",
              "\n",
              "    [theme=dark] .colab-df-convert {\n",
              "      background-color: #3B4455;\n",
              "      fill: #D2E3FC;\n",
              "    }\n",
              "\n",
              "    [theme=dark] .colab-df-convert:hover {\n",
              "      background-color: #434B5C;\n",
              "      box-shadow: 0px 1px 3px 1px rgba(0, 0, 0, 0.15);\n",
              "      filter: drop-shadow(0px 1px 2px rgba(0, 0, 0, 0.3));\n",
              "      fill: #FFFFFF;\n",
              "    }\n",
              "  </style>\n",
              "\n",
              "      <script>\n",
              "        const buttonEl =\n",
              "          document.querySelector('#df-95205f0d-6865-42ad-93ae-28c0aa9b8ea2 button.colab-df-convert');\n",
              "        buttonEl.style.display =\n",
              "          google.colab.kernel.accessAllowed ? 'block' : 'none';\n",
              "\n",
              "        async function convertToInteractive(key) {\n",
              "          const element = document.querySelector('#df-95205f0d-6865-42ad-93ae-28c0aa9b8ea2');\n",
              "          const dataTable =\n",
              "            await google.colab.kernel.invokeFunction('convertToInteractive',\n",
              "                                                     [key], {});\n",
              "          if (!dataTable) return;\n",
              "\n",
              "          const docLinkHtml = 'Like what you see? Visit the ' +\n",
              "            '<a target=\"_blank\" href=https://colab.research.google.com/notebooks/data_table.ipynb>data table notebook</a>'\n",
              "            + ' to learn more about interactive tables.';\n",
              "          element.innerHTML = '';\n",
              "          dataTable['output_type'] = 'display_data';\n",
              "          await google.colab.output.renderOutput(dataTable, element);\n",
              "          const docLink = document.createElement('div');\n",
              "          docLink.innerHTML = docLinkHtml;\n",
              "          element.appendChild(docLink);\n",
              "        }\n",
              "      </script>\n",
              "    </div>\n",
              "  </div>\n",
              "  "
            ]
          },
          "metadata": {},
          "execution_count": 134
        }
      ],
      "source": [
        "df.drop(df[df['PT08.S4(NO2)'].isna()].index, inplace=True)\n",
        "df = df.dropna()\n",
        "df"
      ]
    },
    {
      "cell_type": "code",
      "execution_count": 135,
      "metadata": {
        "tags": [],
        "colab": {
          "base_uri": "https://localhost:8080/"
        },
        "id": "IQ9SaHwjhcQc",
        "outputId": "33088b50-0ebb-4133-f3b0-cd77e29a1f89"
      },
      "outputs": [
        {
          "output_type": "execute_result",
          "data": {
            "text/plain": [
              "Date             0\n",
              "Time             0\n",
              "PT08.S1(CO)      0\n",
              "PT08.S2(NMHC)    0\n",
              "PT08.S3(NOx)     0\n",
              "NO2(GT)          0\n",
              "PT08.S4(NO2)     0\n",
              "PT08.S5(O3)      0\n",
              "T                0\n",
              "RH               0\n",
              "AH               0\n",
              "dtype: int64"
            ]
          },
          "metadata": {},
          "execution_count": 135
        }
      ],
      "source": [
        "df.isna().sum()"
      ]
    },
    {
      "cell_type": "markdown",
      "metadata": {
        "id": "v7vinFJmuQYn"
      },
      "source": [
        "### 4- Replace date feature"
      ]
    },
    {
      "cell_type": "code",
      "execution_count": 136,
      "metadata": {
        "collapsed": true,
        "id": "e1X8-GXvuQYn",
        "jupyter": {
          "outputs_hidden": true
        },
        "colab": {
          "base_uri": "https://localhost:8080/",
          "height": 424
        },
        "outputId": "fd3bcfb5-9a6e-485f-d988-bf4ab0c0af8b"
      },
      "outputs": [
        {
          "output_type": "execute_result",
          "data": {
            "text/plain": [
              "          Time  PT08.S1(CO)  PT08.S2(NMHC)  PT08.S3(NOx)  NO2(GT)  \\\n",
              "0     18:00:00       1360.0         1046.0        1056.0    113.0   \n",
              "1     19:00:00       1292.0          955.0        1174.0     92.0   \n",
              "2     20:00:00       1402.0          939.0        1140.0    114.0   \n",
              "3     21:00:00       1376.0          948.0        1092.0    122.0   \n",
              "4     22:00:00       1272.0          836.0        1205.0    116.0   \n",
              "...        ...          ...            ...           ...      ...   \n",
              "9352  10:00:00       1314.0         1101.0         539.0    190.0   \n",
              "9353  11:00:00       1163.0         1027.0         604.0    179.0   \n",
              "9354  12:00:00       1142.0         1063.0         603.0    175.0   \n",
              "9355  13:00:00       1003.0          961.0         702.0    156.0   \n",
              "9356  14:00:00       1071.0         1047.0         654.0    168.0   \n",
              "\n",
              "      PT08.S4(NO2)  PT08.S5(O3)     T    RH      AH Month Day  Year  \n",
              "0           1692.0       1268.0  13.6  48.9  0.7578     3  10  2004  \n",
              "1           1559.0        972.0  13.3  47.7  0.7255     3  10  2004  \n",
              "2           1555.0       1074.0  11.9  54.0  0.7502     3  10  2004  \n",
              "3           1584.0       1203.0  11.0  60.0  0.7867     3  10  2004  \n",
              "4           1490.0       1110.0  11.2  59.6  0.7888     3  10  2004  \n",
              "...            ...          ...   ...   ...     ...   ...  ..   ...  \n",
              "9352        1374.0       1729.0  21.9  29.3  0.7568     4   4  2005  \n",
              "9353        1264.0       1269.0  24.3  23.7  0.7119     4   4  2005  \n",
              "9354        1241.0       1092.0  26.9  18.3  0.6406     4   4  2005  \n",
              "9355        1041.0        770.0  28.3  13.5  0.5139     4   4  2005  \n",
              "9356        1129.0        816.0  28.5  13.1  0.5028     4   4  2005  \n",
              "\n",
              "[7393 rows x 13 columns]"
            ],
            "text/html": [
              "\n",
              "  <div id=\"df-3a651d3f-1f32-435b-87a9-a539c921f724\">\n",
              "    <div class=\"colab-df-container\">\n",
              "      <div>\n",
              "<style scoped>\n",
              "    .dataframe tbody tr th:only-of-type {\n",
              "        vertical-align: middle;\n",
              "    }\n",
              "\n",
              "    .dataframe tbody tr th {\n",
              "        vertical-align: top;\n",
              "    }\n",
              "\n",
              "    .dataframe thead th {\n",
              "        text-align: right;\n",
              "    }\n",
              "</style>\n",
              "<table border=\"1\" class=\"dataframe\">\n",
              "  <thead>\n",
              "    <tr style=\"text-align: right;\">\n",
              "      <th></th>\n",
              "      <th>Time</th>\n",
              "      <th>PT08.S1(CO)</th>\n",
              "      <th>PT08.S2(NMHC)</th>\n",
              "      <th>PT08.S3(NOx)</th>\n",
              "      <th>NO2(GT)</th>\n",
              "      <th>PT08.S4(NO2)</th>\n",
              "      <th>PT08.S5(O3)</th>\n",
              "      <th>T</th>\n",
              "      <th>RH</th>\n",
              "      <th>AH</th>\n",
              "      <th>Month</th>\n",
              "      <th>Day</th>\n",
              "      <th>Year</th>\n",
              "    </tr>\n",
              "  </thead>\n",
              "  <tbody>\n",
              "    <tr>\n",
              "      <th>0</th>\n",
              "      <td>18:00:00</td>\n",
              "      <td>1360.0</td>\n",
              "      <td>1046.0</td>\n",
              "      <td>1056.0</td>\n",
              "      <td>113.0</td>\n",
              "      <td>1692.0</td>\n",
              "      <td>1268.0</td>\n",
              "      <td>13.6</td>\n",
              "      <td>48.9</td>\n",
              "      <td>0.7578</td>\n",
              "      <td>3</td>\n",
              "      <td>10</td>\n",
              "      <td>2004</td>\n",
              "    </tr>\n",
              "    <tr>\n",
              "      <th>1</th>\n",
              "      <td>19:00:00</td>\n",
              "      <td>1292.0</td>\n",
              "      <td>955.0</td>\n",
              "      <td>1174.0</td>\n",
              "      <td>92.0</td>\n",
              "      <td>1559.0</td>\n",
              "      <td>972.0</td>\n",
              "      <td>13.3</td>\n",
              "      <td>47.7</td>\n",
              "      <td>0.7255</td>\n",
              "      <td>3</td>\n",
              "      <td>10</td>\n",
              "      <td>2004</td>\n",
              "    </tr>\n",
              "    <tr>\n",
              "      <th>2</th>\n",
              "      <td>20:00:00</td>\n",
              "      <td>1402.0</td>\n",
              "      <td>939.0</td>\n",
              "      <td>1140.0</td>\n",
              "      <td>114.0</td>\n",
              "      <td>1555.0</td>\n",
              "      <td>1074.0</td>\n",
              "      <td>11.9</td>\n",
              "      <td>54.0</td>\n",
              "      <td>0.7502</td>\n",
              "      <td>3</td>\n",
              "      <td>10</td>\n",
              "      <td>2004</td>\n",
              "    </tr>\n",
              "    <tr>\n",
              "      <th>3</th>\n",
              "      <td>21:00:00</td>\n",
              "      <td>1376.0</td>\n",
              "      <td>948.0</td>\n",
              "      <td>1092.0</td>\n",
              "      <td>122.0</td>\n",
              "      <td>1584.0</td>\n",
              "      <td>1203.0</td>\n",
              "      <td>11.0</td>\n",
              "      <td>60.0</td>\n",
              "      <td>0.7867</td>\n",
              "      <td>3</td>\n",
              "      <td>10</td>\n",
              "      <td>2004</td>\n",
              "    </tr>\n",
              "    <tr>\n",
              "      <th>4</th>\n",
              "      <td>22:00:00</td>\n",
              "      <td>1272.0</td>\n",
              "      <td>836.0</td>\n",
              "      <td>1205.0</td>\n",
              "      <td>116.0</td>\n",
              "      <td>1490.0</td>\n",
              "      <td>1110.0</td>\n",
              "      <td>11.2</td>\n",
              "      <td>59.6</td>\n",
              "      <td>0.7888</td>\n",
              "      <td>3</td>\n",
              "      <td>10</td>\n",
              "      <td>2004</td>\n",
              "    </tr>\n",
              "    <tr>\n",
              "      <th>...</th>\n",
              "      <td>...</td>\n",
              "      <td>...</td>\n",
              "      <td>...</td>\n",
              "      <td>...</td>\n",
              "      <td>...</td>\n",
              "      <td>...</td>\n",
              "      <td>...</td>\n",
              "      <td>...</td>\n",
              "      <td>...</td>\n",
              "      <td>...</td>\n",
              "      <td>...</td>\n",
              "      <td>...</td>\n",
              "      <td>...</td>\n",
              "    </tr>\n",
              "    <tr>\n",
              "      <th>9352</th>\n",
              "      <td>10:00:00</td>\n",
              "      <td>1314.0</td>\n",
              "      <td>1101.0</td>\n",
              "      <td>539.0</td>\n",
              "      <td>190.0</td>\n",
              "      <td>1374.0</td>\n",
              "      <td>1729.0</td>\n",
              "      <td>21.9</td>\n",
              "      <td>29.3</td>\n",
              "      <td>0.7568</td>\n",
              "      <td>4</td>\n",
              "      <td>4</td>\n",
              "      <td>2005</td>\n",
              "    </tr>\n",
              "    <tr>\n",
              "      <th>9353</th>\n",
              "      <td>11:00:00</td>\n",
              "      <td>1163.0</td>\n",
              "      <td>1027.0</td>\n",
              "      <td>604.0</td>\n",
              "      <td>179.0</td>\n",
              "      <td>1264.0</td>\n",
              "      <td>1269.0</td>\n",
              "      <td>24.3</td>\n",
              "      <td>23.7</td>\n",
              "      <td>0.7119</td>\n",
              "      <td>4</td>\n",
              "      <td>4</td>\n",
              "      <td>2005</td>\n",
              "    </tr>\n",
              "    <tr>\n",
              "      <th>9354</th>\n",
              "      <td>12:00:00</td>\n",
              "      <td>1142.0</td>\n",
              "      <td>1063.0</td>\n",
              "      <td>603.0</td>\n",
              "      <td>175.0</td>\n",
              "      <td>1241.0</td>\n",
              "      <td>1092.0</td>\n",
              "      <td>26.9</td>\n",
              "      <td>18.3</td>\n",
              "      <td>0.6406</td>\n",
              "      <td>4</td>\n",
              "      <td>4</td>\n",
              "      <td>2005</td>\n",
              "    </tr>\n",
              "    <tr>\n",
              "      <th>9355</th>\n",
              "      <td>13:00:00</td>\n",
              "      <td>1003.0</td>\n",
              "      <td>961.0</td>\n",
              "      <td>702.0</td>\n",
              "      <td>156.0</td>\n",
              "      <td>1041.0</td>\n",
              "      <td>770.0</td>\n",
              "      <td>28.3</td>\n",
              "      <td>13.5</td>\n",
              "      <td>0.5139</td>\n",
              "      <td>4</td>\n",
              "      <td>4</td>\n",
              "      <td>2005</td>\n",
              "    </tr>\n",
              "    <tr>\n",
              "      <th>9356</th>\n",
              "      <td>14:00:00</td>\n",
              "      <td>1071.0</td>\n",
              "      <td>1047.0</td>\n",
              "      <td>654.0</td>\n",
              "      <td>168.0</td>\n",
              "      <td>1129.0</td>\n",
              "      <td>816.0</td>\n",
              "      <td>28.5</td>\n",
              "      <td>13.1</td>\n",
              "      <td>0.5028</td>\n",
              "      <td>4</td>\n",
              "      <td>4</td>\n",
              "      <td>2005</td>\n",
              "    </tr>\n",
              "  </tbody>\n",
              "</table>\n",
              "<p>7393 rows × 13 columns</p>\n",
              "</div>\n",
              "      <button class=\"colab-df-convert\" onclick=\"convertToInteractive('df-3a651d3f-1f32-435b-87a9-a539c921f724')\"\n",
              "              title=\"Convert this dataframe to an interactive table.\"\n",
              "              style=\"display:none;\">\n",
              "        \n",
              "  <svg xmlns=\"http://www.w3.org/2000/svg\" height=\"24px\"viewBox=\"0 0 24 24\"\n",
              "       width=\"24px\">\n",
              "    <path d=\"M0 0h24v24H0V0z\" fill=\"none\"/>\n",
              "    <path d=\"M18.56 5.44l.94 2.06.94-2.06 2.06-.94-2.06-.94-.94-2.06-.94 2.06-2.06.94zm-11 1L8.5 8.5l.94-2.06 2.06-.94-2.06-.94L8.5 2.5l-.94 2.06-2.06.94zm10 10l.94 2.06.94-2.06 2.06-.94-2.06-.94-.94-2.06-.94 2.06-2.06.94z\"/><path d=\"M17.41 7.96l-1.37-1.37c-.4-.4-.92-.59-1.43-.59-.52 0-1.04.2-1.43.59L10.3 9.45l-7.72 7.72c-.78.78-.78 2.05 0 2.83L4 21.41c.39.39.9.59 1.41.59.51 0 1.02-.2 1.41-.59l7.78-7.78 2.81-2.81c.8-.78.8-2.07 0-2.86zM5.41 20L4 18.59l7.72-7.72 1.47 1.35L5.41 20z\"/>\n",
              "  </svg>\n",
              "      </button>\n",
              "      \n",
              "  <style>\n",
              "    .colab-df-container {\n",
              "      display:flex;\n",
              "      flex-wrap:wrap;\n",
              "      gap: 12px;\n",
              "    }\n",
              "\n",
              "    .colab-df-convert {\n",
              "      background-color: #E8F0FE;\n",
              "      border: none;\n",
              "      border-radius: 50%;\n",
              "      cursor: pointer;\n",
              "      display: none;\n",
              "      fill: #1967D2;\n",
              "      height: 32px;\n",
              "      padding: 0 0 0 0;\n",
              "      width: 32px;\n",
              "    }\n",
              "\n",
              "    .colab-df-convert:hover {\n",
              "      background-color: #E2EBFA;\n",
              "      box-shadow: 0px 1px 2px rgba(60, 64, 67, 0.3), 0px 1px 3px 1px rgba(60, 64, 67, 0.15);\n",
              "      fill: #174EA6;\n",
              "    }\n",
              "\n",
              "    [theme=dark] .colab-df-convert {\n",
              "      background-color: #3B4455;\n",
              "      fill: #D2E3FC;\n",
              "    }\n",
              "\n",
              "    [theme=dark] .colab-df-convert:hover {\n",
              "      background-color: #434B5C;\n",
              "      box-shadow: 0px 1px 3px 1px rgba(0, 0, 0, 0.15);\n",
              "      filter: drop-shadow(0px 1px 2px rgba(0, 0, 0, 0.3));\n",
              "      fill: #FFFFFF;\n",
              "    }\n",
              "  </style>\n",
              "\n",
              "      <script>\n",
              "        const buttonEl =\n",
              "          document.querySelector('#df-3a651d3f-1f32-435b-87a9-a539c921f724 button.colab-df-convert');\n",
              "        buttonEl.style.display =\n",
              "          google.colab.kernel.accessAllowed ? 'block' : 'none';\n",
              "\n",
              "        async function convertToInteractive(key) {\n",
              "          const element = document.querySelector('#df-3a651d3f-1f32-435b-87a9-a539c921f724');\n",
              "          const dataTable =\n",
              "            await google.colab.kernel.invokeFunction('convertToInteractive',\n",
              "                                                     [key], {});\n",
              "          if (!dataTable) return;\n",
              "\n",
              "          const docLinkHtml = 'Like what you see? Visit the ' +\n",
              "            '<a target=\"_blank\" href=https://colab.research.google.com/notebooks/data_table.ipynb>data table notebook</a>'\n",
              "            + ' to learn more about interactive tables.';\n",
              "          element.innerHTML = '';\n",
              "          dataTable['output_type'] = 'display_data';\n",
              "          await google.colab.output.renderOutput(dataTable, element);\n",
              "          const docLink = document.createElement('div');\n",
              "          docLink.innerHTML = docLinkHtml;\n",
              "          element.appendChild(docLink);\n",
              "        }\n",
              "      </script>\n",
              "    </div>\n",
              "  </div>\n",
              "  "
            ]
          },
          "metadata": {},
          "execution_count": 136
        }
      ],
      "source": [
        "df[[\"Month\", \"Day\", \"Year\"]] = df[\"Date\"].str.split(\"/\", expand = True)\n",
        "df = df.drop('Date',axis=1)\n",
        "df"
      ]
    },
    {
      "cell_type": "markdown",
      "metadata": {
        "id": "zHvSGF9fuQYo"
      },
      "source": [
        "## 5- Replace time feature"
      ]
    },
    {
      "cell_type": "code",
      "execution_count": 137,
      "metadata": {
        "id": "vWqvEVdsuQYo",
        "jupyter": {
          "outputs_hidden": true
        }
      },
      "outputs": [],
      "source": [
        "df[[\"Hour\", \"Minute\", \"Second\"]] = df[\"Time\"].str.split(\":\", expand = True)\n",
        "df = df.drop('Time',axis=1)\n",
        "df = df.drop('Minute',axis=1)\n",
        "df = df.drop('Second',axis=1)"
      ]
    },
    {
      "cell_type": "code",
      "source": [
        "df"
      ],
      "metadata": {
        "colab": {
          "base_uri": "https://localhost:8080/",
          "height": 424
        },
        "id": "WxixVBjBiPqI",
        "outputId": "07dc2f45-6b7f-42d7-a86b-9aab697fce8f"
      },
      "execution_count": 138,
      "outputs": [
        {
          "output_type": "execute_result",
          "data": {
            "text/plain": [
              "      PT08.S1(CO)  PT08.S2(NMHC)  PT08.S3(NOx)  NO2(GT)  PT08.S4(NO2)  \\\n",
              "0          1360.0         1046.0        1056.0    113.0        1692.0   \n",
              "1          1292.0          955.0        1174.0     92.0        1559.0   \n",
              "2          1402.0          939.0        1140.0    114.0        1555.0   \n",
              "3          1376.0          948.0        1092.0    122.0        1584.0   \n",
              "4          1272.0          836.0        1205.0    116.0        1490.0   \n",
              "...           ...            ...           ...      ...           ...   \n",
              "9352       1314.0         1101.0         539.0    190.0        1374.0   \n",
              "9353       1163.0         1027.0         604.0    179.0        1264.0   \n",
              "9354       1142.0         1063.0         603.0    175.0        1241.0   \n",
              "9355       1003.0          961.0         702.0    156.0        1041.0   \n",
              "9356       1071.0         1047.0         654.0    168.0        1129.0   \n",
              "\n",
              "      PT08.S5(O3)     T    RH      AH Month Day  Year Hour  \n",
              "0          1268.0  13.6  48.9  0.7578     3  10  2004   18  \n",
              "1           972.0  13.3  47.7  0.7255     3  10  2004   19  \n",
              "2          1074.0  11.9  54.0  0.7502     3  10  2004   20  \n",
              "3          1203.0  11.0  60.0  0.7867     3  10  2004   21  \n",
              "4          1110.0  11.2  59.6  0.7888     3  10  2004   22  \n",
              "...           ...   ...   ...     ...   ...  ..   ...  ...  \n",
              "9352       1729.0  21.9  29.3  0.7568     4   4  2005   10  \n",
              "9353       1269.0  24.3  23.7  0.7119     4   4  2005   11  \n",
              "9354       1092.0  26.9  18.3  0.6406     4   4  2005   12  \n",
              "9355        770.0  28.3  13.5  0.5139     4   4  2005   13  \n",
              "9356        816.0  28.5  13.1  0.5028     4   4  2005   14  \n",
              "\n",
              "[7393 rows x 13 columns]"
            ],
            "text/html": [
              "\n",
              "  <div id=\"df-74a06c04-ce41-4458-8c86-d2941c90fd3e\">\n",
              "    <div class=\"colab-df-container\">\n",
              "      <div>\n",
              "<style scoped>\n",
              "    .dataframe tbody tr th:only-of-type {\n",
              "        vertical-align: middle;\n",
              "    }\n",
              "\n",
              "    .dataframe tbody tr th {\n",
              "        vertical-align: top;\n",
              "    }\n",
              "\n",
              "    .dataframe thead th {\n",
              "        text-align: right;\n",
              "    }\n",
              "</style>\n",
              "<table border=\"1\" class=\"dataframe\">\n",
              "  <thead>\n",
              "    <tr style=\"text-align: right;\">\n",
              "      <th></th>\n",
              "      <th>PT08.S1(CO)</th>\n",
              "      <th>PT08.S2(NMHC)</th>\n",
              "      <th>PT08.S3(NOx)</th>\n",
              "      <th>NO2(GT)</th>\n",
              "      <th>PT08.S4(NO2)</th>\n",
              "      <th>PT08.S5(O3)</th>\n",
              "      <th>T</th>\n",
              "      <th>RH</th>\n",
              "      <th>AH</th>\n",
              "      <th>Month</th>\n",
              "      <th>Day</th>\n",
              "      <th>Year</th>\n",
              "      <th>Hour</th>\n",
              "    </tr>\n",
              "  </thead>\n",
              "  <tbody>\n",
              "    <tr>\n",
              "      <th>0</th>\n",
              "      <td>1360.0</td>\n",
              "      <td>1046.0</td>\n",
              "      <td>1056.0</td>\n",
              "      <td>113.0</td>\n",
              "      <td>1692.0</td>\n",
              "      <td>1268.0</td>\n",
              "      <td>13.6</td>\n",
              "      <td>48.9</td>\n",
              "      <td>0.7578</td>\n",
              "      <td>3</td>\n",
              "      <td>10</td>\n",
              "      <td>2004</td>\n",
              "      <td>18</td>\n",
              "    </tr>\n",
              "    <tr>\n",
              "      <th>1</th>\n",
              "      <td>1292.0</td>\n",
              "      <td>955.0</td>\n",
              "      <td>1174.0</td>\n",
              "      <td>92.0</td>\n",
              "      <td>1559.0</td>\n",
              "      <td>972.0</td>\n",
              "      <td>13.3</td>\n",
              "      <td>47.7</td>\n",
              "      <td>0.7255</td>\n",
              "      <td>3</td>\n",
              "      <td>10</td>\n",
              "      <td>2004</td>\n",
              "      <td>19</td>\n",
              "    </tr>\n",
              "    <tr>\n",
              "      <th>2</th>\n",
              "      <td>1402.0</td>\n",
              "      <td>939.0</td>\n",
              "      <td>1140.0</td>\n",
              "      <td>114.0</td>\n",
              "      <td>1555.0</td>\n",
              "      <td>1074.0</td>\n",
              "      <td>11.9</td>\n",
              "      <td>54.0</td>\n",
              "      <td>0.7502</td>\n",
              "      <td>3</td>\n",
              "      <td>10</td>\n",
              "      <td>2004</td>\n",
              "      <td>20</td>\n",
              "    </tr>\n",
              "    <tr>\n",
              "      <th>3</th>\n",
              "      <td>1376.0</td>\n",
              "      <td>948.0</td>\n",
              "      <td>1092.0</td>\n",
              "      <td>122.0</td>\n",
              "      <td>1584.0</td>\n",
              "      <td>1203.0</td>\n",
              "      <td>11.0</td>\n",
              "      <td>60.0</td>\n",
              "      <td>0.7867</td>\n",
              "      <td>3</td>\n",
              "      <td>10</td>\n",
              "      <td>2004</td>\n",
              "      <td>21</td>\n",
              "    </tr>\n",
              "    <tr>\n",
              "      <th>4</th>\n",
              "      <td>1272.0</td>\n",
              "      <td>836.0</td>\n",
              "      <td>1205.0</td>\n",
              "      <td>116.0</td>\n",
              "      <td>1490.0</td>\n",
              "      <td>1110.0</td>\n",
              "      <td>11.2</td>\n",
              "      <td>59.6</td>\n",
              "      <td>0.7888</td>\n",
              "      <td>3</td>\n",
              "      <td>10</td>\n",
              "      <td>2004</td>\n",
              "      <td>22</td>\n",
              "    </tr>\n",
              "    <tr>\n",
              "      <th>...</th>\n",
              "      <td>...</td>\n",
              "      <td>...</td>\n",
              "      <td>...</td>\n",
              "      <td>...</td>\n",
              "      <td>...</td>\n",
              "      <td>...</td>\n",
              "      <td>...</td>\n",
              "      <td>...</td>\n",
              "      <td>...</td>\n",
              "      <td>...</td>\n",
              "      <td>...</td>\n",
              "      <td>...</td>\n",
              "      <td>...</td>\n",
              "    </tr>\n",
              "    <tr>\n",
              "      <th>9352</th>\n",
              "      <td>1314.0</td>\n",
              "      <td>1101.0</td>\n",
              "      <td>539.0</td>\n",
              "      <td>190.0</td>\n",
              "      <td>1374.0</td>\n",
              "      <td>1729.0</td>\n",
              "      <td>21.9</td>\n",
              "      <td>29.3</td>\n",
              "      <td>0.7568</td>\n",
              "      <td>4</td>\n",
              "      <td>4</td>\n",
              "      <td>2005</td>\n",
              "      <td>10</td>\n",
              "    </tr>\n",
              "    <tr>\n",
              "      <th>9353</th>\n",
              "      <td>1163.0</td>\n",
              "      <td>1027.0</td>\n",
              "      <td>604.0</td>\n",
              "      <td>179.0</td>\n",
              "      <td>1264.0</td>\n",
              "      <td>1269.0</td>\n",
              "      <td>24.3</td>\n",
              "      <td>23.7</td>\n",
              "      <td>0.7119</td>\n",
              "      <td>4</td>\n",
              "      <td>4</td>\n",
              "      <td>2005</td>\n",
              "      <td>11</td>\n",
              "    </tr>\n",
              "    <tr>\n",
              "      <th>9354</th>\n",
              "      <td>1142.0</td>\n",
              "      <td>1063.0</td>\n",
              "      <td>603.0</td>\n",
              "      <td>175.0</td>\n",
              "      <td>1241.0</td>\n",
              "      <td>1092.0</td>\n",
              "      <td>26.9</td>\n",
              "      <td>18.3</td>\n",
              "      <td>0.6406</td>\n",
              "      <td>4</td>\n",
              "      <td>4</td>\n",
              "      <td>2005</td>\n",
              "      <td>12</td>\n",
              "    </tr>\n",
              "    <tr>\n",
              "      <th>9355</th>\n",
              "      <td>1003.0</td>\n",
              "      <td>961.0</td>\n",
              "      <td>702.0</td>\n",
              "      <td>156.0</td>\n",
              "      <td>1041.0</td>\n",
              "      <td>770.0</td>\n",
              "      <td>28.3</td>\n",
              "      <td>13.5</td>\n",
              "      <td>0.5139</td>\n",
              "      <td>4</td>\n",
              "      <td>4</td>\n",
              "      <td>2005</td>\n",
              "      <td>13</td>\n",
              "    </tr>\n",
              "    <tr>\n",
              "      <th>9356</th>\n",
              "      <td>1071.0</td>\n",
              "      <td>1047.0</td>\n",
              "      <td>654.0</td>\n",
              "      <td>168.0</td>\n",
              "      <td>1129.0</td>\n",
              "      <td>816.0</td>\n",
              "      <td>28.5</td>\n",
              "      <td>13.1</td>\n",
              "      <td>0.5028</td>\n",
              "      <td>4</td>\n",
              "      <td>4</td>\n",
              "      <td>2005</td>\n",
              "      <td>14</td>\n",
              "    </tr>\n",
              "  </tbody>\n",
              "</table>\n",
              "<p>7393 rows × 13 columns</p>\n",
              "</div>\n",
              "      <button class=\"colab-df-convert\" onclick=\"convertToInteractive('df-74a06c04-ce41-4458-8c86-d2941c90fd3e')\"\n",
              "              title=\"Convert this dataframe to an interactive table.\"\n",
              "              style=\"display:none;\">\n",
              "        \n",
              "  <svg xmlns=\"http://www.w3.org/2000/svg\" height=\"24px\"viewBox=\"0 0 24 24\"\n",
              "       width=\"24px\">\n",
              "    <path d=\"M0 0h24v24H0V0z\" fill=\"none\"/>\n",
              "    <path d=\"M18.56 5.44l.94 2.06.94-2.06 2.06-.94-2.06-.94-.94-2.06-.94 2.06-2.06.94zm-11 1L8.5 8.5l.94-2.06 2.06-.94-2.06-.94L8.5 2.5l-.94 2.06-2.06.94zm10 10l.94 2.06.94-2.06 2.06-.94-2.06-.94-.94-2.06-.94 2.06-2.06.94z\"/><path d=\"M17.41 7.96l-1.37-1.37c-.4-.4-.92-.59-1.43-.59-.52 0-1.04.2-1.43.59L10.3 9.45l-7.72 7.72c-.78.78-.78 2.05 0 2.83L4 21.41c.39.39.9.59 1.41.59.51 0 1.02-.2 1.41-.59l7.78-7.78 2.81-2.81c.8-.78.8-2.07 0-2.86zM5.41 20L4 18.59l7.72-7.72 1.47 1.35L5.41 20z\"/>\n",
              "  </svg>\n",
              "      </button>\n",
              "      \n",
              "  <style>\n",
              "    .colab-df-container {\n",
              "      display:flex;\n",
              "      flex-wrap:wrap;\n",
              "      gap: 12px;\n",
              "    }\n",
              "\n",
              "    .colab-df-convert {\n",
              "      background-color: #E8F0FE;\n",
              "      border: none;\n",
              "      border-radius: 50%;\n",
              "      cursor: pointer;\n",
              "      display: none;\n",
              "      fill: #1967D2;\n",
              "      height: 32px;\n",
              "      padding: 0 0 0 0;\n",
              "      width: 32px;\n",
              "    }\n",
              "\n",
              "    .colab-df-convert:hover {\n",
              "      background-color: #E2EBFA;\n",
              "      box-shadow: 0px 1px 2px rgba(60, 64, 67, 0.3), 0px 1px 3px 1px rgba(60, 64, 67, 0.15);\n",
              "      fill: #174EA6;\n",
              "    }\n",
              "\n",
              "    [theme=dark] .colab-df-convert {\n",
              "      background-color: #3B4455;\n",
              "      fill: #D2E3FC;\n",
              "    }\n",
              "\n",
              "    [theme=dark] .colab-df-convert:hover {\n",
              "      background-color: #434B5C;\n",
              "      box-shadow: 0px 1px 3px 1px rgba(0, 0, 0, 0.15);\n",
              "      filter: drop-shadow(0px 1px 2px rgba(0, 0, 0, 0.3));\n",
              "      fill: #FFFFFF;\n",
              "    }\n",
              "  </style>\n",
              "\n",
              "      <script>\n",
              "        const buttonEl =\n",
              "          document.querySelector('#df-74a06c04-ce41-4458-8c86-d2941c90fd3e button.colab-df-convert');\n",
              "        buttonEl.style.display =\n",
              "          google.colab.kernel.accessAllowed ? 'block' : 'none';\n",
              "\n",
              "        async function convertToInteractive(key) {\n",
              "          const element = document.querySelector('#df-74a06c04-ce41-4458-8c86-d2941c90fd3e');\n",
              "          const dataTable =\n",
              "            await google.colab.kernel.invokeFunction('convertToInteractive',\n",
              "                                                     [key], {});\n",
              "          if (!dataTable) return;\n",
              "\n",
              "          const docLinkHtml = 'Like what you see? Visit the ' +\n",
              "            '<a target=\"_blank\" href=https://colab.research.google.com/notebooks/data_table.ipynb>data table notebook</a>'\n",
              "            + ' to learn more about interactive tables.';\n",
              "          element.innerHTML = '';\n",
              "          dataTable['output_type'] = 'display_data';\n",
              "          await google.colab.output.renderOutput(dataTable, element);\n",
              "          const docLink = document.createElement('div');\n",
              "          docLink.innerHTML = docLinkHtml;\n",
              "          element.appendChild(docLink);\n",
              "        }\n",
              "      </script>\n",
              "    </div>\n",
              "  </div>\n",
              "  "
            ]
          },
          "metadata": {},
          "execution_count": 138
        }
      ]
    },
    {
      "cell_type": "code",
      "source": [
        "df.iloc[0]"
      ],
      "metadata": {
        "colab": {
          "base_uri": "https://localhost:8080/"
        },
        "id": "1QTTFu4jVkZH",
        "outputId": "96d9c333-77ae-4774-d0e4-4454047ca456"
      },
      "execution_count": 139,
      "outputs": [
        {
          "output_type": "execute_result",
          "data": {
            "text/plain": [
              "PT08.S1(CO)      1360.0\n",
              "PT08.S2(NMHC)    1046.0\n",
              "PT08.S3(NOx)     1056.0\n",
              "NO2(GT)           113.0\n",
              "PT08.S4(NO2)     1692.0\n",
              "PT08.S5(O3)      1268.0\n",
              "T                  13.6\n",
              "RH                 48.9\n",
              "AH               0.7578\n",
              "Month                 3\n",
              "Day                  10\n",
              "Year               2004\n",
              "Hour                 18\n",
              "Name: 0, dtype: object"
            ]
          },
          "metadata": {},
          "execution_count": 139
        }
      ]
    },
    {
      "cell_type": "markdown",
      "metadata": {
        "id": "rV0bYDXzuQYo"
      },
      "source": [
        "### 6- Apply feature scaling"
      ]
    },
    {
      "cell_type": "code",
      "execution_count": 140,
      "outputs": [],
      "source": [
        "from sklearn.model_selection import train_test_split\n",
        "from sklearn.preprocessing import StandardScaler"
      ],
      "metadata": {
        "id": "VQmmG-EvhcQf"
      }
    },
    {
      "cell_type": "code",
      "execution_count": null,
      "outputs": [],
      "source": [
        "x = df.drop('NO2(GT)',axis=1)\n",
        "y = df['NO2(GT)']\n"
      ],
      "metadata": {
        "id": "-9tz28IhhcQf"
      }
    },
    {
      "cell_type": "code",
      "source": [],
      "metadata": {
        "id": "5lpJ0tfSpGqb"
      },
      "execution_count": null,
      "outputs": []
    },
    {
      "cell_type": "code",
      "source": [],
      "metadata": {
        "id": "-nNQ-CaAo2NI"
      },
      "execution_count": null,
      "outputs": []
    },
    {
      "cell_type": "code",
      "source": [],
      "metadata": {
        "id": "SOna5fX8puVU"
      },
      "execution_count": null,
      "outputs": []
    },
    {
      "cell_type": "code",
      "execution_count": null,
      "outputs": [],
      "source": [
        "from sklearn.preprocessing import PolynomialFeatures\n",
        "def getPolynomialWithDegree(degree):\n",
        "    polynomial_converter = PolynomialFeatures(degree=degree,include_bias=False)\n",
        "    poly_features = polynomial_converter.fit_transform(x)\n",
        "    x_train, x_test, y_train, y_test = train_test_split(poly_features, y, test_size=0.3, random_state=101)\n",
        "    scaler = StandardScaler()\n",
        "    scaler.fit(x_train)\n",
        "    x_train = scaler.transform(x_train)\n",
        "    x_test = scaler.transform(x_test)\n",
        "    return x_train,x_test,y_train,y_test"
      ],
      "metadata": {
        "id": "bti3koX8hcQf"
      }
    },
    {
      "cell_type": "code",
      "execution_count": null,
      "outputs": [],
      "source": [],
      "metadata": {
        "id": "Xj3J3Co0hcQg"
      }
    },
    {
      "cell_type": "code",
      "execution_count": 141,
      "outputs": [],
      "source": [
        "def doModel(model_name,model,degree):\n",
        "    # TRAINING ERROR PER DEGREE\n",
        "    train_rmse_errors = []\n",
        "    # TEST ERROR PER DEGREE\n",
        "    test_rmse_errors = []\n",
        "\n",
        "    x_train,x_test,y_train,y_test = getPolynomialWithDegree(degree)\n",
        "    model.fit(x_train,y_train)\n",
        "    print(model_name)\n",
        "    print(\"degree = %s\" % degree)\n",
        "    print(\"alpha = %s\" % model.alpha_)\n",
        "    test_predictions = model.predict(x_test)\n",
        "    print(\"Test Set Performance\")\n",
        "    MAE = mean_absolute_error(y_test,test_predictions)\n",
        "    MSE = mean_squared_error(y_test,test_predictions)\n",
        "    test_RMSE = np.sqrt(MSE)\n",
        "    # print(\"MAE = %s\" % MAE)\n",
        "    # print(\"MSE = %s\" % MSE)\n",
        "    print(\"RMSE = %s\" % test_RMSE)\n",
        "\n",
        "    train_predictions = model.predict(x_train)\n",
        "    print(\"Training Set Performance\")\n",
        "    MAE = mean_absolute_error(y_train,train_predictions)\n",
        "    MSE = mean_squared_error(y_train,train_predictions)\n",
        "    train_RMSE = np.sqrt(MSE)\n",
        "    print(\"RMSE = %s\" % train_RMSE)\n",
        "\n",
        "    ratio = None\n",
        "    if hasattr(model, 'l1_ratio_'):\n",
        "        ratio = model.l1_ratio_\n",
        "    return test_RMSE, train_RMSE, model.coef_, model.alpha_, ratio"
      ],
      "metadata": {
        "id": "6urSeqhRhcQg"
      }
    },
    {
      "cell_type": "markdown",
      "metadata": {
        "id": "-Bh7ou_4uQYp"
      },
      "source": [
        "### 7- Evaluate different degrees of lasso CV polynomial regression\n",
        "\n",
        "\n"
      ]
    },
    {
      "cell_type": "code",
      "execution_count": 142,
      "outputs": [],
      "source": [
        "from sklearn.metrics import mean_absolute_error, mean_squared_error\n",
        "from sklearn.linear_model import LassoCV\n",
        "def doLassoCV(degree):\n",
        "    return doModel(\"LassoCV\",LassoCV(eps=0.1,n_alphas=100,cv=5,max_iter=100000),degree)\n"
      ],
      "metadata": {
        "id": "KCOn6TizhcQh"
      }
    },
    {
      "cell_type": "code",
      "execution_count": null,
      "metadata": {
        "id": "tLBRmfjuuQYp",
        "jupyter": {
          "outputs_hidden": true
        },
        "colab": {
          "base_uri": "https://localhost:8080/"
        },
        "outputId": "b8219047-3f5b-48b8-eccc-3c6e6a948e31"
      },
      "outputs": [
        {
          "output_type": "stream",
          "name": "stdout",
          "text": [
            "LassoCV\n",
            "degree = 1\n",
            "alpha = 3.3928122729437327\n",
            "Test Set Performance\n",
            "RMSE = 23.28882199098844\n",
            "Training Set Performance\n",
            "RMSE = 23.83523840277192\n",
            "LassoCV\n",
            "degree = 2\n",
            "alpha = 3.3938106840490363\n",
            "Test Set Performance\n",
            "RMSE = 22.491865684500674\n",
            "Training Set Performance\n",
            "RMSE = 23.253819227337136\n",
            "LassoCV\n",
            "degree = 3\n",
            "alpha = 3.4203762682143113\n",
            "Test Set Performance\n",
            "RMSE = 22.502376684441614\n",
            "Training Set Performance\n",
            "RMSE = 23.27918551642303\n",
            "LassoCV\n",
            "degree = 4\n",
            "alpha = 3.4204844352613235\n",
            "Test Set Performance\n",
            "RMSE = 22.460768605535858\n",
            "Training Set Performance\n",
            "RMSE = 23.259956638999924\n"
          ]
        }
      ],
      "source": [
        "lasso_test_RMSE = []\n",
        "lasso_train_RMSE = []\n",
        "lasso_coef = []\n",
        "lasso_alpha = []\n",
        "\n",
        "for i in range(1,5):\n",
        "    test_RMSE, train_RMSE, coef, alpha, ratio = doLassoCV(i)\n",
        "    lasso_test_RMSE.append(test_RMSE)\n",
        "    lasso_train_RMSE.append(train_RMSE)    \n",
        "    lasso_coef.append(coef)\n",
        "    lasso_alpha.append(alpha)\n",
        "# doLassoCV(2)"
      ]
    },
    {
      "cell_type": "code",
      "source": [
        "lasso_test_RMSE\n",
        "lasso_train_RMSE"
      ],
      "metadata": {
        "colab": {
          "base_uri": "https://localhost:8080/"
        },
        "id": "zy_AX4RE3V5n",
        "outputId": "7c141bc4-b7d5-4c70-bb26-9f89aa2f8ac2"
      },
      "execution_count": null,
      "outputs": [
        {
          "output_type": "execute_result",
          "data": {
            "text/plain": [
              "[23.83523840277192, 23.253819227337136, 23.27918551642303, 23.259956638999924]"
            ]
          },
          "metadata": {},
          "execution_count": 93
        }
      ]
    },
    {
      "cell_type": "markdown",
      "metadata": {
        "id": "pDn9gby-uQYp"
      },
      "source": [
        "### 8- Choose the best degree and print the errors, model coefficients and the lasso parameters."
      ]
    },
    {
      "cell_type": "code",
      "execution_count": null,
      "metadata": {
        "id": "xLdmHaPBuQYq",
        "jupyter": {
          "outputs_hidden": true
        },
        "colab": {
          "base_uri": "https://localhost:8080/",
          "height": 300
        },
        "outputId": "ec7a8195-5cfa-4524-9f1a-7f93e5004ebf"
      },
      "outputs": [
        {
          "output_type": "execute_result",
          "data": {
            "text/plain": [
              "<matplotlib.legend.Legend at 0x7fa2f30fef50>"
            ]
          },
          "metadata": {},
          "execution_count": 45
        },
        {
          "output_type": "display_data",
          "data": {
            "text/plain": [
              "<Figure size 432x288 with 1 Axes>"
            ],
            "image/png": "[encoded data removed]"
          },
          "metadata": {
            "needs_background": "light"
          }
        }
      ],
      "source": [
        "import matplotlib.pyplot as plt\n",
        "\n",
        "plt.plot(range(1,5),lasso_test_RMSE,label='TEST')\n",
        "plt.plot(range(1,5),lasso_train_RMSE,label='TRAIN')\n",
        "plt.xlabel(\"Polynomial Complexity\")\n",
        "plt.ylabel(\"RMSE\")\n",
        "plt.ylim(0,25)\n",
        "plt.legend()"
      ]
    },
    {
      "cell_type": "code",
      "source": [
        "# As shown in the plot, degree 4 is the best model fit\n",
        "print(lasso_coef[3]) \n",
        "print(lasso_test_RMSE[3])\n",
        "print(lasso_alpha[3])"
      ],
      "metadata": {
        "colab": {
          "base_uri": "https://localhost:8080/"
        },
        "id": "vZXThC39MmXP",
        "outputId": "edceadb0-4d64-4a75-bae8-e370adbbcc6e"
      },
      "execution_count": null,
      "outputs": [
        {
          "output_type": "stream",
          "name": "stdout",
          "text": [
            "[ 0.          0.         -7.34335133 ...  0.          0.\n",
            "  0.        ]\n",
            "22.460768605535858\n",
            "3.4204844352613235\n"
          ]
        }
      ]
    },
    {
      "cell_type": "markdown",
      "metadata": {
        "id": "M8SOg6KEuQYq"
      },
      "source": [
        "### 9a- Evaluate different degrees of Ridge CV polynomial regression"
      ]
    },
    {
      "cell_type": "code",
      "execution_count": null,
      "metadata": {
        "collapsed": true,
        "id": "IqWaySbcuQYq",
        "jupyter": {
          "outputs_hidden": true
        }
      },
      "outputs": [],
      "source": [
        "from sklearn.linear_model import RidgeCV\n",
        "def doRidgeCV(degree):\n",
        "    return doModel(\"Ridge CV\", RidgeCV(alphas=(0.1, 1.0, 10.0),scoring='neg_mean_absolute_error'), degree)"
      ]
    },
    {
      "cell_type": "code",
      "source": [
        "ridge_test_RMSE = []\n",
        "ridge_train_RMSE = []\n",
        "ridge_coef = []\n",
        "ridge_alpha = []\n",
        "\n",
        "for i in range(1,5):\n",
        "    test_RMSE, train_RMSE, coef, alpha, ratio = doRidgeCV(i)\n",
        "    ridge_test_RMSE.append(test_RMSE)\n",
        "    ridge_train_RMSE.append(train_RMSE)    \n",
        "    ridge_coef.append(coef)\n",
        "    ridge_alpha.append(alpha)\n",
        "# doLassoCV(2)"
      ],
      "metadata": {
        "colab": {
          "base_uri": "https://localhost:8080/"
        },
        "id": "wr769-F1tNWg",
        "outputId": "7ed06c90-c530-4ea0-bb71-41d7fd7051bb"
      },
      "execution_count": null,
      "outputs": [
        {
          "output_type": "stream",
          "name": "stdout",
          "text": [
            "Ridge CV\n",
            "degree = 1\n",
            "alpha = 1.0\n",
            "Test Set Performance\n",
            "RMSE = 22.22581865329533\n",
            "Training Set Performance\n",
            "RMSE = 22.104446314771774\n",
            "Ridge CV\n",
            "degree = 2\n",
            "alpha = 0.1\n",
            "Test Set Performance\n",
            "RMSE = 18.70860660436676\n",
            "Training Set Performance\n",
            "RMSE = 18.310759338531724\n",
            "Ridge CV\n",
            "degree = 3\n",
            "alpha = 0.1\n",
            "Test Set Performance\n",
            "RMSE = 17.09051768637183\n",
            "Training Set Performance\n",
            "RMSE = 15.659403038696714\n",
            "Ridge CV\n",
            "degree = 4\n",
            "alpha = 0.1\n",
            "Test Set Performance\n",
            "RMSE = 17.964610902224027\n",
            "Training Set Performance\n",
            "RMSE = 13.503887450140564\n"
          ]
        }
      ]
    },
    {
      "cell_type": "markdown",
      "metadata": {
        "id": "8Bj_3j9RuQYr"
      },
      "source": [
        "### 9b- Choose the best degree and print the errors, model coefficients and the Ridge parameters."
      ]
    },
    {
      "cell_type": "code",
      "execution_count": null,
      "metadata": {
        "id": "4q5E5NnbuQYr",
        "jupyter": {
          "outputs_hidden": true
        },
        "colab": {
          "base_uri": "https://localhost:8080/",
          "height": 300
        },
        "outputId": "955fd686-dca0-414c-d71e-6930520782e8"
      },
      "outputs": [
        {
          "output_type": "execute_result",
          "data": {
            "text/plain": [
              "<matplotlib.legend.Legend at 0x7fa2f30748d0>"
            ]
          },
          "metadata": {},
          "execution_count": 47
        },
        {
          "output_type": "display_data",
          "data": {
            "text/plain": [
              "<Figure size 432x288 with 1 Axes>"
            ],
            "image/png": "[encoded data removed]"
          },
          "metadata": {
            "needs_background": "light"
          }
        }
      ],
      "source": [
        "plt.plot(range(1,5),ridge_test_RMSE,label='TEST')\n",
        "plt.plot(range(1,5),ridge_train_RMSE,label='TRAIN')\n",
        "plt.xlabel(\"Polynomial Complexity\")\n",
        "plt.ylabel(\"RMSE\")\n",
        "plt.ylim(0,25)\n",
        "plt.legend()"
      ]
    },
    {
      "cell_type": "code",
      "source": [
        "print(ridge_coef[2])\n",
        "print(ridge_test_RMSE[2])\n",
        "print(ridge_alpha[2])"
      ],
      "metadata": {
        "colab": {
          "base_uri": "https://localhost:8080/"
        },
        "id": "lq9hg5uzONiu",
        "outputId": "b8eabf9f-5a87-4873-f748-23c088dea58a"
      },
      "execution_count": null,
      "outputs": [
        {
          "output_type": "stream",
          "name": "stdout",
          "text": [
            "[ 1.11610738e+01  2.55564377e+01 -1.54939952e+01 -2.56727328e+01\n",
            "  2.84074830e+01 -5.98963550e+00  8.61509958e+00  1.19114508e+00\n",
            "  4.47935429e+00 -2.31281533e+01  2.27173410e+00 -1.44116997e+01\n",
            " -1.75552422e+01  7.83861072e+00 -1.31129269e+01 -4.52601778e+01\n",
            "  6.68980166e+00  1.56483556e+01 -4.67632624e+00 -1.34058940e+01\n",
            " -3.21563023e+01  4.43331748e+01  1.11076666e+01 -1.99016493e+01\n",
            " -2.91690501e+01 -2.33429139e+00 -3.19770867e+00  9.47188523e+00\n",
            "  2.10864331e+01  1.04113567e+01 -6.53467029e+00  4.35726517e+01\n",
            " -2.81920052e-01  2.54313712e+01 -2.32018047e+01  3.53406007e+01\n",
            "  7.76616116e+00 -3.86220843e+00 -7.12595287e+00 -1.07016834e+01\n",
            " -1.82707759e+01  1.11795874e+01  2.33285204e+01 -1.53851737e+01\n",
            "  2.17731934e+01  4.76672862e+00 -3.72282538e+01  2.74179849e+01\n",
            "  1.12365294e+01  1.62948913e+01  1.02482861e+01 -8.89369852e+00\n",
            " -2.57377060e+01  3.71152029e+01 -1.12080701e+01 -4.98613186e+01\n",
            " -6.39486030e+00 -1.82570154e+01 -3.95226741e+00  1.09397217e+00\n",
            "  2.85224972e+01  1.39489021e+01 -4.34947731e+00 -4.04143086e+00\n",
            "  3.38030253e+01  9.52082221e+00 -7.32706644e+00 -6.15744982e+00\n",
            " -5.58170559e+00  6.31714565e-02 -1.68380707e+01  1.87479517e+00\n",
            " -6.67229993e+00  9.24678109e+00 -1.49154581e+01  1.73035349e+01\n",
            " -5.60749271e+01 -2.25198230e-01  1.38335332e+00  1.64588964e+01\n",
            " -5.81850848e+01  4.98082790e+01  4.07012061e+00  1.87850383e+01\n",
            " -5.76285303e+00 -2.22835607e+01  1.06679724e+01  2.27173410e+00\n",
            " -1.37147558e+01  3.37024551e+01 -1.59248208e+00  2.50320503e+01\n",
            " -2.10716645e-02 -7.73934529e+00  1.71270691e+01  6.41583191e+00\n",
            " -9.90446135e+00 -2.82174688e+01 -3.04544375e+01  8.21453341e+00\n",
            " -1.77563194e+01 -1.45311296e+01  1.54734623e+01  4.95519877e+01\n",
            "  1.28795324e+01  9.23475444e+00  3.58330029e-02  6.72528607e+00\n",
            " -2.00549802e+01 -2.85920917e-01  7.63503319e-03  7.62717077e+00\n",
            "  1.05268326e+01  5.64128825e+00 -3.98314866e+00  2.75990904e+00\n",
            "  1.42340186e+01  1.29653078e+01  1.24326472e+01 -4.97083641e+01\n",
            " -1.95953491e+01 -1.25848334e+01  2.24531326e+01 -3.14698358e+00\n",
            " -1.19342884e+01 -1.96601635e+01  4.54791483e+01 -8.48716889e+00\n",
            "  6.09958957e+00 -7.03641434e+01 -4.54657150e+01  9.11174699e+00\n",
            "  1.63426271e+01  3.32703667e+00  2.21109153e+01  2.39917717e+01\n",
            " -3.51113861e+01 -1.24836437e+00  6.57985260e+00  1.01661335e+01\n",
            "  5.39590254e+00  4.95969630e+01 -2.43935801e+01  6.39709269e+01\n",
            " -1.38081491e+01  1.53821921e+01 -4.36833364e+00 -2.63037796e+01\n",
            "  4.22492726e+01  8.18120821e+01  3.87028610e+00 -4.33170595e+00\n",
            " -1.11669141e+01 -9.80153600e+00  2.66967753e+01 -4.22403690e+01\n",
            " -1.34745993e+01  5.65214582e+00  7.98526402e-01  4.17356752e+01\n",
            " -3.26142542e+01 -1.73755937e+01  5.67108243e+00  4.51967782e+01\n",
            " -2.23238417e+01  1.10542319e+01 -1.90997519e+01  2.49074178e+01\n",
            " -1.79993638e+01 -4.10642440e+01  8.33361196e+00  1.66127748e+01\n",
            " -3.49903643e+01 -8.76517371e+00 -9.24024039e+00  3.68307330e+01\n",
            "  1.57181764e+01 -2.94516927e+01 -1.87410664e+01 -9.29251652e+00\n",
            "  5.73603653e+00  2.15030250e+01 -1.97189310e+01  5.48479927e+00\n",
            " -4.46737950e+01  3.77290310e+01 -1.75292297e+01 -1.64636322e+00\n",
            " -2.84379367e+01  2.03935278e+01  3.62281461e+00  2.39231688e+01\n",
            " -3.24169154e+00  3.61789290e+01 -4.09385690e+01 -1.26193434e+01\n",
            " -3.38132430e+00  3.55292405e+01  9.33839201e+00 -4.93124253e+01\n",
            " -3.60990263e+01 -1.42895730e+01  3.51477901e+01  2.49562303e+00\n",
            "  9.26014460e+00  6.81891829e+00  2.27859537e+01 -7.91325027e+01\n",
            "  4.37874216e+01  5.64897454e+00 -3.47119319e+00  2.08024995e+01\n",
            "  7.37944189e+01  1.36790793e+01 -3.91763686e+01  7.19657748e+00\n",
            " -1.28237087e+01  1.08359197e+01  5.13977235e+01  6.45265612e+01\n",
            " -4.85172877e+01  8.73153596e+01 -6.62464815e+00 -1.02278327e+01\n",
            " -1.00865000e+02 -9.33767495e+01  4.31866841e+01  1.79959703e+01\n",
            "  2.33611955e+01  4.75983498e-01  1.11881516e+01  2.53062261e+01\n",
            " -2.24104791e+01 -3.01143239e+01 -1.49329923e+01  1.23324653e+01\n",
            "  1.44507903e+00 -2.20053951e+00 -1.07888414e+01 -1.50123050e+01\n",
            " -1.00043414e+01 -1.10709921e+01  3.54095739e+01 -5.55621364e+00\n",
            "  5.00686425e+01 -1.20842965e+01 -5.42708872e-02  3.68435906e+00\n",
            " -5.58623453e+01 -4.98407624e+01  5.93934206e+01  8.20507766e+00\n",
            " -5.27233227e+01 -3.49629002e+01 -4.28392574e+00 -1.63428686e+01\n",
            "  6.40096441e+01  2.29885082e+01  8.88232662e+00 -2.72745106e+00\n",
            "  1.63771366e+01 -5.62491076e+00  2.26344388e+01  5.52183120e+01\n",
            " -7.89886685e+00 -1.58786696e+01 -7.05436800e+00 -2.88528190e+00\n",
            "  1.71423634e+01 -1.76433739e+01  2.63907506e+01 -3.84237394e+01\n",
            " -1.01039065e+01 -1.67054165e+01  6.91653604e+00  2.08428078e+01\n",
            "  3.18377450e+01 -1.77412666e+01  1.96844435e+01  2.45580554e+01\n",
            " -1.86097670e+01  1.10207829e+01  3.75561671e+00 -4.00773806e+00\n",
            "  2.41087898e+01 -3.13832673e+00 -1.52762947e+01  2.22968533e+01\n",
            "  1.59954087e+00  2.17920265e+01 -2.98536133e+01  1.72367623e+01\n",
            " -1.54587692e+01  1.12553676e+01 -5.64660323e+01 -5.99471819e+00\n",
            "  4.65656076e+00 -4.67843367e+01  3.38875712e+01  3.29547425e+01\n",
            " -1.64849673e+01  1.33301205e+01 -1.79375869e+00  4.26330997e+01\n",
            " -3.73666719e+01  2.23330962e+01 -7.39387985e+01  3.08799771e+01\n",
            " -1.30144940e+01  6.59955259e+01  3.17903981e+00  2.72488560e+01\n",
            " -2.70352910e+00  1.95515978e+01 -4.84714351e+01 -1.44801008e+00\n",
            "  6.53169805e+00  1.16130215e+01  2.36382000e+01 -2.21883272e+01\n",
            " -5.05402856e+00  5.12594984e+01  1.62896388e+01 -6.04303587e+01\n",
            "  1.53291835e+02  2.57654905e+01  9.77695229e+00 -7.92852840e+00\n",
            " -5.89991499e+01 -8.28442340e+00  1.19070676e+01 -2.58027387e+01\n",
            "  3.79891599e+01  8.16014282e+00 -3.95497112e+01  3.46382656e+01\n",
            "  1.82799438e+01  2.67362442e+01  1.62083145e+01 -4.77955611e+00\n",
            " -1.14836031e+01 -1.39385621e+01  2.22982120e+01  2.21463274e+01\n",
            "  1.17829310e+01 -1.03233276e+01 -4.17492823e+00 -5.01579812e+01\n",
            " -3.88148255e+01 -3.04072373e+01  1.22542033e+01 -1.19279201e-01\n",
            " -3.20650702e+01 -5.96322937e+00 -2.16211727e+01 -4.68954469e+01\n",
            " -8.96515580e+00 -2.79474433e+01 -1.83384764e+01  1.86706002e+01\n",
            " -1.72345240e+01  1.51617919e+01 -4.33392836e+00 -2.32394661e+00\n",
            "  3.62482130e+00  1.68328315e+00 -5.39147619e+00  2.86375170e+01\n",
            "  1.49093031e+01 -1.27644403e+01 -2.03976627e-01 -3.91510470e+01\n",
            " -9.12392500e+00  1.40345856e+01  4.73673241e+01 -4.28044975e+00\n",
            " -3.31690532e+01  5.37980570e+00  1.93325416e+01  4.05440804e+01\n",
            "  1.00754622e+00 -4.24453309e+00 -8.88123136e+00 -1.75813623e+01\n",
            " -3.28684340e+01 -9.01460716e+01  3.39442665e+01  1.71250101e+01\n",
            " -2.07363876e+01 -8.25881004e+01  9.22279218e+00 -2.53498431e+01\n",
            "  1.93492362e+01 -7.29217943e+00 -3.82981444e+00 -6.32537397e+00\n",
            " -5.50820148e+00  3.12828726e+01  1.05164444e+01 -3.15489018e+01\n",
            "  6.06938672e+00  5.13527693e+01  6.26380542e-01  1.49038505e+01\n",
            "  3.76104044e+01  2.74747538e+01 -2.88331720e+01 -1.67950654e+01\n",
            " -3.53911746e+01 -5.05155748e+01 -1.04298458e+02  1.70705797e+00\n",
            "  7.45268950e-01  5.34440733e+00 -5.43656323e+00  6.24950232e+00\n",
            "  9.87850353e+00 -1.35852448e+01  1.84068549e+01  2.53786274e+01\n",
            " -6.23409651e+01 -2.70087695e+01  1.73821353e+01  1.75295661e+01\n",
            "  2.24784531e+01  9.78982032e+01 -5.63621219e+01  2.55147943e+01\n",
            "  4.83932412e+01 -5.84314001e-02 -2.14477310e+00  1.57570923e+00\n",
            "  1.70003562e+01 -2.24045504e+01  3.55946782e+01  4.04118272e+01\n",
            " -5.85656278e+01 -2.77004537e+01 -3.50666183e+01  4.99969610e+01\n",
            " -8.97658990e+00  3.66061080e+00  1.86959643e+01 -1.39196211e+00\n",
            "  3.11394482e+00 -5.01382240e+00 -7.16287559e+00 -2.14387538e+01\n",
            "  1.20785252e+01 -2.79321428e+00  2.27173410e+00 -1.30176548e+01\n",
            "  3.45933507e+01 -5.80588480e+01]\n",
            "17.09051768637183\n",
            "0.1\n"
          ]
        }
      ]
    },
    {
      "cell_type": "markdown",
      "metadata": {
        "id": "MN4RwweLuQYr"
      },
      "source": [
        "### 10a- Evaluate different degrees of ElasticNet CV polynomial regression"
      ]
    },
    {
      "cell_type": "code",
      "execution_count": 143,
      "metadata": {
        "collapsed": true,
        "id": "qK9SePrtuQYr",
        "jupyter": {
          "outputs_hidden": true
        }
      },
      "outputs": [],
      "source": [
        "from sklearn.linear_model import ElasticNetCV\n",
        "def doElasticNetCV(degree):\n",
        "    return doModel(\"ElasticNet CV\", ElasticNetCV(l1_ratio=[.1, .5, .7,.9, .95, .99, 1],tol=0.01,max_iter=10000), degree)\n"
      ]
    },
    {
      "cell_type": "code",
      "source": [
        "elastic_test_RMSE = []\n",
        "elastic_train_RMSE = []\n",
        "elastic_coef = []\n",
        "elastic_alpha = []\n",
        "elastic_ratio = []\n",
        "\n",
        "for i in range(1,5):\n",
        "    test_RMSE, train_RMSE, coef, alpha, ratio = doElasticNetCV(i)\n",
        "    elastic_test_RMSE.append(test_RMSE)\n",
        "    elastic_train_RMSE.append(train_RMSE)    \n",
        "    elastic_coef.append(coef)\n",
        "    elastic_alpha.append(alpha)\n",
        "    elastic_ratio.append(ratio)"
      ],
      "metadata": {
        "colab": {
          "base_uri": "https://localhost:8080/"
        },
        "id": "ojQhciYcxF49",
        "outputId": "360b9d42-a5f4-49da-afbd-ddd4cc6d58c9"
      },
      "execution_count": 144,
      "outputs": [
        {
          "output_type": "stream",
          "name": "stdout",
          "text": [
            "ElasticNet CV\n",
            "degree = 1\n",
            "alpha = 0.033928122729437335\n",
            "Test Set Performance\n",
            "RMSE = 22.170035123388182\n",
            "Training Set Performance\n",
            "RMSE = 22.111109758596253\n",
            "ElasticNet CV\n",
            "degree = 2\n",
            "alpha = 0.033938106840490354\n",
            "Test Set Performance\n",
            "RMSE = 19.314169205987824\n",
            "Training Set Performance\n",
            "RMSE = 19.110038213139543\n",
            "ElasticNet CV\n",
            "degree = 3\n",
            "alpha = 0.03420376268214311\n",
            "Test Set Performance\n",
            "RMSE = 18.131753096320043\n",
            "Training Set Performance\n",
            "RMSE = 17.5870131753047\n",
            "ElasticNet CV\n",
            "degree = 4\n",
            "alpha = 0.034204844352613235\n",
            "Test Set Performance\n",
            "RMSE = 17.511036065955878\n",
            "Training Set Performance\n",
            "RMSE = 16.857826146653956\n"
          ]
        }
      ]
    },
    {
      "cell_type": "markdown",
      "metadata": {
        "id": "JSt5s73XuQYr"
      },
      "source": [
        "### 10b- Choose the best degree and print the errors, model coefficients and ElasticNet parameters."
      ]
    },
    {
      "cell_type": "code",
      "execution_count": 126,
      "metadata": {
        "collapsed": true,
        "id": "UkbcQLlLuQYr",
        "jupyter": {
          "outputs_hidden": true
        },
        "colab": {
          "base_uri": "https://localhost:8080/",
          "height": 300
        },
        "outputId": "ffdd1a67-67b7-4cf9-a4e1-989a7445b1b3"
      },
      "outputs": [
        {
          "output_type": "execute_result",
          "data": {
            "text/plain": [
              "<matplotlib.legend.Legend at 0x7fa2f25badd0>"
            ]
          },
          "metadata": {},
          "execution_count": 126
        },
        {
          "output_type": "display_data",
          "data": {
            "text/plain": [
              "<Figure size 432x288 with 1 Axes>"
            ],
            "image/png": "[encoded data removed]"
          },
          "metadata": {
            "needs_background": "light"
          }
        }
      ],
      "source": [
        "plt.plot(range(1,5),elastic_test_RMSE,label='TEST')\n",
        "plt.plot(range(1,5),elastic_train_RMSE,label='TRAIN')\n",
        "plt.xlabel(\"Polynomial Complexity\")\n",
        "plt.ylabel(\"RMSE\")\n",
        "plt.ylim(0,25)\n",
        "plt.legend()"
      ]
    },
    {
      "cell_type": "code",
      "source": [
        "print(elastic_coef[3])\n",
        "print(elastic_test_RMSE[3])\n",
        "print(elastic_ratio[3])"
      ],
      "metadata": {
        "colab": {
          "base_uri": "https://localhost:8080/"
        },
        "id": "536qD9qIPord",
        "outputId": "6b0aeaf2-c8d1-4e70-e7b0-52e6204d6a64"
      },
      "execution_count": 129,
      "outputs": [
        {
          "output_type": "stream",
          "name": "stdout",
          "text": [
            "[ 19.69277636  20.65361979 -11.15686078 ...   6.31738213  -0.\n",
            "  -2.56201443]\n",
            "17.53879794155433\n",
            "1.0\n"
          ]
        }
      ]
    },
    {
      "cell_type": "markdown",
      "metadata": {
        "id": "O_cuFINquQYs"
      },
      "source": [
        "### 11- Compare the errors from the 3 regularization techniques, and save the best model."
      ]
    },
    {
      "cell_type": "code",
      "execution_count": null,
      "metadata": {
        "collapsed": true,
        "id": "qn58GoGpuQYs",
        "jupyter": {
          "outputs_hidden": true
        },
        "colab": {
          "base_uri": "https://localhost:8080/"
        },
        "outputId": "d84882e3-eb0e-48ad-cb75-e16f5d214459"
      },
      "outputs": [
        {
          "output_type": "execute_result",
          "data": {
            "text/plain": [
              "['scaler.joblib']"
            ]
          },
          "metadata": {},
          "execution_count": 104
        }
      ],
      "source": [
        "from joblib import dump\n",
        "\n",
        "degree = 3\n",
        "\n",
        "model = RidgeCV(alphas=(0.1, 1.0, 10.0),scoring='neg_mean_absolute_error')\n",
        "polynomial_converter = PolynomialFeatures(degree=degree,include_bias=False)\n",
        "poly_features = polynomial_converter.fit_transform(x)\n",
        "scaler = StandardScaler()\n",
        "scaler.fit(poly_features)\n",
        "poly_features = scaler.transform(poly_features)\n",
        "\n",
        "model.fit(poly_features, y.values)\n",
        "\n",
        "dump(model, 'air_quality_poly.joblib')\n",
        "dump(polynomial_converter, 'polynomial_converter.joblib')\n",
        "dump(scaler, 'scaler.joblib')"
      ]
    },
    {
      "cell_type": "code",
      "source": [
        "sample = [pd.Series({\n",
        "    'PT08.S1(CO)':      1360.0,\n",
        "    'PT08.S2(NMHC)':    1046.0,\n",
        "    'PT08.S3(NOx)':     1056.0,\n",
        "    'PT08.S4(NO2)':     1692.0,\n",
        "    'PT08.S5(O3)':      1268.0,\n",
        "    'T':                  13.6,\n",
        "    'RH':                 48.9,\n",
        "    'AH':               0.7578,\n",
        "    'Month':                 3,\n",
        "    'Day':                  10,\n",
        "    'Year':               2004,\n",
        "    'Hour':                 18,\n",
        "})]\n",
        "sample = polynomial_converter.transform(sample)\n",
        "sample = scaler.transform(sample)\n",
        "model.predict(sample)"
      ],
      "metadata": {
        "colab": {
          "base_uri": "https://localhost:8080/"
        },
        "id": "a1EPYlKrXxiN",
        "outputId": "fab23210-a7ef-4a8a-bb66-1d099ec2502f"
      },
      "execution_count": null,
      "outputs": [
        {
          "output_type": "stream",
          "name": "stderr",
          "text": [
            "/usr/local/lib/python3.7/dist-packages/sklearn/base.py:451: UserWarning: X does not have valid feature names, but PolynomialFeatures was fitted with feature names\n",
            "  \"X does not have valid feature names, but\"\n"
          ]
        },
        {
          "output_type": "execute_result",
          "data": {
            "text/plain": [
              "array([130.63615715])"
            ]
          },
          "metadata": {},
          "execution_count": 105
        }
      ]
    },
    {
      "cell_type": "markdown",
      "metadata": {
        "id": "IUGAAZY4uQYs"
      },
      "source": [
        "### 12- Load the best model and test it on a sample that you manually created it."
      ]
    },
    {
      "cell_type": "code",
      "execution_count": null,
      "metadata": {
        "collapsed": true,
        "id": "SIw1mo3kuQYs",
        "jupyter": {
          "outputs_hidden": true
        }
      },
      "outputs": [],
      "source": [
        "from joblib import load\n",
        "loaded_model = load('air_quality_poly.joblib')\n",
        "loaded_poly_converter = load('polynomial_converter.joblib')\n",
        "loaded_scaler = load('scaler.joblib')"
      ]
    },
    {
      "cell_type": "code",
      "source": [
        "new_sample = [pd.Series({\n",
        "    'PT08.S1(CO)':      1360.0,\n",
        "    'PT08.S2(NMHC)':    1046.0,\n",
        "    'PT08.S3(NOx)':     1056.0,\n",
        "    'PT08.S4(NO2)':     1692.0,\n",
        "    'PT08.S5(O3)':      1268.0,\n",
        "    'T':                  13.6,\n",
        "    'RH':                 48.9,\n",
        "    'AH':               0.7578,\n",
        "    'Month':                 3,\n",
        "    'Day':                  10,\n",
        "    'Year':               2004,\n",
        "    'Hour':                 18,\n",
        "})]\n"
      ],
      "metadata": {
        "id": "KBaU381Y6Sms"
      },
      "execution_count": null,
      "outputs": []
    },
    {
      "cell_type": "code",
      "source": [
        "converted_sample = loaded_poly_converter.transform(new_sample)\n",
        "converted_sample = loaded_scaler.transform(converted_sample)\n",
        "loaded_model.predict(converted_sample)"
      ],
      "metadata": {
        "colab": {
          "base_uri": "https://localhost:8080/"
        },
        "id": "lYc2TF-1SIy8",
        "outputId": "854e6ceb-1ded-4ed4-c473-2539ba680950"
      },
      "execution_count": null,
      "outputs": [
        {
          "output_type": "stream",
          "name": "stderr",
          "text": [
            "/usr/local/lib/python3.7/dist-packages/sklearn/base.py:451: UserWarning: X does not have valid feature names, but PolynomialFeatures was fitted with feature names\n",
            "  \"X does not have valid feature names, but\"\n"
          ]
        },
        {
          "output_type": "execute_result",
          "data": {
            "text/plain": [
              "array([130.63615715])"
            ]
          },
          "metadata": {},
          "execution_count": 112
        }
      ]
    },
    {
      "cell_type": "markdown",
      "metadata": {
        "id": "G3dUEoJjj-AK"
      },
      "source": [
        "## Great work!\n",
        "----"
      ]
    }
  ],
  "metadata": {
    "anaconda-cloud": {},
    "colab": {
      "provenance": []
    },
    "kernelspec": {
      "display_name": "Python 3 (ipykernel)",
      "language": "python",
      "name": "python3"
    },
    "language_info": {
      "codemirror_mode": {
        "name": "ipython",
        "version": 3
      },
      "file_extension": ".py",
      "mimetype": "text/x-python",
      "name": "python",
      "nbconvert_exporter": "python",
      "pygments_lexer": "ipython3",
      "version": "3.9.6"
    }
  },
  "nbformat": 4,
  "nbformat_minor": 0
}